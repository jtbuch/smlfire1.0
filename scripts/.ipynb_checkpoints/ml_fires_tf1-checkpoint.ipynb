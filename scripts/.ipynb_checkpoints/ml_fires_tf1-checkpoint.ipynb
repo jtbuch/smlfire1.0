{
 "cells": [
  {
   "cell_type": "markdown",
   "metadata": {
    "id": "07EE3utzMZHi"
   },
   "source": [
    "# Estimating regional fire frequency and size with MDN\n",
    "\n",
    "Authors: Kenza Amara (v1) || Jatan Buch (v2, 210913)\n",
    "\n",
    "Note (210922): Notebook archived with TF-1.14.0 compatibility; known issues: cdf for ZINB distribution needs to be written in closed-form for assessing NN performance."
   ]
  },
  {
   "cell_type": "markdown",
   "metadata": {
    "id": "1NPgLnL3MZHm"
   },
   "source": [
    "## 1 - Packages"
   ]
  },
  {
   "cell_type": "markdown",
   "metadata": {
    "id": "dbxgRBWtMZHn"
   },
   "source": [
    "Let's first import all the packages that we will need during this assignment."
   ]
  },
  {
   "cell_type": "code",
   "execution_count": 26,
   "metadata": {
    "colab": {
     "base_uri": "https://localhost:8080/"
    },
    "executionInfo": {
     "elapsed": 3241,
     "status": "ok",
     "timestamp": 1608648058329,
     "user": {
      "displayName": "Jessalyn Chuang",
      "photoUrl": "",
      "userId": "15246295192484075185"
     },
     "user_tz": 300
    },
    "id": "gSMhuNuhMZHn",
    "outputId": "38ca8570-c4d6-44cb-acdb-e56bf8457b6a"
   },
   "outputs": [],
   "source": [
    "import numpy as np\n",
    "import pandas as pd\n",
    "from time import clock\n",
    "from datetime import datetime, timedelta\n",
    "from cftime import num2date, date2num, DatetimeGregorian\n",
    "from tqdm import tqdm\n",
    "\n",
    "#Import and write files\n",
    "import csv\n",
    "import netCDF4 # module that reads in .nc files (built on top of HDF5 format)\n",
    "import pandas as pd\n",
    "import geopandas as gpd\n",
    "from geopandas.tools import sjoin\n",
    "import xarray\n",
    "import rioxarray\n",
    "\n",
    "from shapely.geometry import Point, mapping\n",
    "from shapely.geometry.polygon import Polygon\n",
    "from pyproj import CRS, Transformer # for transforming projected coordinates to elliptical coordinates\n",
    "import cartopy.crs as ccrs # for defining and transforming coordinate systems\n",
    "import cartopy.feature as cfeature # to add features to a cartopy map\n",
    "import cartopy.io.shapereader as shpreader\n",
    "\n",
    "#self-libraries\n",
    "from fire_utils import ncdump, coord_transform, bailey_ecoprovince_shp, bailey_ecoprovince_mask, update_reg_indx, mon_fire_freq, tindx_func, clim_pred_var  \n",
    "from stats_utils import uni_lsq_regression_model, multi_regression_model\n",
    "\n",
    "#Helper functions\n",
    "from math import factorial\n",
    "from scipy.special import gamma\n",
    "from sklearn.base import BaseEstimator, ClassifierMixin\n",
    "from sklearn.exceptions import NotFittedError\n",
    "from tensorflow.python import ops\n",
    "from tensorflow.python import debug as tf_debug\n",
    "\n",
    "#Plot modules\n",
    "import matplotlib.pyplot as plt\n",
    "import seaborn as sns\n",
    "%matplotlib inline\n",
    "%config IPython.matplotlib.backend = 'retina'\n",
    "%config InlineBackend.figure_format = 'retina'\n",
    "\n",
    "#Stats modules\n",
    "from scipy import stats\n",
    "from scipy.stats import norm, pareto, genpareto\n",
    "import statsmodels.api as sm\n",
    "from scipy import stats, interpolate\n",
    "from scipy.optimize import minimize\n",
    "\n",
    "# Data processing\n",
    "from sklearn.preprocessing import StandardScaler, MinMaxScaler\n",
    "from sklearn.model_selection import train_test_split\n",
    "\n",
    "#modules for Machine Learning\n",
    "from sklearn.ensemble import RandomForestRegressor\n",
    "from sklearn.model_selection import RandomizedSearchCV, GridSearchCV\n",
    "from sklearn.ensemble import RandomForestClassifier\n",
    "from sklearn import metrics\n",
    "from sklearn.metrics import confusion_matrix\n",
    "from sklearn.linear_model import LinearRegression\n",
    "\n",
    "#modules for Neural Network\n",
    "import tensorflow as tf\n",
    "#import tensorflow.compat.v1 as tf\n",
    "#tf.disable_v2_behavior()\n",
    "#from tensorflow.keras import layers\n",
    "#from tensorflow.python.ops.parallel_for.gradients import jacobian"
   ]
  },
  {
   "cell_type": "code",
   "execution_count": 2,
   "metadata": {},
   "outputs": [],
   "source": [
    "fire_size_df= pd.read_hdf('../data/clim_fire_size_data.h5')\n",
    "fire_freq_df= pd.read_hdf('../data/clim_fire_freq_data.h5')"
   ]
  },
  {
   "cell_type": "markdown",
   "metadata": {
    "id": "rrfZdStrMZHp"
   },
   "source": [
    "## 2 - Extreme event distributions\n",
    "\n",
    "In this section, we define the type of distributions we will be working with. In particular, we introduce distributions, or equivalently loss functions, for both the fire frequency counts and burned area size of large fires:\n",
    "* Count distributions: Negative Binomial, Poisson, as well as their zero-inflated versions.\n",
    "* Extreme value distributions: Generalized Pareto Distribution (GPD), Lognormal. "
   ]
  },
  {
   "cell_type": "markdown",
   "metadata": {
    "id": "6HvsGY4rMZHq"
   },
   "source": [
    "### 2.0 Count models"
   ]
  },
  {
   "cell_type": "markdown",
   "metadata": {
    "id": "djElDhYZMZHq"
   },
   "source": [
    "#### 2.0.1 Zero-inflated negative binomial distribution (ZINB)"
   ]
  },
  {
   "cell_type": "code",
   "execution_count": 3,
   "metadata": {},
   "outputs": [],
   "source": [
    "def nb2(y, mu, delta, cdf_flag= False):\n",
    "    p_rescaled= 1 - mu/(mu + delta)\n",
    "    if not cdf_flag:\n",
    "        binom_fact= tf.exp(tf.lgamma(y + delta))/(tf.exp(tf.lgamma(y + 1))*tf.exp(tf.lgamma(delta)))\n",
    "        return(binom_fact*p_rescaled**delta)*((1 - p_rescaled)**y) # recale with binomial coefficient\n",
    "        #return(stats.nbinom.pmf(k= y, n= delta, p= p_rescaled))\n",
    "    else:\n",
    "        return 1.0 #return(stats.nbinom.cdf(k= y, n= delta, p= p_rescaled))"
   ]
  },
  {
   "cell_type": "code",
   "execution_count": 4,
   "metadata": {},
   "outputs": [],
   "source": [
    "def zinb(y, pi, mu, delta, cdf_flag= False):\n",
    "    try:\n",
    "        ind_func_zero= (y == 0).astype('float')\n",
    "        ind_func_count= (y != 0).astype('float')\n",
    "    except:\n",
    "        ind_func_zero= float(y == 0)\n",
    "        ind_func_count= float(y != 0)\n",
    "        \n",
    "    p_rescaled= 1 - mu/(mu + delta)\n",
    "    zero_process= tf.multiply(((1  - pi) + tf.multiply(pi, tf.pow(p_rescaled, delta))), ind_func_zero)\n",
    "    count_process= tf.multiply(tf.multiply(pi, nb2(y, mu, delta, cdf_flag)), ind_func_count)\n",
    "    \n",
    "    return(zero_process + count_process)"
   ]
  },
  {
   "cell_type": "markdown",
   "metadata": {
    "id": "djElDhYZMZHq"
   },
   "source": [
    "#### 2.0.2 Zero-inflated poisson distribution (ZIPD)"
   ]
  },
  {
   "cell_type": "code",
   "execution_count": 5,
   "metadata": {},
   "outputs": [],
   "source": [
    "def poisson_func(y, mu, cdf_flag= False):\n",
    "    if not cdf_flag:\n",
    "        return stats.poisson.pmf(y, mu)\n",
    "    else:\n",
    "        return stats.poisson.cdf(y, mu)"
   ]
  },
  {
   "cell_type": "code",
   "execution_count": 6,
   "metadata": {},
   "outputs": [],
   "source": [
    "def zipd(y, pi, mu, cdf_flag= False):\n",
    "    ind_func_zero= (y == 0).astype('float')\n",
    "    ind_func_count= (y != 0).astype('float')\n",
    "    \n",
    "    zero_process= tf.multiply(((1 - pi) + tf.multiply(pi, np.exp(-mu))), ind_func_zero)\n",
    "    count_process= tf.multiply(tf.multiply(pi, poisson_func(y, mu, cdf_flag)), ind_func_count)\n",
    "    \n",
    "    return(zero_process + count_process)"
   ]
  },
  {
   "cell_type": "markdown",
   "metadata": {
    "id": "6HvsGY4rMZHq"
   },
   "source": [
    "### 2.1 Burned area models"
   ]
  },
  {
   "cell_type": "markdown",
   "metadata": {
    "id": "djElDhYZMZHq"
   },
   "source": [
    "#### 2.1.1 Generalized Pareto Distribution (GPD)\n",
    "We define the Generalized Pareto density function `gpd` that we divide by the appropriate reweighting factor `gamma`, so that the density integrates to one. We finally get the corrected function `gpd_correct`. We then create the mixture distribution `phi`, which is a weighted combination of GPD, whose weights are the probabilities for each mode."
   ]
  },
  {
   "cell_type": "code",
   "execution_count": 29,
   "metadata": {
    "id": "Nt61Fg3-MZHr"
   },
   "outputs": [],
   "source": [
    "def gpd(y,shape,scale):\n",
    "    return(((1+ shape * y/scale)**(-1/shape - 1))/scale)\n",
    "\n",
    "# Gamma definition\n",
    "def lambertw(z):\n",
    "    \"\"\"\n",
    "    Calculate the k=0 branch of lambert w function.\n",
    "    Inverse of z*exp(z), i.e. w(z)*exp(w(z)) = z\n",
    "    Iterative algorithm from\n",
    "    https://www.quora.com/How-is-the-Lambert-W-Function-computed\n",
    "    Gradient from implicit differentiation.\n",
    "    \"\"\"\n",
    "    step_tol = 1e-12\n",
    "\n",
    "    def cond(w, step):\n",
    "        return tf.greater(tf.reduce_max(tf.abs(step)), step_tol)\n",
    "\n",
    "    def body(w, step):\n",
    "        ew = tf.exp(w)\n",
    "        numer = w*ew - z\n",
    "        step = numer/(ew*(w+1) - (w+2)*numer/(2*w + 2))\n",
    "        w = w - step\n",
    "        return w, step\n",
    "\n",
    "    w = tf.log(1 + z)\n",
    "    step = w\n",
    "\n",
    "    w, step = tf.while_loop(\n",
    "        cond, body, (w, step), back_prop=False,\n",
    "        maximum_iterations=20\n",
    "        )\n",
    "\n",
    "    def grad_fn(dy):\n",
    "        print('Calling grad_fn')\n",
    "        return w / (z*(1 + w))\n",
    "\n",
    "    return w, grad_fn\n",
    "\n",
    "def W(shape):\n",
    "    z=((1+shape)**2)/(2*np.pi)\n",
    "    L, grad_fn=lambertw(z)\n",
    "    return(L)\n",
    "\n",
    "def gamma_norm(shape):\n",
    "    err = tf.erf(tf.sqrt(W(shape)/2))\n",
    "    return(1+(1+err)/2)\n",
    "\n",
    "def gpd_correct(y,shape,scale):\n",
    "    return(gpd(y,shape,scale)/gamma_norm(shape))\n",
    "\n",
    "# Mixture of GPDs\n",
    "def phi(y, p, shape, scale):\n",
    "    s = tf.multiply(p[:,0],gpd(y, shape[:,0], scale[:,0]))\n",
    "    for j in range(1,p.shape[1]):\n",
    "        s = tf.add(s,tf.multiply(p[:,j],gpd(y, shape[:,j], scale[:,j])))\n",
    "    return(s)"
   ]
  },
  {
   "cell_type": "markdown",
   "metadata": {
    "id": "-HshwumxMZHu"
   },
   "source": [
    "#### CDF\n",
    "We define the Generalized Pareto cumulative distribution `GPD`. We then create the mixture `phi_cdf`, which is a weighted combination of cumulative distributions, whose weights are the probabilities for each mode. "
   ]
  },
  {
   "cell_type": "code",
   "execution_count": 30,
   "metadata": {
    "id": "oApa9sGeMZHv"
   },
   "outputs": [],
   "source": [
    "def GPD(y, shape, scale):\n",
    "    res = (1 + shape*y/scale)**(-1/scale)\n",
    "    cdf = (1-res) #should be divided by gamma to ensure proper normalization\n",
    "    return(cdf) \n",
    "\n",
    "def phi_cdf(y, p, shape, scale):\n",
    "    s = tf.multiply(p[:,0],GPD(y, shape[:,0], scale[:,0]))\n",
    "    for j in range(1,p.shape[1]):\n",
    "        s = tf.add(s,tf.multiply(p[:,j],GPD(y, shape[:,j], scale[:,j])))\n",
    "    return(tf.gather(s, np.argsort(y)))"
   ]
  },
  {
   "cell_type": "markdown",
   "metadata": {
    "id": "6HvsGY4rMZHq"
   },
   "source": [
    "#### 2.1.2 Lognormal distribution"
   ]
  },
  {
   "cell_type": "markdown",
   "metadata": {
    "id": "0tgnGFmRMZHv"
   },
   "source": [
    "### Empirical cumulative distribution\n",
    "We want to compare our theoretical cumulative distributions computed with the parameters returned by the Network, with the empirical distribution function (or, eCDF) constructed from data. We build an empirical CDF with the aid of the package statsmodel."
   ]
  },
  {
   "cell_type": "code",
   "execution_count": 9,
   "metadata": {
    "id": "Aiu1_aeqMZHw"
   },
   "outputs": [],
   "source": [
    "def cdf_empirical(data):\n",
    "    data_sorted=np.sort(data)\n",
    "    ecdf = sm.distributions.ECDF(data_sorted)\n",
    "    #x = np.linspace(min(data_sorted), max(data_sorted))\n",
    "    cdf_emp = ecdf(data_sorted)\n",
    "    return(cdf_emp.astype(np.float32))"
   ]
  },
  {
   "cell_type": "markdown",
   "metadata": {
    "id": "tW2-WVjGMZHw"
   },
   "source": [
    "## 3 - Neural Network"
   ]
  },
  {
   "cell_type": "markdown",
   "metadata": {
    "id": "SorHcimGMZHx"
   },
   "source": [
    "### 3.1 Error metrics"
   ]
  },
  {
   "cell_type": "code",
   "execution_count": 10,
   "metadata": {
    "id": "6x07Am02MZHx"
   },
   "outputs": [],
   "source": [
    "def MAE(y, y_pred):\n",
    "    resid = tf.abs(y - y_pred)\n",
    "    mae = tf.reduce_mean(resid)\n",
    "    return(mae)\n",
    "\n",
    "def AIC(y, y_pred, k):\n",
    "    resid = y - y_pred\n",
    "    sse = tf.reduce_mean(tf.square(resid))\n",
    "    return(2*k - 2*tf.log(sse))\n",
    "\n",
    "def BIC(y, y_pred, k=4):\n",
    "    resid = y - y_pred\n",
    "    n = tf.shape(y_pred)[0]\n",
    "    n = tf.cast(n, tf.float32)\n",
    "    sse = tf.reduce_sum(tf.square(resid))\n",
    "    return(k*np.log(n) + n*tf.log(sse/n))"
   ]
  },
  {
   "cell_type": "markdown",
   "metadata": {
    "id": "oPoIH5auMZHy"
   },
   "source": [
    "### 3.2 Network implementation"
   ]
  },
  {
   "cell_type": "code",
   "execution_count": 11,
   "metadata": {
    "id": "Jlo1mXv1MZHy"
   },
   "outputs": [],
   "source": [
    "# We try three different initialisations\n",
    "#he_init= tf.contrib.layers.variance_scaling_initializer(factor=1.0, mode='FAN_AVG', uniform=False)\n",
    "he_init = tf.keras.initializers.VarianceScaling(scale=1.0, mode='fan_avg', distribution='truncated_normal',seed=None) \n",
    "\n",
    "#xavier_init= init = tf.contrib.layers.xavier_initializer() #Previous study used xavier initalizer. In TensorFlow 2.0,\n",
    "#this is the same as Glorot Uniform Initializer.\n",
    "\n",
    "glorot_init= tf.keras.initializers.glorot_uniform\n",
    "#glorot_init = tf.initializers.GlorotUniform()"
   ]
  },
  {
   "cell_type": "code",
   "execution_count": 31,
   "metadata": {
    "id": "cNdbQQG-MZHy"
   },
   "outputs": [],
   "source": [
    "class Network:\n",
    "\n",
    "    def __init__(self, m = 2, n_hidden_layers=1, n_epochs=10, n_neurons=3, decay=None, threshold=None, loss_choice= 'gpd', optimizer_class= tf.train.AdamOptimizer, learning_rate=0.01,batch_size=100, decay_steps = 40, activation=tf.tanh, initializer=he_init,batch_norm_momentum=None, dropout_rate=None,max_checks_without_progress=20,show_progress=1,tensorboard_logdir=None, random_state=None):\n",
    "        ''' initialize the classifier with default (best) parameters '''\n",
    "        #tf.keras.optimizers.Adam\n",
    "        self.m = m #number of mixture components\n",
    "        self.n_epochs = n_epochs\n",
    "        self.n_hidden_layers = n_hidden_layers\n",
    "        self.n_neurons = n_neurons\n",
    "        self.threshold = threshold\n",
    "        self.decay=decay\n",
    "        self.loss_choice = loss_choice\n",
    "        self.optimizer_class = optimizer_class\n",
    "        self.learning_rate = learning_rate\n",
    "        self.decay_steps = decay_steps\n",
    "        self.batch_size = batch_size\n",
    "        self.activation = activation\n",
    "        self.initializer = initializer\n",
    "        self.batch_norm_momentum = batch_norm_momentum\n",
    "        self.dropout_rate = dropout_rate\n",
    "        self.max_checks_without_progress = max_checks_without_progress\n",
    "        self.show_progress = show_progress\n",
    "        self.random_state = random_state\n",
    "        self.tensorboard_logdir = tensorboard_logdir\n",
    "        self._session = None #Instance variables preceded by _ are private members\n",
    "        \n",
    "    def _dnn(self, inputs):\n",
    "        \n",
    "        for layer in range(self.n_hidden_layers):\n",
    "            \n",
    "            # Apply dropout if specified\n",
    "            if self.dropout_rate:\n",
    "                inputs = tf.layers.dropout(inputs, rate=self.dropout_rate,training=self._training)\n",
    "        \n",
    "            # Create the hidden layer\n",
    "            inputs = tf.layers.dense(inputs, self.n_neurons, activation=self.activation, kernel_initializer=self.initializer, name = \"hidden{}\".format(layer+1))\n",
    "            layernorm= tf.keras.layers.LayerNormalization()\n",
    "            inputs = layernorm(inputs) #tf.contrib.layers.layer_norm(inputs)\n",
    "            \n",
    "            if self.batch_norm_momentum:\n",
    "                inputs = tf.layers.batch_normalization(inputs,momentum=self.batch_norm_momentum,training=self._training)\n",
    "            \n",
    "            # Apply activation function\n",
    "            inputs = self.activation(inputs, name=\"hidden{}_out\".format(layer+1))\n",
    "        return(inputs)\n",
    "\n",
    "    \n",
    "    def _construct_graph(self, n_inputs, n_outputs):\n",
    "        if self.random_state:\n",
    "            tf.set_random_seed(self.random_state)\n",
    "            np.random.seed(self.random_state)\n",
    "            \n",
    "        # Placeholders for training data, labels are class exclusive integers\n",
    "        X= tf.placeholder(tf.float32, shape=[None, n_inputs], name=\"X\") #tf.keras.Input(name= \"X\", shape=(), dtype=tf.dtypes.float32)\n",
    "        y= tf.placeholder(tf.float32, shape=[None,], name=\"y\") #tf.keras.Input(name= \"y\", shape=(), dtype=tf.dtypes.float32)\n",
    "        \n",
    "        # Create a training placeholder -- figure out how to replace this in TF v2\n",
    "        if self.batch_norm_momentum or self.dropout_rate:\n",
    "            self._training = tf.placeholder_with_default(False, shape=[], name=\"training\")\n",
    "        else:\n",
    "            self._training = None\n",
    "        \n",
    "        \n",
    "        # Output after hidden layers \n",
    "        pre_output = self._dnn(X)\n",
    "        \n",
    "        W_in = tf.get_variable(\"weights_in\", shape=[n_inputs, n_outputs],\n",
    "                    initializer=self.initializer)\n",
    "        W_out = tf.get_variable(\"weights_out\", shape=[self.n_neurons, n_outputs],\n",
    "                    initializer=self.initializer)\n",
    "        b = tf.get_variable(\"bias\", shape=n_outputs,\n",
    "                    initializer=tf.zeros_initializer())\n",
    "        logits = tf.matmul(X, W_in) + tf.matmul(pre_output, W_out) + b #first term corresponds to linear regression\n",
    "    \n",
    "        p, shape, scale = tf.split(logits, 3, axis = 1) #splits the output matrix into 3 groups \n",
    "        if self.loss_choice == 'gpd':\n",
    "            p = tf.nn.softmax(p, name=\"p\")\n",
    "        elif self.loss_choice == 'zinb':\n",
    "            p = tf.sigmoid(p, name=\"p\")\n",
    "        \n",
    "        shape = tf.nn.softplus(shape, name='shape')\n",
    "        scale = tf.nn.softplus(scale, name='scale')\n",
    "        outputs = tf.concat([p, shape, scale], axis=1, name='outputs')\n",
    "        \n",
    "        \n",
    "        '''Loss function is the neg-log-likelihood''' # modify mixture model apparatus for poisson counts model\n",
    "        if self.loss_choice == 'gpd':\n",
    "            prob= tf.identity(phi(y, p, shape, scale), name=\"prob\")\n",
    "            #dens = tf.py_func(kde_density, [y], tf.float32)\n",
    "            cdf= phi_cdf(y, p, shape, scale)\n",
    "        elif self.loss_choice == 'zinb':\n",
    "            prob= tf.identity(zinb(y, p, shape, scale), name=\"prob\")\n",
    "            cdf= zinb(y, p, shape, scale, cdf_flag= True)\n",
    "\n",
    "        loss = tf.reduce_mean(-tf.log(prob), name=\"loss\") \n",
    "        cdf_emp = tf.py_func(cdf_empirical, [y], tf.float32)\n",
    "        \n",
    "        \n",
    "        '''Error metrics'''\n",
    "        error = - tf.reduce_mean(tf.log(cdf/cdf_emp), name=\"error\")\n",
    "        mae = tf.identity(MAE(cdf, cdf_emp), name=\"mae\")\n",
    "        k = self.n_neurons + self.n_hidden_layers + self.m #there should be a multiplication sign here + contribution of input nodes\n",
    "        aic = tf.identity(AIC(cdf, cdf_emp, k), name='aic')\n",
    "        \n",
    "        '''Accuracy metric'''\n",
    "        err = 100 * tf.reduce_mean(tf.abs(error))\n",
    "        #err = 100 * tf.reduce_mean(tf.abs(mae/cdf_emp))\n",
    "        acc = 100 - err\n",
    "        \n",
    "        #loss = tf.identity(tf.abs(error) + aic, name=\"loss\")\n",
    "\n",
    "        \n",
    "        '''Optimizer and training operation. The control dependency is necessary for implementing batch normalization. The training operation must be dependent on the batch normalization.'''\n",
    "        '''if self.decay = True, we can implement a learning schedule for the optimizer'''\n",
    "        if self.decay: \n",
    "            global_step = tf.Variable(0, trainable=False)\n",
    "            starter_learning_rate = self.learning_rate\n",
    "            decay_steps = self.decay_steps\n",
    "            learning_rate = tf.train.exponential_decay(starter_learning_rate, global_step, decay_steps, 10, staircase=True)\n",
    "        else:\n",
    "            learning_rate = self.learning_rate\n",
    "        \n",
    "        '''Gradient clipping if necessary'''\n",
    "        threshold = self.threshold\n",
    "        optimizer = self.optimizer_class(learning_rate=self.learning_rate)\n",
    "        if threshold==None:\n",
    "            training_op = optimizer.minimize(loss) #, var_list= [W_in, W_out, b], tape = tf.GradientTape())\n",
    "        else:\n",
    "            grads_and_vars = optimizer.compute_gradients(loss)\n",
    "            capped_gvs = [(tf.clip_by_value(grad, -threshold, threshold), var) for grad, var in grads_and_vars]\n",
    "            update_ops = tf.get_collection(tf.GraphKeys.UPDATE_OPS)\n",
    "            with tf.control_dependencies(update_ops):\n",
    "                training_op = optimizer.apply_gradients(capped_gvs)\n",
    "        \n",
    "        init = tf.global_variables_initializer()\n",
    "        saver = tf.train.Saver()\n",
    "           \n",
    "            \n",
    "        if self.tensorboard_logdir:\n",
    "            now = datetime.utcnow().strftime('%Y%m%d-%H%M%S')\n",
    "            tb_logdir = self.tensorboard_logdir + \"/run-{}\".format(now)\n",
    "            cost_summary = tf.summary.scalar(\"validation_loss\", loss)\n",
    "            merged_summary = tf.summary.merge_all()\n",
    "            file_writer = tf.summary.FileWriter(tb_logdir,tf.get_default_graph())\n",
    "            \n",
    "            self._merged_summary = merged_summary\n",
    "            self._file_writer = file_writer\n",
    "            \n",
    "        self._X, self._y = X, y\n",
    "        self._logits = logits\n",
    "        self._outputs = outputs\n",
    "        self._cdf_emp = cdf_emp\n",
    "        self._cdf = cdf\n",
    "        self._prob = prob\n",
    "        #self._dens = dens\n",
    "        self._loss = loss\n",
    "        self._error = error\n",
    "        self._aic = aic\n",
    "        self._mae = mae\n",
    "        self._acc = acc\n",
    "        self._shape = shape\n",
    "        self._scale = scale\n",
    "        self._p = p\n",
    "        self._training_op = training_op\n",
    "        self._init, self._saver = init, saver\n",
    "        \n",
    "        loss_list=list()\n",
    "        acc_list=list()\n",
    "\n",
    "        val_acc_list=list()\n",
    "        val_loss_list=list()\n",
    "        \n",
    "        self._acc_list = acc_list \n",
    "        self._val_acc_list = val_acc_list\n",
    "        self._loss_list = loss_list\n",
    "        self._val_loss_list = val_loss_list\n",
    "\n",
    "    def close_session(self):\n",
    "        if self._session:\n",
    "            self._session.close()\n",
    "            \n",
    "    def _get_model_parameters(self):\n",
    "        # Retrieves the value of all the variables in the network \n",
    "        with self._graph.as_default():\n",
    "            gvars = tf.get_collection(tf.GraphKeys.GLOBAL_VARIABLES)\n",
    "        return({gvar.op.name: value for gvar, value in zip(gvars, self._session.run(gvars))})\n",
    "    \n",
    "    def _restore_model_parameters(self, model_params):\n",
    "        # Restores the value of all variables using tf assign operations\n",
    "        # First retrieve the list of all the graph variables\n",
    "        gvar_names = list(model_params.keys())\n",
    "        \n",
    "        # Then retrieve all the assignment operations in the graph\n",
    "        assign_ops = {gvar_name: self._graph.get_operation_by_name(gvar_name+\"/Assign\") for gvar_name in gvar_names}\n",
    "        \n",
    "        # Fetch the initialization values of the assignment operations\n",
    "        '''graph.get_operation_by_name(operation).inputs returns the input to the given operation; because these are all assignment operations, the second argument to inputs is the value assigned to the variable'''\n",
    "        init_values = {gvar_name: assign_op.inputs[1] for gvar_name, assign_op in assign_ops.items()}\n",
    "        # Create a dictionary mapping initial values to values after training\n",
    "        feed_dict = {init_values[gvar_name]: model_params[gvar_name] for gvar_name in gvar_names}\n",
    "        # Assign the trained value to all the variables in the graph\n",
    "        self._session.run(assign_ops, feed_dict=feed_dict)\n",
    "        \n",
    "\n",
    "    def fit(self,X,y, X_valid=None, y_valid=None):\n",
    "        ''' train the network, and if warm_start, then do not reinit. the network\n",
    "            (if it has already been initialized)\n",
    "        '''\n",
    "        \n",
    "        # Method to train the model. Implements early stopping if validation data is provided \n",
    "        \n",
    "        aic_list=list()\n",
    "        mae_list=list()\n",
    "        \n",
    "        self.close_session()\n",
    "        n_inputs = X.shape[1]\n",
    "        \n",
    "        # Output of the neural network\n",
    "        n_outputs = 3*self.m\n",
    "        \n",
    "        # If labels are provided in one_hot form, convert to integer class labels\n",
    "        y = np.array(y, dtype=np.float32)\n",
    "        y_valid = np.array(y_valid, dtype=np.float32)\n",
    "        X = np.array(X, dtype=np.float32)\n",
    "        \n",
    "        self._graph = tf.Graph()\n",
    "        \n",
    "        # Build the computation graph with self as default graph\n",
    "        with self._graph.as_default():\n",
    "            self._construct_graph(n_inputs, n_outputs)\n",
    "            \n",
    "        # Early stopping parameters\n",
    "        checks_without_progress = 0 \n",
    "        best_loss = np.float(\"inf\")\n",
    "        best_parameters = None\n",
    "        \n",
    "        self._session = tf.Session(graph=self._graph)\n",
    "\n",
    "        with self._session.as_default() as sess:\n",
    "            # Initialize all variables\n",
    "            self._init.run()\n",
    "            num_instances = X.shape[0] # Total number of training instances\n",
    "            for epoch in range(self.n_epochs):\n",
    "                avg_loss=0.\n",
    "                avg_mae=0.\n",
    "                avg_aic=0.\n",
    "                avg_acc=0.\n",
    "                rnd_idx = np.random.permutation(num_instances)\n",
    "                total_batch = num_instances // self.batch_size\n",
    "                for rnd_indices in np.array_split(rnd_idx, total_batch):\n",
    "                    X_batch, y_batch = X[rnd_indices], y[rnd_indices]\n",
    "                    feed_dict = {self._X: X_batch, self._y: y_batch}\n",
    "                    if self._training is not None:\n",
    "                        feed_dict[self._training] = True\n",
    "                    train_shape, train_scale, train_p, train_acc, train_aic, train_mae, train_loss, train_cdf, train_cdf_emp, train_prob, train_outputs, _ = sess.run([self._shape, \n",
    "                        self._scale, self._p, self._acc, self._aic, self._mae, self._loss, self._cdf, self._cdf_emp, self._prob, self._outputs, self._training_op],feed_dict)\n",
    "                    \n",
    "                    avg_loss += train_loss / total_batch\n",
    "                    avg_mae += train_mae / total_batch\n",
    "                    avg_aic += train_aic / total_batch\n",
    "                    avg_acc += train_acc / total_batch\n",
    "                \n",
    "                    \n",
    "                self._loss_list = np.append(self._loss_list, avg_loss)\n",
    "                self._acc_list = np.append(self._acc_list, avg_acc)\n",
    "                # Early stopping implementation\n",
    "                if X_valid is not None and y_valid is not None:\n",
    "                    feed_dict_valid = {self._X: X_valid, self._y: y_valid}\n",
    "\n",
    "                    # Write summary for tensorboard\n",
    "                    if self.tensorboard_logdir:\n",
    "                        val_loss, val_acc, summary = sess.run([self._loss, self._acc, self._merged_summary], feed_dict=feed_dict_valid)\n",
    "                        \n",
    "                        self._file_writer.add_summary(summary, epoch)\n",
    "\n",
    "                    else:\n",
    "                        val_loss, val_acc = sess.run([self._loss, self._acc], feed_dict=feed_dict_valid)\n",
    "                        \n",
    "                    # Show training progress every show_progress epochs\n",
    "                    if self.show_progress:\n",
    "                        if epoch % self.show_progress == 0:\n",
    "                            print(\"Epoch: {} Current training accuracy: {:.4f} Validation Accuracy: {:.4f} Validation Loss {:.6f}\".format(epoch+1, train_acc, val_acc, val_loss))\n",
    "                            \n",
    "                    # Check to see if model is improving \n",
    "                    if val_loss < best_loss:\n",
    "                        best_loss = val_loss\n",
    "                        checks_without_progress = 0\n",
    "                        best_parameters = self._get_model_parameters()\n",
    "                    else:\n",
    "                        checks_without_progress += 1\n",
    "                        \n",
    "                    self._val_loss_list = np.append(self._val_loss_list, val_loss)\n",
    "                    self._val_acc_list = np.append(self._val_acc_list, val_acc)\n",
    "\n",
    "                    if checks_without_progress > self.max_checks_without_progress:\n",
    "                        print(\"Stopping Early! Loss has not improved in {} epochs\".format(self.max_checks_without_progress))\n",
    "                        break\n",
    "                        \n",
    "                   \n",
    "\n",
    "                # No validation set provided\n",
    "                else:\n",
    "                    if self.show_progress:\n",
    "                        if epoch % self.show_progress == 0:\n",
    "                            print(\"Epoch: {} Current Loss: {:.4f} Current Accuracy: {}%.\".format(epoch+1, avg_loss, avg_acc))\n",
    "                            \n",
    "            \n",
    "            # Get the number of epochs\n",
    "            epochs = range(len(self._acc_list))\n",
    "\n",
    "            if X_valid is not None and y_valid is not None:\n",
    "                plt.title('Training and validation accuracy')\n",
    "                plt.plot(epochs, self._acc_list, color='blue', label='Train')\n",
    "                plt.plot(epochs, self._val_acc_list, color='orange', label='Val')\n",
    "                plt.xlabel('Epoch')\n",
    "                plt.ylabel('Accuracy')\n",
    "                plt.legend()\n",
    "\n",
    "                _ = plt.figure()\n",
    "                plt.title('Training and validation loss')\n",
    "                plt.plot(epochs, self._loss_list, color='blue', label='Train')\n",
    "                plt.plot(epochs, self._val_loss_list, color='orange', label='Val')\n",
    "                plt.xlabel('Epoch')\n",
    "                plt.ylabel('Loss')\n",
    "                plt.legend()\n",
    "                plt.show()\n",
    "\n",
    "            # In the case of early stopping, restore the best weight values\n",
    "            if best_parameters:\n",
    "                self._restore_model_parameters(best_parameters)\n",
    "                return(self)\n",
    "            \n",
    "            \n",
    "    def __get_list__(self):\n",
    "        return(self._acc_list, self._val_acc_list, self._loss_list, self._val_loss_list)\n",
    "            \n",
    "    def predict_outputs(self, X):\n",
    "        # Predict the probabilities p and the parameters psi\n",
    "        if not self._session:\n",
    "            raise NotFittedError(\"This %s instance is not fitted yet\" % self.__class__.__name__)\n",
    "        with self._session.as_default() as sess:\n",
    "            return(self._outputs.eval(feed_dict={self._X: X}))\n",
    "        \n",
    "    def save(self, path):\n",
    "        # Save the model to provided path\n",
    "        self._saver.save(self._session, path)\n",
    "    \n",
    "    \n",
    "    def evaluate(self, X, y):\n",
    "        if not self._session:\n",
    "            raise NotFittedError(\"This %s instance is not fitted yet\" % self.__class__.__name__)\n",
    "        with self._session.as_default() as sess:\n",
    "            accuracy = self._acc.eval(feed_dict={self._X: X, self._y: y})\n",
    "            loss = self._loss.eval(feed_dict={self._X: X, self._y: y})\n",
    "            mae = self._mae.eval(feed_dict={self._X: X, self._y: y})\n",
    "            aic = self._aic.eval(feed_dict={self._X: X, self._y: y})\n",
    "            cdf = self._cdf.eval(feed_dict={self._X: X, self._y: y})\n",
    "            pdf = self._prob.eval(feed_dict={self._X: X, self._y: y})\n",
    "            \n",
    "            idx = np.argsort(y)\n",
    "            plt.figure(2)     \n",
    "            data_sorted = y[idx]\n",
    "            X0 = np.linspace(min(y), max(y))\n",
    "            ecdf = sm.distributions.ECDF(data_sorted)\n",
    "            cdf_emp = ecdf(X0).astype(np.float32)\n",
    "            plt.step(ecdf.x, ecdf.y, label=\"empirical distr.\")\n",
    "                    \n",
    "            #x_reduced, idx_sorted = np.unique(data_sorted, return_index=True)\n",
    "            #cdf_reduced= cdf[idx_sorted]\n",
    "            #plt.scatter(x_reduced, cdf_reduced, s=0.5, c='r', alpha=0.5, label=\"predicted distr.\")\n",
    "            \n",
    "            plt.title('Cumulative Plot: Empirical vs Predicted')\n",
    "            plt.legend()\n",
    "            plt.xlabel('Burned Area')\n",
    "            plt.ylabel('Cumulative distribution')\n",
    "            #plt.show()\n",
    "            \n",
    "            #plt.figure(3)  \n",
    "            #kde = stats.gaussian_kde(y, bw_method='silverman')\n",
    "            #X0 = np.linspace(min(y), max(y))\n",
    "            #pdf_emp = kde.evaluate(X0)\n",
    "            #plt.plot(X0, pdf_emp, label=\"empirical distr.\")\n",
    "                    \n",
    "            #x_reduced, idx_sorted = np.unique(data_sorted, return_index=True)\n",
    "            #pdf_reduced= pdf[idx_sorted]\n",
    "            #plt.scatter(x_reduced, pdf_reduced, s=0.5, c='r', alpha=0.5, label=\"predicted distr.\")\n",
    "            #sns.distplot(y, hist = False, kde = True,kde_kws = {'shade': True, 'linewidth': 3})\n",
    "            #plt.title('Density Plot: Empirical vs Predicted')\n",
    "            #plt.legend()\n",
    "            #plt.xlabel('Burned Area')\n",
    "            #plt.ylabel('Probability Density')\n",
    "            #plt.show()\n",
    "                    \n",
    "            \n",
    "            print('Accuracy:', round(np.mean(accuracy), 2), '%.')\n",
    "            print('Loss:', round(np.mean(loss), 5))\n",
    "            print('Mean Absolute Error:', round(np.mean(mae), 3), 'degrees.')\n",
    "            print('Akaike Information Criterion:', round(np.mean(aic), 2), 'degrees.')\n",
    "            return(accuracy, aic, mae)"
   ]
  },
  {
   "cell_type": "markdown",
   "metadata": {
    "id": "gzDZxsQ7MZH4",
    "tags": []
   },
   "source": [
    "## 4 - Training & Testing"
   ]
  },
  {
   "cell_type": "markdown",
   "metadata": {
    "id": "6we9bKVYMZIF"
   },
   "source": [
    "### 4.1 Hyperparameters Tuning\n",
    "\n",
    "To tune the hyper-parameters of our Network, we use 20% of our dataset of strictly positive burned areas.\n",
    "\n",
    "We try multiple combinations of parameters to find out the ones that optimize the learning process and give the best accuracy."
   ]
  },
  {
   "cell_type": "code",
   "execution_count": 13,
   "metadata": {
    "colab": {
     "base_uri": "https://localhost:8080/"
    },
    "executionInfo": {
     "elapsed": 787116,
     "status": "ok",
     "timestamp": 1608648879575,
     "user": {
      "displayName": "Jessalyn Chuang",
      "photoUrl": "",
      "userId": "15246295192484075185"
     },
     "user_tz": 300
    },
    "id": "pssZY6Q4MZIF",
    "outputId": "19b619c0-cbb0-4c08-da0b-c04f4398e60c"
   },
   "outputs": [
    {
     "data": {
      "text/plain": [
       "(1555, 12)"
      ]
     },
     "execution_count": 13,
     "metadata": {},
     "output_type": "execute_result"
    }
   ],
   "source": [
    "df_freq= fire_freq_df.sample(frac=0.2)\n",
    "df_freq.shape"
   ]
  },
  {
   "cell_type": "code",
   "execution_count": 14,
   "metadata": {},
   "outputs": [
    {
     "data": {
      "text/plain": [
       "(6174, 13)"
      ]
     },
     "execution_count": 14,
     "metadata": {},
     "output_type": "execute_result"
    }
   ],
   "source": [
    "df_size= fire_size_df.sample(frac=0.2)\n",
    "df_size.shape"
   ]
  },
  {
   "cell_type": "code",
   "execution_count": 33,
   "metadata": {
    "executionInfo": {
     "elapsed": 787115,
     "status": "ok",
     "timestamp": 1608648879578,
     "user": {
      "displayName": "Jessalyn Chuang",
      "photoUrl": "",
      "userId": "15246295192484075185"
     },
     "user_tz": 300
    },
    "id": "WiyDRWmmMZIF"
   },
   "outputs": [],
   "source": [
    "minmax_scaler = MinMaxScaler()\n",
    "\n",
    "Xs = df_freq[['Tmax', 'VPD', 'Prec', 'Antprec', 'ETo', 'Forest', 'Solar', 'Wind','Grassland']]\n",
    "#Xs = df_size[['Tmax', 'VPD', 'Prec', 'Antprec', 'ETo', 'Forest', 'Solar', 'Wind', 'Elev', 'Grassland']]\n",
    "Xs = minmax_scaler.fit_transform(Xs)\n",
    "Xs = np.array(Xs, dtype=np.float32)\n",
    "\n",
    "ys = np.array(df_freq.fire_freq)\n",
    "#ys = np.array(df_size.fire_size)"
   ]
  },
  {
   "cell_type": "markdown",
   "metadata": {
    "id": "WcROtKbTMZIG"
   },
   "source": [
    "We start with specific value for certain parameters that won't be change for reasons explained in our Paper:\n",
    "- Activation: ReLU, \n",
    "- Weight initialization: He, \n",
    "- Batch Normalisation: True\n",
    "- Dropout: None.\n",
    "    \n",
    "We tune the number of hidden layers, the number of neurons on layers, the number of modes and the learning rate"
   ]
  },
  {
   "cell_type": "code",
   "execution_count": 16,
   "metadata": {
    "executionInfo": {
     "elapsed": 787115,
     "status": "ok",
     "timestamp": 1608648879582,
     "user": {
      "displayName": "Jessalyn Chuang",
      "photoUrl": "",
      "userId": "15246295192484075185"
     },
     "user_tz": 300
    },
    "id": "rpYUikjnMZIG"
   },
   "outputs": [],
   "source": [
    "n_layers = [1,2]\n",
    "n_neurons = [3,10]"
   ]
  },
  {
   "cell_type": "code",
   "execution_count": 34,
   "metadata": {
    "colab": {
     "base_uri": "https://localhost:8080/",
     "height": 249
    },
    "executionInfo": {
     "elapsed": 822242,
     "status": "error",
     "timestamp": 1608648914749,
     "user": {
      "displayName": "Jessalyn Chuang",
      "photoUrl": "",
      "userId": "15246295192484075185"
     },
     "user_tz": 300
    },
    "id": "IZmZet_JMZIG",
    "outputId": "97952734-5055-495f-ff86-e9d91fe28c87",
    "scrolled": true
   },
   "outputs": [
    {
     "name": "stdout",
     "output_type": "stream",
     "text": [
      "WARNING:tensorflow:Entity <bound method Dense.call of <tensorflow.python.layers.core.Dense object at 0x7fab967d0b10>> could not be transformed and will be executed as-is. Please report this to the AutgoGraph team. When filing the bug, set the verbosity to 10 (on Linux, `export AUTOGRAPH_VERBOSITY=10`) and attach the full output. Cause: converting <bound method Dense.call of <tensorflow.python.layers.core.Dense object at 0x7fab967d0b10>>: AttributeError: module 'gast' has no attribute 'Index'\n",
      "WARNING: Entity <bound method Dense.call of <tensorflow.python.layers.core.Dense object at 0x7fab967d0b10>> could not be transformed and will be executed as-is. Please report this to the AutgoGraph team. When filing the bug, set the verbosity to 10 (on Linux, `export AUTOGRAPH_VERBOSITY=10`) and attach the full output. Cause: converting <bound method Dense.call of <tensorflow.python.layers.core.Dense object at 0x7fab967d0b10>>: AttributeError: module 'gast' has no attribute 'Index'\n",
      "WARNING:tensorflow:Entity <bound method BatchNormalization.call of <tensorflow.python.layers.normalization.BatchNormalization object at 0x7fab92bc4b10>> could not be transformed and will be executed as-is. Please report this to the AutgoGraph team. When filing the bug, set the verbosity to 10 (on Linux, `export AUTOGRAPH_VERBOSITY=10`) and attach the full output. Cause: converting <bound method BatchNormalization.call of <tensorflow.python.layers.normalization.BatchNormalization object at 0x7fab92bc4b10>>: AssertionError: Bad argument number for Name: 3, expecting 4\n",
      "WARNING: Entity <bound method BatchNormalization.call of <tensorflow.python.layers.normalization.BatchNormalization object at 0x7fab92bc4b10>> could not be transformed and will be executed as-is. Please report this to the AutgoGraph team. When filing the bug, set the verbosity to 10 (on Linux, `export AUTOGRAPH_VERBOSITY=10`) and attach the full output. Cause: converting <bound method BatchNormalization.call of <tensorflow.python.layers.normalization.BatchNormalization object at 0x7fab92bc4b10>>: AssertionError: Bad argument number for Name: 3, expecting 4\n",
      "Epoch: 1 Current Loss: nan Current Accuracy: nan%.\n",
      "Epoch: 2 Current Loss: nan Current Accuracy: nan%.\n",
      "Epoch: 3 Current Loss: nan Current Accuracy: nan%.\n",
      "Epoch: 4 Current Loss: nan Current Accuracy: nan%.\n",
      "Epoch: 5 Current Loss: nan Current Accuracy: nan%.\n",
      "Epoch: 6 Current Loss: nan Current Accuracy: nan%.\n",
      "Epoch: 7 Current Loss: nan Current Accuracy: nan%.\n",
      "Epoch: 8 Current Loss: nan Current Accuracy: nan%.\n",
      "Epoch: 9 Current Loss: nan Current Accuracy: nan%.\n",
      "Epoch: 10 Current Loss: nan Current Accuracy: nan%.\n",
      "Epoch: 11 Current Loss: nan Current Accuracy: nan%.\n",
      "Epoch: 12 Current Loss: nan Current Accuracy: nan%.\n",
      "Epoch: 13 Current Loss: nan Current Accuracy: nan%.\n",
      "Epoch: 14 Current Loss: nan Current Accuracy: nan%.\n",
      "Epoch: 15 Current Loss: nan Current Accuracy: nan%.\n",
      "Epoch: 16 Current Loss: nan Current Accuracy: nan%.\n",
      "Epoch: 17 Current Loss: nan Current Accuracy: nan%.\n",
      "Epoch: 18 Current Loss: nan Current Accuracy: nan%.\n",
      "Epoch: 19 Current Loss: nan Current Accuracy: nan%.\n",
      "Epoch: 20 Current Loss: nan Current Accuracy: nan%.\n",
      "Epoch: 21 Current Loss: nan Current Accuracy: nan%.\n",
      "Epoch: 22 Current Loss: nan Current Accuracy: nan%.\n",
      "Epoch: 23 Current Loss: nan Current Accuracy: nan%.\n",
      "Epoch: 24 Current Loss: nan Current Accuracy: nan%.\n",
      "Epoch: 25 Current Loss: nan Current Accuracy: nan%.\n",
      "Epoch: 26 Current Loss: nan Current Accuracy: nan%.\n",
      "Epoch: 27 Current Loss: nan Current Accuracy: nan%.\n",
      "Epoch: 28 Current Loss: nan Current Accuracy: nan%.\n",
      "Epoch: 29 Current Loss: nan Current Accuracy: nan%.\n",
      "Epoch: 30 Current Loss: nan Current Accuracy: nan%.\n",
      "Epoch: 31 Current Loss: nan Current Accuracy: nan%.\n",
      "Epoch: 32 Current Loss: nan Current Accuracy: nan%.\n",
      "Epoch: 33 Current Loss: nan Current Accuracy: nan%.\n",
      "Epoch: 34 Current Loss: nan Current Accuracy: nan%.\n",
      "Epoch: 35 Current Loss: nan Current Accuracy: nan%.\n",
      "Epoch: 36 Current Loss: nan Current Accuracy: nan%.\n",
      "Epoch: 37 Current Loss: nan Current Accuracy: nan%.\n",
      "Epoch: 38 Current Loss: nan Current Accuracy: nan%.\n",
      "Epoch: 39 Current Loss: nan Current Accuracy: nan%.\n",
      "Epoch: 40 Current Loss: nan Current Accuracy: nan%.\n",
      "Accuracy: nan %.\n",
      "Loss: nan\n",
      "Mean Absolute Error: nan degrees.\n",
      "Akaike Information Criterion: nan degrees.\n",
      "WARNING:tensorflow:Entity <bound method Dense.call of <tensorflow.python.layers.core.Dense object at 0x7fabb0cdfa50>> could not be transformed and will be executed as-is. Please report this to the AutgoGraph team. When filing the bug, set the verbosity to 10 (on Linux, `export AUTOGRAPH_VERBOSITY=10`) and attach the full output. Cause: converting <bound method Dense.call of <tensorflow.python.layers.core.Dense object at 0x7fabb0cdfa50>>: AttributeError: module 'gast' has no attribute 'Index'\n",
      "WARNING: Entity <bound method Dense.call of <tensorflow.python.layers.core.Dense object at 0x7fabb0cdfa50>> could not be transformed and will be executed as-is. Please report this to the AutgoGraph team. When filing the bug, set the verbosity to 10 (on Linux, `export AUTOGRAPH_VERBOSITY=10`) and attach the full output. Cause: converting <bound method Dense.call of <tensorflow.python.layers.core.Dense object at 0x7fabb0cdfa50>>: AttributeError: module 'gast' has no attribute 'Index'\n",
      "WARNING:tensorflow:Entity <bound method BatchNormalization.call of <tensorflow.python.layers.normalization.BatchNormalization object at 0x7fab915a2ad0>> could not be transformed and will be executed as-is. Please report this to the AutgoGraph team. When filing the bug, set the verbosity to 10 (on Linux, `export AUTOGRAPH_VERBOSITY=10`) and attach the full output. Cause: converting <bound method BatchNormalization.call of <tensorflow.python.layers.normalization.BatchNormalization object at 0x7fab915a2ad0>>: AssertionError: Bad argument number for Name: 3, expecting 4\n",
      "WARNING: Entity <bound method BatchNormalization.call of <tensorflow.python.layers.normalization.BatchNormalization object at 0x7fab915a2ad0>> could not be transformed and will be executed as-is. Please report this to the AutgoGraph team. When filing the bug, set the verbosity to 10 (on Linux, `export AUTOGRAPH_VERBOSITY=10`) and attach the full output. Cause: converting <bound method BatchNormalization.call of <tensorflow.python.layers.normalization.BatchNormalization object at 0x7fab915a2ad0>>: AssertionError: Bad argument number for Name: 3, expecting 4\n",
      "Epoch: 1 Current Loss: nan Current Accuracy: nan%.\n",
      "Epoch: 2 Current Loss: nan Current Accuracy: nan%.\n",
      "Epoch: 3 Current Loss: nan Current Accuracy: nan%.\n",
      "Epoch: 4 Current Loss: nan Current Accuracy: nan%.\n",
      "Epoch: 5 Current Loss: nan Current Accuracy: nan%.\n",
      "Epoch: 6 Current Loss: nan Current Accuracy: nan%.\n",
      "Epoch: 7 Current Loss: nan Current Accuracy: nan%.\n",
      "Epoch: 8 Current Loss: nan Current Accuracy: nan%.\n",
      "Epoch: 9 Current Loss: nan Current Accuracy: nan%.\n",
      "Epoch: 10 Current Loss: nan Current Accuracy: nan%.\n",
      "Epoch: 11 Current Loss: nan Current Accuracy: nan%.\n",
      "Epoch: 12 Current Loss: nan Current Accuracy: nan%.\n",
      "Epoch: 13 Current Loss: nan Current Accuracy: nan%.\n",
      "Epoch: 14 Current Loss: nan Current Accuracy: nan%.\n",
      "Epoch: 15 Current Loss: nan Current Accuracy: nan%.\n",
      "Epoch: 16 Current Loss: nan Current Accuracy: nan%.\n",
      "Epoch: 17 Current Loss: nan Current Accuracy: nan%.\n",
      "Epoch: 18 Current Loss: nan Current Accuracy: nan%.\n",
      "Epoch: 19 Current Loss: nan Current Accuracy: nan%.\n",
      "Epoch: 20 Current Loss: nan Current Accuracy: nan%.\n",
      "Epoch: 21 Current Loss: nan Current Accuracy: nan%.\n",
      "Epoch: 22 Current Loss: nan Current Accuracy: nan%.\n",
      "Epoch: 23 Current Loss: nan Current Accuracy: nan%.\n",
      "Epoch: 24 Current Loss: nan Current Accuracy: nan%.\n",
      "Epoch: 25 Current Loss: nan Current Accuracy: nan%.\n",
      "Epoch: 26 Current Loss: nan Current Accuracy: nan%.\n",
      "Epoch: 27 Current Loss: nan Current Accuracy: nan%.\n",
      "Epoch: 28 Current Loss: nan Current Accuracy: nan%.\n",
      "Epoch: 29 Current Loss: nan Current Accuracy: nan%.\n",
      "Epoch: 30 Current Loss: nan Current Accuracy: nan%.\n",
      "Epoch: 31 Current Loss: nan Current Accuracy: nan%.\n",
      "Epoch: 32 Current Loss: nan Current Accuracy: nan%.\n",
      "Epoch: 33 Current Loss: nan Current Accuracy: nan%.\n",
      "Epoch: 34 Current Loss: nan Current Accuracy: nan%.\n",
      "Epoch: 35 Current Loss: nan Current Accuracy: nan%.\n",
      "Epoch: 36 Current Loss: nan Current Accuracy: nan%.\n",
      "Epoch: 37 Current Loss: nan Current Accuracy: nan%.\n",
      "Epoch: 38 Current Loss: nan Current Accuracy: nan%.\n",
      "Epoch: 39 Current Loss: nan Current Accuracy: nan%.\n",
      "Epoch: 40 Current Loss: nan Current Accuracy: nan%.\n",
      "Accuracy: nan %.\n",
      "Loss: nan\n",
      "Mean Absolute Error: nan degrees.\n",
      "Akaike Information Criterion: nan degrees.\n",
      "WARNING:tensorflow:Entity <bound method Dense.call of <tensorflow.python.layers.core.Dense object at 0x7fab95f638d0>> could not be transformed and will be executed as-is. Please report this to the AutgoGraph team. When filing the bug, set the verbosity to 10 (on Linux, `export AUTOGRAPH_VERBOSITY=10`) and attach the full output. Cause: converting <bound method Dense.call of <tensorflow.python.layers.core.Dense object at 0x7fab95f638d0>>: AttributeError: module 'gast' has no attribute 'Index'\n",
      "WARNING: Entity <bound method Dense.call of <tensorflow.python.layers.core.Dense object at 0x7fab95f638d0>> could not be transformed and will be executed as-is. Please report this to the AutgoGraph team. When filing the bug, set the verbosity to 10 (on Linux, `export AUTOGRAPH_VERBOSITY=10`) and attach the full output. Cause: converting <bound method Dense.call of <tensorflow.python.layers.core.Dense object at 0x7fab95f638d0>>: AttributeError: module 'gast' has no attribute 'Index'\n",
      "WARNING:tensorflow:Entity <bound method BatchNormalization.call of <tensorflow.python.layers.normalization.BatchNormalization object at 0x7fab93886d90>> could not be transformed and will be executed as-is. Please report this to the AutgoGraph team. When filing the bug, set the verbosity to 10 (on Linux, `export AUTOGRAPH_VERBOSITY=10`) and attach the full output. Cause: converting <bound method BatchNormalization.call of <tensorflow.python.layers.normalization.BatchNormalization object at 0x7fab93886d90>>: AssertionError: Bad argument number for Name: 3, expecting 4\n",
      "WARNING: Entity <bound method BatchNormalization.call of <tensorflow.python.layers.normalization.BatchNormalization object at 0x7fab93886d90>> could not be transformed and will be executed as-is. Please report this to the AutgoGraph team. When filing the bug, set the verbosity to 10 (on Linux, `export AUTOGRAPH_VERBOSITY=10`) and attach the full output. Cause: converting <bound method BatchNormalization.call of <tensorflow.python.layers.normalization.BatchNormalization object at 0x7fab93886d90>>: AssertionError: Bad argument number for Name: 3, expecting 4\n",
      "WARNING:tensorflow:Entity <bound method Dense.call of <tensorflow.python.layers.core.Dense object at 0x7fab95f68e50>> could not be transformed and will be executed as-is. Please report this to the AutgoGraph team. When filing the bug, set the verbosity to 10 (on Linux, `export AUTOGRAPH_VERBOSITY=10`) and attach the full output. Cause: converting <bound method Dense.call of <tensorflow.python.layers.core.Dense object at 0x7fab95f68e50>>: AttributeError: module 'gast' has no attribute 'Index'\n",
      "WARNING: Entity <bound method Dense.call of <tensorflow.python.layers.core.Dense object at 0x7fab95f68e50>> could not be transformed and will be executed as-is. Please report this to the AutgoGraph team. When filing the bug, set the verbosity to 10 (on Linux, `export AUTOGRAPH_VERBOSITY=10`) and attach the full output. Cause: converting <bound method Dense.call of <tensorflow.python.layers.core.Dense object at 0x7fab95f68e50>>: AttributeError: module 'gast' has no attribute 'Index'\n",
      "WARNING:tensorflow:Entity <bound method BatchNormalization.call of <tensorflow.python.layers.normalization.BatchNormalization object at 0x7fab96722390>> could not be transformed and will be executed as-is. Please report this to the AutgoGraph team. When filing the bug, set the verbosity to 10 (on Linux, `export AUTOGRAPH_VERBOSITY=10`) and attach the full output. Cause: converting <bound method BatchNormalization.call of <tensorflow.python.layers.normalization.BatchNormalization object at 0x7fab96722390>>: AssertionError: Bad argument number for Name: 3, expecting 4\n",
      "WARNING: Entity <bound method BatchNormalization.call of <tensorflow.python.layers.normalization.BatchNormalization object at 0x7fab96722390>> could not be transformed and will be executed as-is. Please report this to the AutgoGraph team. When filing the bug, set the verbosity to 10 (on Linux, `export AUTOGRAPH_VERBOSITY=10`) and attach the full output. Cause: converting <bound method BatchNormalization.call of <tensorflow.python.layers.normalization.BatchNormalization object at 0x7fab96722390>>: AssertionError: Bad argument number for Name: 3, expecting 4\n",
      "Epoch: 1 Current Loss: nan Current Accuracy: nan%.\n",
      "Epoch: 2 Current Loss: nan Current Accuracy: nan%.\n",
      "Epoch: 3 Current Loss: nan Current Accuracy: nan%.\n",
      "Epoch: 4 Current Loss: nan Current Accuracy: nan%.\n",
      "Epoch: 5 Current Loss: nan Current Accuracy: nan%.\n",
      "Epoch: 6 Current Loss: nan Current Accuracy: nan%.\n",
      "Epoch: 7 Current Loss: nan Current Accuracy: nan%.\n",
      "Epoch: 8 Current Loss: nan Current Accuracy: nan%.\n",
      "Epoch: 9 Current Loss: nan Current Accuracy: nan%.\n",
      "Epoch: 10 Current Loss: nan Current Accuracy: nan%.\n",
      "Epoch: 11 Current Loss: nan Current Accuracy: nan%.\n",
      "Epoch: 12 Current Loss: nan Current Accuracy: nan%.\n",
      "Epoch: 13 Current Loss: nan Current Accuracy: nan%.\n",
      "Epoch: 14 Current Loss: nan Current Accuracy: nan%.\n",
      "Epoch: 15 Current Loss: nan Current Accuracy: nan%.\n",
      "Epoch: 16 Current Loss: nan Current Accuracy: nan%.\n",
      "Epoch: 17 Current Loss: nan Current Accuracy: nan%.\n",
      "Epoch: 18 Current Loss: nan Current Accuracy: nan%.\n",
      "Epoch: 19 Current Loss: nan Current Accuracy: nan%.\n",
      "Epoch: 20 Current Loss: nan Current Accuracy: nan%.\n",
      "Epoch: 21 Current Loss: nan Current Accuracy: nan%.\n",
      "Epoch: 22 Current Loss: nan Current Accuracy: nan%.\n",
      "Epoch: 23 Current Loss: nan Current Accuracy: nan%.\n",
      "Epoch: 24 Current Loss: nan Current Accuracy: nan%.\n",
      "Epoch: 25 Current Loss: nan Current Accuracy: nan%.\n",
      "Epoch: 26 Current Loss: nan Current Accuracy: nan%.\n",
      "Epoch: 27 Current Loss: nan Current Accuracy: nan%.\n",
      "Epoch: 28 Current Loss: nan Current Accuracy: nan%.\n",
      "Epoch: 29 Current Loss: nan Current Accuracy: nan%.\n",
      "Epoch: 30 Current Loss: nan Current Accuracy: nan%.\n",
      "Epoch: 31 Current Loss: nan Current Accuracy: nan%.\n",
      "Epoch: 32 Current Loss: nan Current Accuracy: nan%.\n",
      "Epoch: 33 Current Loss: nan Current Accuracy: nan%.\n",
      "Epoch: 34 Current Loss: nan Current Accuracy: nan%.\n",
      "Epoch: 35 Current Loss: nan Current Accuracy: nan%.\n",
      "Epoch: 36 Current Loss: nan Current Accuracy: nan%.\n",
      "Epoch: 37 Current Loss: nan Current Accuracy: nan%.\n",
      "Epoch: 38 Current Loss: nan Current Accuracy: nan%.\n",
      "Epoch: 39 Current Loss: nan Current Accuracy: nan%.\n",
      "Epoch: 40 Current Loss: nan Current Accuracy: nan%.\n",
      "Accuracy: nan %.\n",
      "Loss: nan\n",
      "Mean Absolute Error: nan degrees.\n",
      "Akaike Information Criterion: nan degrees.\n",
      "WARNING:tensorflow:Entity <bound method Dense.call of <tensorflow.python.layers.core.Dense object at 0x7fab95f66b10>> could not be transformed and will be executed as-is. Please report this to the AutgoGraph team. When filing the bug, set the verbosity to 10 (on Linux, `export AUTOGRAPH_VERBOSITY=10`) and attach the full output. Cause: converting <bound method Dense.call of <tensorflow.python.layers.core.Dense object at 0x7fab95f66b10>>: AttributeError: module 'gast' has no attribute 'Index'\n",
      "WARNING: Entity <bound method Dense.call of <tensorflow.python.layers.core.Dense object at 0x7fab95f66b10>> could not be transformed and will be executed as-is. Please report this to the AutgoGraph team. When filing the bug, set the verbosity to 10 (on Linux, `export AUTOGRAPH_VERBOSITY=10`) and attach the full output. Cause: converting <bound method Dense.call of <tensorflow.python.layers.core.Dense object at 0x7fab95f66b10>>: AttributeError: module 'gast' has no attribute 'Index'\n",
      "WARNING:tensorflow:Entity <bound method BatchNormalization.call of <tensorflow.python.layers.normalization.BatchNormalization object at 0x7fab936aa210>> could not be transformed and will be executed as-is. Please report this to the AutgoGraph team. When filing the bug, set the verbosity to 10 (on Linux, `export AUTOGRAPH_VERBOSITY=10`) and attach the full output. Cause: converting <bound method BatchNormalization.call of <tensorflow.python.layers.normalization.BatchNormalization object at 0x7fab936aa210>>: AssertionError: Bad argument number for Name: 3, expecting 4\n",
      "WARNING: Entity <bound method BatchNormalization.call of <tensorflow.python.layers.normalization.BatchNormalization object at 0x7fab936aa210>> could not be transformed and will be executed as-is. Please report this to the AutgoGraph team. When filing the bug, set the verbosity to 10 (on Linux, `export AUTOGRAPH_VERBOSITY=10`) and attach the full output. Cause: converting <bound method BatchNormalization.call of <tensorflow.python.layers.normalization.BatchNormalization object at 0x7fab936aa210>>: AssertionError: Bad argument number for Name: 3, expecting 4\n",
      "WARNING:tensorflow:Entity <bound method Dense.call of <tensorflow.python.layers.core.Dense object at 0x7fab92723d90>> could not be transformed and will be executed as-is. Please report this to the AutgoGraph team. When filing the bug, set the verbosity to 10 (on Linux, `export AUTOGRAPH_VERBOSITY=10`) and attach the full output. Cause: converting <bound method Dense.call of <tensorflow.python.layers.core.Dense object at 0x7fab92723d90>>: AttributeError: module 'gast' has no attribute 'Index'\n",
      "WARNING: Entity <bound method Dense.call of <tensorflow.python.layers.core.Dense object at 0x7fab92723d90>> could not be transformed and will be executed as-is. Please report this to the AutgoGraph team. When filing the bug, set the verbosity to 10 (on Linux, `export AUTOGRAPH_VERBOSITY=10`) and attach the full output. Cause: converting <bound method Dense.call of <tensorflow.python.layers.core.Dense object at 0x7fab92723d90>>: AttributeError: module 'gast' has no attribute 'Index'\n",
      "WARNING:tensorflow:Entity <bound method BatchNormalization.call of <tensorflow.python.layers.normalization.BatchNormalization object at 0x7fab92c1ce90>> could not be transformed and will be executed as-is. Please report this to the AutgoGraph team. When filing the bug, set the verbosity to 10 (on Linux, `export AUTOGRAPH_VERBOSITY=10`) and attach the full output. Cause: converting <bound method BatchNormalization.call of <tensorflow.python.layers.normalization.BatchNormalization object at 0x7fab92c1ce90>>: AssertionError: Bad argument number for Name: 3, expecting 4\n",
      "WARNING: Entity <bound method BatchNormalization.call of <tensorflow.python.layers.normalization.BatchNormalization object at 0x7fab92c1ce90>> could not be transformed and will be executed as-is. Please report this to the AutgoGraph team. When filing the bug, set the verbosity to 10 (on Linux, `export AUTOGRAPH_VERBOSITY=10`) and attach the full output. Cause: converting <bound method BatchNormalization.call of <tensorflow.python.layers.normalization.BatchNormalization object at 0x7fab92c1ce90>>: AssertionError: Bad argument number for Name: 3, expecting 4\n",
      "Epoch: 1 Current Loss: nan Current Accuracy: nan%.\n",
      "Epoch: 2 Current Loss: nan Current Accuracy: nan%.\n",
      "Epoch: 3 Current Loss: nan Current Accuracy: nan%.\n",
      "Epoch: 4 Current Loss: nan Current Accuracy: nan%.\n",
      "Epoch: 5 Current Loss: nan Current Accuracy: nan%.\n",
      "Epoch: 6 Current Loss: nan Current Accuracy: nan%.\n",
      "Epoch: 7 Current Loss: nan Current Accuracy: nan%.\n",
      "Epoch: 8 Current Loss: nan Current Accuracy: nan%.\n",
      "Epoch: 9 Current Loss: nan Current Accuracy: nan%.\n",
      "Epoch: 10 Current Loss: nan Current Accuracy: nan%.\n",
      "Epoch: 11 Current Loss: nan Current Accuracy: nan%.\n",
      "Epoch: 12 Current Loss: nan Current Accuracy: nan%.\n",
      "Epoch: 13 Current Loss: nan Current Accuracy: nan%.\n",
      "Epoch: 14 Current Loss: nan Current Accuracy: nan%.\n",
      "Epoch: 15 Current Loss: nan Current Accuracy: nan%.\n",
      "Epoch: 16 Current Loss: nan Current Accuracy: nan%.\n",
      "Epoch: 17 Current Loss: nan Current Accuracy: nan%.\n",
      "Epoch: 18 Current Loss: nan Current Accuracy: nan%.\n",
      "Epoch: 19 Current Loss: nan Current Accuracy: nan%.\n",
      "Epoch: 20 Current Loss: nan Current Accuracy: nan%.\n",
      "Epoch: 21 Current Loss: nan Current Accuracy: nan%.\n",
      "Epoch: 22 Current Loss: nan Current Accuracy: nan%.\n",
      "Epoch: 23 Current Loss: nan Current Accuracy: nan%.\n",
      "Epoch: 24 Current Loss: nan Current Accuracy: nan%.\n",
      "Epoch: 25 Current Loss: nan Current Accuracy: nan%.\n",
      "Epoch: 26 Current Loss: nan Current Accuracy: nan%.\n",
      "Epoch: 27 Current Loss: nan Current Accuracy: nan%.\n",
      "Epoch: 28 Current Loss: nan Current Accuracy: nan%.\n",
      "Epoch: 29 Current Loss: nan Current Accuracy: nan%.\n",
      "Epoch: 30 Current Loss: nan Current Accuracy: nan%.\n",
      "Epoch: 31 Current Loss: nan Current Accuracy: nan%.\n",
      "Epoch: 32 Current Loss: nan Current Accuracy: nan%.\n",
      "Epoch: 33 Current Loss: nan Current Accuracy: nan%.\n",
      "Epoch: 34 Current Loss: nan Current Accuracy: nan%.\n",
      "Epoch: 35 Current Loss: nan Current Accuracy: nan%.\n",
      "Epoch: 36 Current Loss: nan Current Accuracy: nan%.\n",
      "Epoch: 37 Current Loss: nan Current Accuracy: nan%.\n",
      "Epoch: 38 Current Loss: nan Current Accuracy: nan%.\n",
      "Epoch: 39 Current Loss: nan Current Accuracy: nan%.\n",
      "Epoch: 40 Current Loss: nan Current Accuracy: nan%.\n",
      "Accuracy: nan %.\n",
      "Loss: nan\n",
      "Mean Absolute Error: nan degrees.\n",
      "Akaike Information Criterion: nan degrees.\n"
     ]
    },
    {
     "data": {
      "text/html": [
       "<div>\n",
       "<style scoped>\n",
       "    .dataframe tbody tr th:only-of-type {\n",
       "        vertical-align: middle;\n",
       "    }\n",
       "\n",
       "    .dataframe tbody tr th {\n",
       "        vertical-align: top;\n",
       "    }\n",
       "\n",
       "    .dataframe thead th {\n",
       "        text-align: right;\n",
       "    }\n",
       "</style>\n",
       "<table border=\"1\" class=\"dataframe\">\n",
       "  <thead>\n",
       "    <tr style=\"text-align: right;\">\n",
       "      <th></th>\n",
       "      <th>n_layers</th>\n",
       "      <th>n_neurons</th>\n",
       "      <th>Accuracy</th>\n",
       "      <th>AIC</th>\n",
       "      <th>MAE</th>\n",
       "    </tr>\n",
       "  </thead>\n",
       "  <tbody>\n",
       "    <tr>\n",
       "      <th>0</th>\n",
       "      <td>1</td>\n",
       "      <td>3</td>\n",
       "      <td>NaN</td>\n",
       "      <td>NaN</td>\n",
       "      <td>NaN</td>\n",
       "    </tr>\n",
       "    <tr>\n",
       "      <th>1</th>\n",
       "      <td>1</td>\n",
       "      <td>10</td>\n",
       "      <td>NaN</td>\n",
       "      <td>NaN</td>\n",
       "      <td>NaN</td>\n",
       "    </tr>\n",
       "    <tr>\n",
       "      <th>2</th>\n",
       "      <td>2</td>\n",
       "      <td>3</td>\n",
       "      <td>NaN</td>\n",
       "      <td>NaN</td>\n",
       "      <td>NaN</td>\n",
       "    </tr>\n",
       "    <tr>\n",
       "      <th>3</th>\n",
       "      <td>2</td>\n",
       "      <td>10</td>\n",
       "      <td>NaN</td>\n",
       "      <td>NaN</td>\n",
       "      <td>NaN</td>\n",
       "    </tr>\n",
       "  </tbody>\n",
       "</table>\n",
       "</div>"
      ],
      "text/plain": [
       "   n_layers  n_neurons  Accuracy  AIC  MAE\n",
       "0         1          3       NaN  NaN  NaN\n",
       "1         1         10       NaN  NaN  NaN\n",
       "2         2          3       NaN  NaN  NaN\n",
       "3         2         10       NaN  NaN  NaN"
      ]
     },
     "execution_count": 34,
     "metadata": {},
     "output_type": "execute_result"
    },
    {
     "data": {
      "image/png": "[encoded data removed]",
      "text/plain": [
       "<Figure size 432x288 with 1 Axes>"
      ]
     },
     "metadata": {
      "image/png": {
       "height": 277,
       "width": 385
      },
      "needs_background": "light"
     },
     "output_type": "display_data"
    }
   ],
   "source": [
    "list_of_lists = []\n",
    "\n",
    "for nl in n_layers:\n",
    "    for nn in n_neurons:\n",
    "        h = Network(batch_size = 100, m=1, n_neurons=nn, n_hidden_layers=nl, n_epochs=40, loss_choice= 'zinb', batch_norm_momentum = True, activation=tf.nn.relu, initializer=he_init, learning_rate=0.001)\n",
    "        h.fit(Xs, ys)\n",
    "    \n",
    "        acc, aic, mae= h.evaluate(Xs, ys)\n",
    "        list_of_lists.append([nl, nn, acc, aic, mae])\n",
    "        \n",
    "opt1 = pd.DataFrame(list_of_lists, columns=[\"n_layers\", \"n_neurons\", \"Accuracy\", \"AIC\", \"MAE\"])\n",
    "opt1"
   ]
  },
  {
   "cell_type": "markdown",
   "metadata": {
    "id": "Gt42lS9FMZIH"
   },
   "source": [
    "We chose the combination (n_hidden_layers = 2, n_neurons = 3)."
   ]
  },
  {
   "cell_type": "markdown",
   "metadata": {
    "id": "yg-fS0djMZIH"
   },
   "source": [
    "### 4.2 Data set preparation\n",
    "\n",
    "We implement cross validation on our data set. We have information from 1984 to 2016. \n",
    "We decide to train our network on 1984-2013 with K-fold cross validation; and test our network on 2014-2016."
   ]
  },
  {
   "cell_type": "markdown",
   "metadata": {
    "id": "wnSq8ZfzMZIH"
   },
   "source": [
    "We import the data from the file \"fires.csv\". As explained in the paper, we use the data from 1984 to 2014 as known for training and validation steps, and the data from 2014 to 2016 as testing set. The lattest will be used for prediction and will help us evaluate our Network.\n",
    "\n",
    "We only work on the points where fires greater than 1000 acres did happen. We assume that a simple Machine Learning Classifier would have already predicted if there is a fire (1) or no fire (0). If there is one, then we provide a method to predict the probability distribution of this fire's extent."
   ]
  },
  {
   "cell_type": "code",
   "execution_count": null,
   "metadata": {
    "id": "XLQGYamrMZII"
   },
   "outputs": [],
   "source": [
    "#fires = fires.sample(n=10000, random_state=12)\n",
    "fires = fires.reset_index(drop=True)\n",
    "\n",
    "fires_train_val = fires[fires.year<2014] # for Training and Testing \n",
    "fires_test = fires[fires.year>=2014] # for Prediction"
   ]
  },
  {
   "cell_type": "code",
   "execution_count": null,
   "metadata": {
    "colab": {
     "base_uri": "https://localhost:8080/"
    },
    "executionInfo": {
     "elapsed": 275,
     "status": "ok",
     "timestamp": 1608489768786,
     "user": {
      "displayName": "Jessalyn Chuang",
      "photoUrl": "",
      "userId": "15246295192484075185"
     },
     "user_tz": 300
    },
    "id": "AgRMt3UhMZII",
    "outputId": "683b053a-7fd3-4432-c72d-8a2f56b5239c"
   },
   "outputs": [
    {
     "data": {
      "text/plain": [
       "(121626, 13)"
      ]
     },
     "execution_count": 24,
     "metadata": {
      "tags": []
     },
     "output_type": "execute_result"
    }
   ],
   "source": [
    "fires_train_val.shape"
   ]
  },
  {
   "cell_type": "code",
   "execution_count": null,
   "metadata": {
    "colab": {
     "base_uri": "https://localhost:8080/"
    },
    "executionInfo": {
     "elapsed": 293,
     "status": "ok",
     "timestamp": 1608489771471,
     "user": {
      "displayName": "Jessalyn Chuang",
      "photoUrl": "",
      "userId": "15246295192484075185"
     },
     "user_tz": 300
    },
    "id": "dpvlUBGfMZIJ",
    "outputId": "73bbc854-c566-4560-ea96-6427e2339456"
   },
   "outputs": [
    {
     "data": {
      "text/plain": [
       "(13067, 13)"
      ]
     },
     "execution_count": 25,
     "metadata": {
      "tags": []
     },
     "output_type": "execute_result"
    }
   ],
   "source": [
    "fires_test.shape"
   ]
  },
  {
   "cell_type": "markdown",
   "metadata": {
    "id": "5xdrzYBSMZIJ"
   },
   "source": [
    "We pre-process only the inputs. The MinMax Scaler allows to have input values between 0 and 1. It makes the learning process much easier."
   ]
  },
  {
   "cell_type": "code",
   "execution_count": null,
   "metadata": {
    "id": "I83mgIR2MZIJ",
    "scrolled": true
   },
   "outputs": [],
   "source": [
    "minmax_scaler = MinMaxScaler()\n",
    "\n",
    "X = fires_train_val[['lat','lon','solar', 'prec', 'deltaT', 'tmin', 'vpd', 'wind','forest']]\n",
    "X = minmax_scaler.fit_transform(X)\n",
    "X = np.array(X, dtype=np.float32)\n",
    "y = np.array(fires_train_val.burnarea)"
   ]
  },
  {
   "cell_type": "code",
   "execution_count": null,
   "metadata": {
    "colab": {
     "base_uri": "https://localhost:8080/",
     "height": 340
    },
    "executionInfo": {
     "elapsed": 1523,
     "status": "ok",
     "timestamp": 1608489779035,
     "user": {
      "displayName": "Jessalyn Chuang",
      "photoUrl": "",
      "userId": "15246295192484075185"
     },
     "user_tz": 300
    },
    "id": "Uz2PyY66MZIJ",
    "outputId": "7e5a53a6-c072-45f8-f18f-31dcad1a4b64"
   },
   "outputs": [
    {
     "name": "stderr",
     "output_type": "stream",
     "text": [
      "/usr/local/lib/python3.6/dist-packages/seaborn/distributions.py:2551: FutureWarning: `distplot` is a deprecated function and will be removed in a future version. Please adapt your code to use either `displot` (a figure-level function with similar flexibility) or `kdeplot` (an axes-level function for kernel density plots).\n",
      "  warnings.warn(msg, FutureWarning)\n"
     ]
    },
    {
     "data": {
      "text/plain": [
       "<matplotlib.axes._subplots.AxesSubplot at 0x7f5116c4c470>"
      ]
     },
     "execution_count": 27,
     "metadata": {
      "tags": []
     },
     "output_type": "execute_result"
    },
    {
     "data": {
      "image/png": "[encoded data removed]",
      "text/plain": [
       "<Figure size 432x288 with 1 Axes>"
      ]
     },
     "metadata": {
      "tags": []
     },
     "output_type": "display_data"
    }
   ],
   "source": [
    "%matplotlib inline \n",
    "# Get an idea of the distribution of Fire extents from 1984 to 2014\n",
    "sns.distplot(y, hist = False, kde = True,kde_kws = {'shade': True, 'linewidth': 3})"
   ]
  },
  {
   "cell_type": "markdown",
   "metadata": {
    "id": "uz6Dh7xZMZIK"
   },
   "source": [
    "#### Parameters Estimation"
   ]
  },
  {
   "cell_type": "markdown",
   "metadata": {
    "id": "JIH2suWMMZIK"
   },
   "source": [
    "We want to get an idea of the parameters' value of the probability distribution of the training-validation set.\n",
    "We use the \"fit\" function of \"genpareto\", from the Scikit Learn Python library."
   ]
  },
  {
   "cell_type": "code",
   "execution_count": null,
   "metadata": {
    "colab": {
     "base_uri": "https://localhost:8080/"
    },
    "executionInfo": {
     "elapsed": 4565,
     "status": "ok",
     "timestamp": 1608489790412,
     "user": {
      "displayName": "Jessalyn Chuang",
      "photoUrl": "",
      "userId": "15246295192484075185"
     },
     "user_tz": 300
    },
    "id": "TdwWZlhfMZIL",
    "outputId": "6c39687f-0b16-4991-f789-9d437dfbd138"
   },
   "outputs": [
    {
     "data": {
      "text/plain": [
       "(0.8926818263631979, 0.0008999998971812889, 0.6681968580195198)"
      ]
     },
     "execution_count": 28,
     "metadata": {
      "tags": []
     },
     "output_type": "execute_result"
    }
   ],
   "source": [
    "c =0\n",
    "params = genpareto.fit(y, c, loc=0, scale=1)\n",
    "params"
   ]
  },
  {
   "cell_type": "markdown",
   "metadata": {
    "id": "KNtOx3_iMZIL"
   },
   "source": [
    "#### Heavy or Light Tail ?"
   ]
  },
  {
   "cell_type": "code",
   "execution_count": null,
   "metadata": {
    "colab": {
     "base_uri": "https://localhost:8080/",
     "height": 269
    },
    "executionInfo": {
     "elapsed": 1199,
     "status": "ok",
     "timestamp": 1608489796058,
     "user": {
      "displayName": "Jessalyn Chuang",
      "photoUrl": "",
      "userId": "15246295192484075185"
     },
     "user_tz": 300
    },
    "id": "weCfUtgwMZIM",
    "outputId": "ad5c6026-447e-4e38-bb43-6a58d9095810"
   },
   "outputs": [
    {
     "data": {
      "image/png": "[encoded data removed]",
      "text/plain": [
       "<Figure size 432x288 with 1 Axes>"
      ]
     },
     "metadata": {
      "tags": []
     },
     "output_type": "display_data"
    }
   ],
   "source": [
    "C=[0, 0.1, 0.5, params[0], 1, 2]\n",
    "for c in C:\n",
    "    x = np.linspace(0, 35, 200)\n",
    "    plt.plot(x, genpareto.pdf(x, c),lw=2, alpha=0.6, label='shape={:.4f}'.format(c))\n",
    "    plt.ylim(0,0.4)\n",
    "    plt.xlim(1,15)\n",
    "    plt.legend()"
   ]
  },
  {
   "cell_type": "markdown",
   "metadata": {
    "id": "RSOEF_tjMZIM"
   },
   "source": [
    "### 4.3 Training & Validation\n",
    "\n",
    "We train the Network on the training set during 200 epochs. We choose a batch size of 10,000 data points to reflect the distribution of fires extent. We train the Network on the training set, and evaluate it on the validation set.\n",
    "\n",
    "To get error metrics and an accuracy independently of the random weight initialisation, we decide to run the experiment num_iterations = 10 times and average the results.\n",
    "\n",
    "The code below returns the metrics that scores our Network."
   ]
  },
  {
   "cell_type": "markdown",
   "metadata": {
    "id": "6DdbPftNMZIN"
   },
   "source": [
    "#### Training with Cross-Validation"
   ]
  },
  {
   "cell_type": "code",
   "execution_count": null,
   "metadata": {
    "colab": {
     "base_uri": "https://localhost:8080/"
    },
    "executionInfo": {
     "elapsed": 264,
     "status": "ok",
     "timestamp": 1608489806040,
     "user": {
      "displayName": "Jessalyn Chuang",
      "photoUrl": "",
      "userId": "15246295192484075185"
     },
     "user_tz": 300
    },
    "id": "DK0iXYNNMZIN",
    "outputId": "9bcc4007-5f43-48d1-d55a-a5f885271b17"
   },
   "outputs": [
    {
     "name": "stdout",
     "output_type": "stream",
     "text": [
      "KFold(n_splits=10, random_state=None, shuffle=False)\n"
     ]
    },
    {
     "data": {
      "text/plain": [
       "KFold(n_splits=10, random_state=None, shuffle=False)"
      ]
     },
     "execution_count": 30,
     "metadata": {
      "tags": []
     },
     "output_type": "execute_result"
    }
   ],
   "source": [
    "from sklearn.model_selection import KFold # import KFold\n",
    "n = 10\n",
    "kf = KFold(n_splits=n) # Define the split - into 20 folds \n",
    "kf.get_n_splits(X) # returns the number of splitting iterations in the cross-validator\n",
    "print(kf) \n",
    "KFold(n_splits=n, random_state=None, shuffle=False)"
   ]
  },
  {
   "cell_type": "code",
   "execution_count": null,
   "metadata": {
    "colab": {
     "base_uri": "https://localhost:8080/",
     "height": 1000
    },
    "executionInfo": {
     "elapsed": 103855,
     "status": "error",
     "timestamp": 1608489909645,
     "user": {
      "displayName": "Jessalyn Chuang",
      "photoUrl": "",
      "userId": "15246295192484075185"
     },
     "user_tz": 300
    },
    "id": "lypde51yMZIO",
    "outputId": "17ce99de-bf75-4ad9-9a55-1334154f4ebf",
    "scrolled": true
   },
   "outputs": [
    {
     "name": "stdout",
     "output_type": "stream",
     "text": [
      "TRAIN: [ 12163  12164  12165 ... 121623 121624 121625] VAL: [    0     1     2 ... 12160 12161 12162]\n",
      "Epoch: 1 Current training accuracy: 5.5247 Validation Accuracy: 45.8579 Validation Loss 1.341586\n",
      "Epoch: 2 Current training accuracy: 5.3518 Validation Accuracy: 61.2451 Validation Loss 1.338930\n",
      "Epoch: 3 Current training accuracy: 31.9964 Validation Accuracy: 56.4964 Validation Loss 1.338897\n",
      "Epoch: 4 Current training accuracy: -189.4782 Validation Accuracy: 70.2967 Validation Loss 1.339864\n",
      "Epoch: 5 Current training accuracy: 20.6566 Validation Accuracy: 66.0470 Validation Loss 1.338674\n",
      "Epoch: 6 Current training accuracy: 16.0725 Validation Accuracy: 76.8410 Validation Loss 1.334993\n",
      "Epoch: 7 Current training accuracy: 13.3910 Validation Accuracy: 72.9327 Validation Loss 1.337904\n",
      "Epoch: 8 Current training accuracy: 67.9828 Validation Accuracy: 78.0739 Validation Loss 1.339003\n",
      "Epoch: 9 Current training accuracy: 4.5992 Validation Accuracy: 86.6286 Validation Loss 1.341184\n",
      "Epoch: 10 Current training accuracy: 37.3752 Validation Accuracy: 92.8458 Validation Loss 1.340993\n",
      "Epoch: 11 Current training accuracy: -162.6950 Validation Accuracy: 98.0081 Validation Loss 1.346272\n",
      "Epoch: 12 Current training accuracy: 19.3158 Validation Accuracy: 89.8737 Validation Loss 1.352788\n",
      "Epoch: 13 Current training accuracy: 87.0919 Validation Accuracy: 80.9296 Validation Loss 1.353976\n",
      "Epoch: 14 Current training accuracy: -267.0855 Validation Accuracy: 66.2894 Validation Loss 1.352112\n",
      "Epoch: 15 Current training accuracy: 90.2953 Validation Accuracy: 74.1483 Validation Loss 1.350669\n",
      "Epoch: 16 Current training accuracy: 8.5020 Validation Accuracy: 71.3917 Validation Loss 1.358429\n",
      "Epoch: 17 Current training accuracy: 78.6189 Validation Accuracy: 48.4310 Validation Loss 1.359639\n",
      "Epoch: 18 Current training accuracy: 40.2882 Validation Accuracy: 40.7229 Validation Loss 1.363185\n",
      "Epoch: 19 Current training accuracy: 34.1288 Validation Accuracy: 35.4204 Validation Loss 1.368364\n",
      "Epoch: 20 Current training accuracy: 31.7357 Validation Accuracy: 24.7688 Validation Loss 1.373370\n",
      "Epoch: 21 Current training accuracy: 66.2812 Validation Accuracy: 13.0709 Validation Loss 1.376061\n",
      "Epoch: 22 Current training accuracy: -510.7940 Validation Accuracy: 7.4161 Validation Loss 1.376393\n",
      "Epoch: 23 Current training accuracy: -471.4949 Validation Accuracy: -1.5231 Validation Loss 1.385058\n",
      "Epoch: 24 Current training accuracy: 12.1075 Validation Accuracy: -9.9819 Validation Loss 1.385463\n",
      "Epoch: 25 Current training accuracy: 78.1189 Validation Accuracy: -15.2341 Validation Loss 1.390922\n",
      "Epoch: 26 Current training accuracy: 31.4768 Validation Accuracy: -24.9555 Validation Loss 1.399335\n",
      "Epoch: 27 Current training accuracy: 53.3647 Validation Accuracy: -38.8907 Validation Loss 1.391641\n",
      "Stopping Early! Loss has not improved in 20 epochs\n"
     ]
    },
    {
     "data": {
      "image/png": "[encoded data removed]",
      "text/plain": [
       "<Figure size 432x288 with 1 Axes>"
      ]
     },
     "metadata": {
      "tags": []
     },
     "output_type": "display_data"
    },
    {
     "data": {
      "image/png": "[encoded data removed]",
      "text/plain": [
       "<Figure size 432x288 with 1 Axes>"
      ]
     },
     "metadata": {
      "tags": []
     },
     "output_type": "display_data"
    },
    {
     "ename": "IndexError",
     "evalue": "ignored",
     "output_type": "error",
     "traceback": [
      "\u001b[0;31m---------------------------------------------------------------------------\u001b[0m",
      "\u001b[0;31mIndexError\u001b[0m                                Traceback (most recent call last)",
      "\u001b[0;32m<ipython-input-31-6ca56c10e7e8>\u001b[0m in \u001b[0;36m<module>\u001b[0;34m()\u001b[0m\n\u001b[1;32m     25\u001b[0m     \u001b[0mVal_Loss_List\u001b[0m\u001b[0;34m.\u001b[0m\u001b[0mappend\u001b[0m\u001b[0;34m(\u001b[0m\u001b[0mval_loss_list\u001b[0m\u001b[0;34m)\u001b[0m\u001b[0;34m\u001b[0m\u001b[0;34m\u001b[0m\u001b[0m\n\u001b[1;32m     26\u001b[0m \u001b[0;34m\u001b[0m\u001b[0m\n\u001b[0;32m---> 27\u001b[0;31m     \u001b[0macc_val\u001b[0m\u001b[0;34m,\u001b[0m \u001b[0maic_val\u001b[0m\u001b[0;34m,\u001b[0m \u001b[0mmae_val\u001b[0m \u001b[0;34m=\u001b[0m \u001b[0mh\u001b[0m\u001b[0;34m.\u001b[0m\u001b[0mevaluate\u001b[0m\u001b[0;34m(\u001b[0m\u001b[0mX_val\u001b[0m\u001b[0;34m,\u001b[0m\u001b[0my_val\u001b[0m\u001b[0;34m)\u001b[0m\u001b[0;34m\u001b[0m\u001b[0;34m\u001b[0m\u001b[0m\n\u001b[0m\u001b[1;32m     28\u001b[0m     \u001b[0mAccuracy_val\u001b[0m\u001b[0;34m.\u001b[0m\u001b[0mappend\u001b[0m\u001b[0;34m(\u001b[0m\u001b[0macc_val\u001b[0m\u001b[0;34m)\u001b[0m\u001b[0;34m\u001b[0m\u001b[0;34m\u001b[0m\u001b[0m\n\u001b[1;32m     29\u001b[0m     \u001b[0mAIC_val\u001b[0m\u001b[0;34m.\u001b[0m\u001b[0mappend\u001b[0m\u001b[0;34m(\u001b[0m\u001b[0maic_val\u001b[0m\u001b[0;34m)\u001b[0m\u001b[0;34m\u001b[0m\u001b[0;34m\u001b[0m\u001b[0m\n",
      "\u001b[0;32m<ipython-input-19-cb384a7c117a>\u001b[0m in \u001b[0;36mevaluate\u001b[0;34m(self, X, y)\u001b[0m\n\u001b[1;32m    359\u001b[0m \u001b[0;34m\u001b[0m\u001b[0m\n\u001b[1;32m    360\u001b[0m             \u001b[0mx_reduced\u001b[0m\u001b[0;34m,\u001b[0m \u001b[0midx_sorted\u001b[0m \u001b[0;34m=\u001b[0m \u001b[0mnp\u001b[0m\u001b[0;34m.\u001b[0m\u001b[0munique\u001b[0m\u001b[0;34m(\u001b[0m\u001b[0mdata_sorted\u001b[0m\u001b[0;34m,\u001b[0m \u001b[0mreturn_index\u001b[0m\u001b[0;34m=\u001b[0m\u001b[0;32mTrue\u001b[0m\u001b[0;34m)\u001b[0m\u001b[0;34m\u001b[0m\u001b[0;34m\u001b[0m\u001b[0m\n\u001b[0;32m--> 361\u001b[0;31m             \u001b[0mcdf_reduced\u001b[0m\u001b[0;34m=\u001b[0m \u001b[0mcdf\u001b[0m\u001b[0;34m[\u001b[0m\u001b[0midx_sorted\u001b[0m\u001b[0;34m]\u001b[0m\u001b[0;34m\u001b[0m\u001b[0;34m\u001b[0m\u001b[0m\n\u001b[0m\u001b[1;32m    362\u001b[0m             \u001b[0mplt\u001b[0m\u001b[0;34m.\u001b[0m\u001b[0mscatter\u001b[0m\u001b[0;34m(\u001b[0m\u001b[0mx_reduced\u001b[0m\u001b[0;34m,\u001b[0m \u001b[0mcdf_reduced\u001b[0m\u001b[0;34m,\u001b[0m \u001b[0ms\u001b[0m\u001b[0;34m=\u001b[0m\u001b[0;36m0.5\u001b[0m\u001b[0;34m,\u001b[0m \u001b[0mc\u001b[0m\u001b[0;34m=\u001b[0m\u001b[0;34m'r'\u001b[0m\u001b[0;34m,\u001b[0m \u001b[0malpha\u001b[0m\u001b[0;34m=\u001b[0m\u001b[0;36m0.5\u001b[0m\u001b[0;34m,\u001b[0m \u001b[0mlabel\u001b[0m\u001b[0;34m=\u001b[0m\u001b[0;34m\"predicted distr.\"\u001b[0m\u001b[0;34m)\u001b[0m\u001b[0;34m\u001b[0m\u001b[0;34m\u001b[0m\u001b[0m\n\u001b[1;32m    363\u001b[0m \u001b[0;34m\u001b[0m\u001b[0m\n",
      "\u001b[0;31mIndexError\u001b[0m: index 130 is out of bounds for axis 0 with size 1"
     ]
    },
    {
     "data": {
      "image/png": "[encoded data removed]",
      "text/plain": [
       "<Figure size 432x288 with 1 Axes>"
      ]
     },
     "metadata": {
      "tags": []
     },
     "output_type": "display_data"
    }
   ],
   "source": [
    "Acc_List = []\n",
    "Val_Acc_List = []\n",
    "Loss_List = []\n",
    "Val_Loss_List = []\n",
    "\n",
    "\n",
    "Accuracy_val = []\n",
    "AIC_val = []\n",
    "MAE_val = []\n",
    "\n",
    "\n",
    "for train_index, val_index in kf.split(X):\n",
    "    print(\"TRAIN:\", train_index, \"VAL:\", val_index)\n",
    "    X_train, X_val = X[train_index], X[val_index]\n",
    "    y_train, y_val = y[train_index], y[val_index]\n",
    "    \n",
    "    h = Network(batch_size = 100, m=1, n_neurons=3, n_hidden_layers=2, n_epochs=30, batch_norm_momentum = True, activation=tf.nn.relu, initializer=he_init, learning_rate=0.001)\n",
    "    \n",
    "    h.fit(X_train,y_train,X_val,y_val)\n",
    "    acc_list, val_acc_list, loss_list, val_loss_list = h.__get_list__()\n",
    "\n",
    "    Acc_List.append(acc_list)\n",
    "    Val_Acc_List.append(val_acc_list)\n",
    "    Loss_List.append(loss_list)\n",
    "    Val_Loss_List.append(val_loss_list)\n",
    "    \n",
    "    acc_val, aic_val, mae_val = h.evaluate(X_val,y_val)\n",
    "    Accuracy_val.append(acc_val)\n",
    "    AIC_val.append(aic_val)\n",
    "    MAE_val.append(mae_val)\n",
    "    \n",
    "\n",
    "\n",
    "print('Validation Accuracy: ', np.nanmean(Accuracy_val))\n",
    "print('Validation AIC: ', np.nanmean(AIC_val))\n",
    "print('Validation MAE: ', np.nanmean(MAE_val))\n",
    "\n",
    "    "
   ]
  },
  {
   "cell_type": "code",
   "execution_count": null,
   "metadata": {
    "colab": {
     "base_uri": "https://localhost:8080/",
     "height": 605
    },
    "executionInfo": {
     "elapsed": 408,
     "status": "error",
     "timestamp": 1608489925728,
     "user": {
      "displayName": "Jessalyn Chuang",
      "photoUrl": "",
      "userId": "15246295192484075185"
     },
     "user_tz": 300
    },
    "id": "RiRFvmC0MZIP",
    "outputId": "ba5ade1f-4a37-4e43-d9af-ffcaa4b4b69c"
   },
   "outputs": [
    {
     "ename": "IndexError",
     "evalue": "ignored",
     "output_type": "error",
     "traceback": [
      "\u001b[0;31m---------------------------------------------------------------------------\u001b[0m",
      "\u001b[0;31mIndexError\u001b[0m                                Traceback (most recent call last)",
      "\u001b[0;32m<ipython-input-32-eb59c223546a>\u001b[0m in \u001b[0;36m<module>\u001b[0;34m()\u001b[0m\n\u001b[1;32m      7\u001b[0m \u001b[0;34m\u001b[0m\u001b[0m\n\u001b[1;32m      8\u001b[0m \u001b[0;32mfor\u001b[0m \u001b[0mi\u001b[0m \u001b[0;32min\u001b[0m \u001b[0mrange\u001b[0m\u001b[0;34m(\u001b[0m\u001b[0;36m1\u001b[0m\u001b[0;34m,\u001b[0m \u001b[0mn\u001b[0m\u001b[0;34m)\u001b[0m\u001b[0;34m:\u001b[0m\u001b[0;34m\u001b[0m\u001b[0;34m\u001b[0m\u001b[0m\n\u001b[0;32m----> 9\u001b[0;31m     \u001b[0mplt\u001b[0m\u001b[0;34m.\u001b[0m\u001b[0mplot\u001b[0m\u001b[0;34m(\u001b[0m\u001b[0mrange\u001b[0m\u001b[0;34m(\u001b[0m\u001b[0mlen\u001b[0m\u001b[0;34m(\u001b[0m\u001b[0mAcc_List\u001b[0m\u001b[0;34m[\u001b[0m\u001b[0mi\u001b[0m\u001b[0;34m]\u001b[0m\u001b[0;34m)\u001b[0m\u001b[0;34m)\u001b[0m\u001b[0;34m,\u001b[0m \u001b[0mAcc_List\u001b[0m\u001b[0;34m[\u001b[0m\u001b[0mi\u001b[0m\u001b[0;34m]\u001b[0m\u001b[0;34m,\u001b[0m \u001b[0mcolor\u001b[0m\u001b[0;34m=\u001b[0m\u001b[0;34m'blue'\u001b[0m\u001b[0;34m)\u001b[0m\u001b[0;34m\u001b[0m\u001b[0;34m\u001b[0m\u001b[0m\n\u001b[0m\u001b[1;32m     10\u001b[0m     \u001b[0mplt\u001b[0m\u001b[0;34m.\u001b[0m\u001b[0mplot\u001b[0m\u001b[0;34m(\u001b[0m\u001b[0mrange\u001b[0m\u001b[0;34m(\u001b[0m\u001b[0mlen\u001b[0m\u001b[0;34m(\u001b[0m\u001b[0mVal_Acc_List\u001b[0m\u001b[0;34m[\u001b[0m\u001b[0mi\u001b[0m\u001b[0;34m]\u001b[0m\u001b[0;34m)\u001b[0m\u001b[0;34m)\u001b[0m\u001b[0;34m,\u001b[0m \u001b[0mVal_Acc_List\u001b[0m\u001b[0;34m[\u001b[0m\u001b[0mi\u001b[0m\u001b[0;34m]\u001b[0m\u001b[0;34m,\u001b[0m \u001b[0mcolor\u001b[0m\u001b[0;34m=\u001b[0m\u001b[0;34m'orange'\u001b[0m\u001b[0;34m)\u001b[0m\u001b[0;34m\u001b[0m\u001b[0;34m\u001b[0m\u001b[0m\n\u001b[1;32m     11\u001b[0m \u001b[0mplt\u001b[0m\u001b[0;34m.\u001b[0m\u001b[0mxlabel\u001b[0m\u001b[0;34m(\u001b[0m\u001b[0;34m'Epoch'\u001b[0m\u001b[0;34m)\u001b[0m\u001b[0;34m\u001b[0m\u001b[0;34m\u001b[0m\u001b[0m\n",
      "\u001b[0;31mIndexError\u001b[0m: list index out of range"
     ]
    },
    {
     "data": {
      "image/png": "[encoded data removed]",
      "text/plain": [
       "<Figure size 576x432 with 1 Axes>"
      ]
     },
     "metadata": {
      "tags": []
     },
     "output_type": "display_data"
    }
   ],
   "source": [
    "%matplotlib inline\n",
    "plt.rcParams[\"figure.figsize\"] = (8, 6)\n",
    "plt.title('Training and validation accuracy')\n",
    "\n",
    "plt.plot(range(len(Acc_List[0])), Acc_List[0], color='blue', label='Train')\n",
    "plt.plot(range(len(Val_Acc_List[0])), Val_Acc_List[0], color='orange', label='Val')\n",
    "\n",
    "for i in range(1, n):\n",
    "    plt.plot(range(len(Acc_List[i])), Acc_List[i], color='blue')\n",
    "    plt.plot(range(len(Val_Acc_List[i])), Val_Acc_List[i], color='orange')\n",
    "plt.xlabel('Epoch')\n",
    "plt.ylabel('Accuracy')\n",
    "plt.legend()\n",
    "\n",
    "\n",
    "_ = plt.figure()\n",
    "plt.title('Training and validation loss')\n",
    "plt.plot(range(len(Loss_List[0])), Loss_List[0], color='blue', label='Train')\n",
    "plt.plot(range(len(Val_Loss_List[0])), Val_Loss_List[0], color='orange', label='Val')\n",
    "\n",
    "for i in range(1, n):\n",
    "    plt.plot(range(len(Loss_List[i])), Loss_List[i], color='blue')\n",
    "    plt.plot(range(len(Val_Loss_List[i])), Val_Loss_List[i], color='orange')\n",
    "plt.xlabel('Epoch')\n",
    "plt.ylabel('Loss')\n",
    "plt.legend()\n",
    "plt.show()"
   ]
  },
  {
   "cell_type": "code",
   "execution_count": null,
   "metadata": {
    "colab": {
     "base_uri": "https://localhost:8080/",
     "height": 232
    },
    "executionInfo": {
     "elapsed": 308,
     "status": "error",
     "timestamp": 1608489930558,
     "user": {
      "displayName": "Jessalyn Chuang",
      "photoUrl": "",
      "userId": "15246295192484075185"
     },
     "user_tz": 300
    },
    "id": "Jodw1W5_MZIP",
    "outputId": "89659dda-0c99-4a64-d3f8-3ff7ff3bdeb1"
   },
   "outputs": [
    {
     "ename": "IndexError",
     "evalue": "ignored",
     "output_type": "error",
     "traceback": [
      "\u001b[0;31m---------------------------------------------------------------------------\u001b[0m",
      "\u001b[0;31mIndexError\u001b[0m                                Traceback (most recent call last)",
      "\u001b[0;32m<ipython-input-33-9b509d986957>\u001b[0m in \u001b[0;36m<module>\u001b[0;34m()\u001b[0m\n\u001b[1;32m      5\u001b[0m \u001b[0;34m\u001b[0m\u001b[0m\n\u001b[1;32m      6\u001b[0m \u001b[0;32mfor\u001b[0m \u001b[0mi\u001b[0m \u001b[0;32min\u001b[0m \u001b[0mrange\u001b[0m\u001b[0;34m(\u001b[0m\u001b[0mn\u001b[0m\u001b[0;34m)\u001b[0m\u001b[0;34m:\u001b[0m\u001b[0;34m\u001b[0m\u001b[0;34m\u001b[0m\u001b[0m\n\u001b[0;32m----> 7\u001b[0;31m     \u001b[0ml\u001b[0m \u001b[0;34m=\u001b[0m \u001b[0mVal_Acc_List\u001b[0m\u001b[0;34m[\u001b[0m\u001b[0mi\u001b[0m\u001b[0;34m]\u001b[0m\u001b[0;34m\u001b[0m\u001b[0;34m\u001b[0m\u001b[0m\n\u001b[0m\u001b[1;32m      8\u001b[0m     \u001b[0mValAccuracies\u001b[0m\u001b[0;34m.\u001b[0m\u001b[0mappend\u001b[0m\u001b[0;34m(\u001b[0m\u001b[0ml\u001b[0m\u001b[0;34m[\u001b[0m\u001b[0;34m-\u001b[0m\u001b[0;36m1\u001b[0m\u001b[0;34m]\u001b[0m\u001b[0;34m)\u001b[0m\u001b[0;34m\u001b[0m\u001b[0;34m\u001b[0m\u001b[0m\n\u001b[1;32m      9\u001b[0m     \u001b[0;31m#l2 = Val_Mae_List[i]\u001b[0m\u001b[0;34m\u001b[0m\u001b[0;34m\u001b[0m\u001b[0;34m\u001b[0m\u001b[0m\n",
      "\u001b[0;31mIndexError\u001b[0m: list index out of range"
     ]
    }
   ],
   "source": [
    "# Validation Accuracies \n",
    "\n",
    "ValAccuracies = []\n",
    "#ValMAE = []\n",
    "\n",
    "for i in range(n):\n",
    "    l = Val_Acc_List[i]\n",
    "    ValAccuracies.append(l[-1])\n",
    "    #l2 = Val_Mae_List[i]\n",
    "    #ValMAE.append(l[-1])\n",
    "\n",
    "print(\"Evolution of the Validation Accuracies during Cross-Validation Training: \", ValAccuracies)\n",
    "print(\"Final Accuracy of the model: \", np.nanmean(ValAccuracies))\n",
    "#print(\"Evolution of the Validation MAE during Cross-Validation Training: \", ValMAE)\n",
    "#print(\"Final MAE of the model: \", np.nanmean(ValMAE))"
   ]
  },
  {
   "cell_type": "markdown",
   "metadata": {
    "id": "GFEAVNeNMZIP"
   },
   "source": [
    "#### Training without Cross-Validation"
   ]
  },
  {
   "cell_type": "markdown",
   "metadata": {
    "id": "2JMkH3D8MZIQ"
   },
   "source": [
    "We split the dataset (1984-2014) into a training set and a testing set:"
   ]
  },
  {
   "cell_type": "code",
   "execution_count": null,
   "metadata": {
    "id": "6yiLHeTjMZIQ"
   },
   "outputs": [],
   "source": [
    "X_train, X_val, y_train, y_val = train_test_split(X, y, test_size=0.3, random_state=42)"
   ]
  },
  {
   "cell_type": "code",
   "execution_count": null,
   "metadata": {
    "id": "X5gflxbPMZIQ",
    "outputId": "f8f62421-f09e-478e-c472-d1b76a4c963f",
    "scrolled": true
   },
   "outputs": [
    {
     "name": "stdout",
     "output_type": "stream",
     "text": [
      "WARNING:tensorflow:From <ipython-input-12-cb384a7c117a>:35: dense (from tensorflow.python.layers.core) is deprecated and will be removed in a future version.\n",
      "Instructions for updating:\n",
      "Use keras.layers.Dense instead.\n",
      "WARNING:tensorflow:From /home/ubuntu/anaconda3/envs/aws_neuron_tensorflow_p36/lib/python3.6/site-packages/tensorflow_core/python/layers/core.py:187: Layer.apply (from tensorflow.python.keras.engine.base_layer) is deprecated and will be removed in a future version.\n",
      "Instructions for updating:\n",
      "Please use `layer.__call__` method instead.\n",
      "WARNING:tensorflow:From <ipython-input-12-cb384a7c117a>:39: batch_normalization (from tensorflow.python.layers.normalization) is deprecated and will be removed in a future version.\n",
      "Instructions for updating:\n",
      "Use keras.layers.BatchNormalization instead.  In particular, `tf.control_dependencies(tf.GraphKeys.UPDATE_OPS)` should not be used (consult the `tf.keras.layers.batch_normalization` documentation).\n",
      "WARNING:tensorflow:From <ipython-input-12-cb384a7c117a>:83: py_func (from tensorflow.python.ops.script_ops) is deprecated and will be removed in a future version.\n",
      "Instructions for updating:\n",
      "tf.py_func is deprecated in TF V2. Instead, there are two\n",
      "    options available in V2.\n",
      "    - tf.py_function takes a python function which manipulates tf eager\n",
      "    tensors instead of numpy arrays. It's easy to convert a tf eager tensor to\n",
      "    an ndarray (just call tensor.numpy()) but having access to eager tensors\n",
      "    means `tf.py_function`s can use accelerators such as GPUs as well as\n",
      "    being differentiable using a gradient tape.\n",
      "    - tf.numpy_function maintains the semantics of the deprecated tf.py_func\n",
      "    (it is not differentiable, and manipulates numpy arrays). It drops the\n",
      "    stateful argument making all functions stateful.\n",
      "    \n",
      "WARNING:tensorflow:From /home/ubuntu/anaconda3/envs/aws_neuron_tensorflow_p36/lib/python3.6/site-packages/tensorflow_core/python/ops/math_grad.py:1375: where (from tensorflow.python.ops.array_ops) is deprecated and will be removed in a future version.\n",
      "Instructions for updating:\n",
      "Use tf.where in 2.0, which has the same broadcast rule as np.where\n",
      "Epoch: 1 Current training accuracy: 0.9760 Validation Accuracy: 0.4935 Validation Loss 15.081001\n",
      "Epoch: 2 Current training accuracy: 0.9228 Validation Accuracy: 0.4414 Validation Loss 14.706562\n",
      "Epoch: 3 Current training accuracy: 0.9388 Validation Accuracy: 0.4393 Validation Loss 14.532340\n",
      "Epoch: 4 Current training accuracy: 1.0048 Validation Accuracy: 0.4558 Validation Loss 14.432371\n",
      "Epoch: 5 Current training accuracy: 1.0266 Validation Accuracy: 0.4855 Validation Loss 14.373871\n",
      "Epoch: 6 Current training accuracy: 1.0165 Validation Accuracy: 0.5325 Validation Loss 14.355334\n",
      "Epoch: 7 Current training accuracy: 1.1398 Validation Accuracy: 0.5925 Validation Loss 14.353889\n",
      "Epoch: 8 Current training accuracy: 1.0986 Validation Accuracy: 0.6668 Validation Loss 14.365186\n",
      "Epoch: 9 Current training accuracy: 1.1343 Validation Accuracy: 0.7671 Validation Loss 14.406394\n",
      "Epoch: 10 Current training accuracy: 1.1658 Validation Accuracy: 0.8927 Validation Loss 14.464767\n",
      "Epoch: 11 Current training accuracy: 1.2259 Validation Accuracy: 1.0504 Validation Loss 14.545409\n",
      "Epoch: 12 Current training accuracy: 1.1798 Validation Accuracy: 1.2262 Validation Loss 14.621464\n",
      "Epoch: 13 Current training accuracy: 1.1678 Validation Accuracy: 1.4244 Validation Loss 14.700771\n",
      "Epoch: 14 Current training accuracy: 1.2234 Validation Accuracy: 1.6289 Validation Loss 14.764429\n",
      "Epoch: 15 Current training accuracy: 1.3255 Validation Accuracy: 1.8480 Validation Loss 14.825670\n",
      "Epoch: 16 Current training accuracy: 1.2491 Validation Accuracy: 2.0751 Validation Loss 14.878326\n",
      "Epoch: 17 Current training accuracy: 1.3359 Validation Accuracy: 2.3136 Validation Loss 14.926990\n",
      "Epoch: 18 Current training accuracy: 1.3508 Validation Accuracy: 2.5292 Validation Loss 14.945472\n",
      "Epoch: 19 Current training accuracy: 1.3424 Validation Accuracy: 2.6287 Validation Loss 14.850640\n",
      "Epoch: 20 Current training accuracy: 1.4548 Validation Accuracy: 2.7144 Validation Loss 14.745162\n",
      "Epoch: 21 Current training accuracy: 1.4250 Validation Accuracy: 2.8019 Validation Loss 14.642613\n",
      "Epoch: 22 Current training accuracy: 1.4731 Validation Accuracy: 2.8900 Validation Loss 14.544680\n",
      "Epoch: 23 Current training accuracy: 1.5305 Validation Accuracy: 2.9798 Validation Loss 14.449538\n",
      "Epoch: 24 Current training accuracy: 1.5859 Validation Accuracy: 3.0714 Validation Loss 14.356174\n",
      "Epoch: 25 Current training accuracy: 1.5819 Validation Accuracy: 3.1646 Validation Loss 14.265810\n",
      "Epoch: 26 Current training accuracy: 1.5901 Validation Accuracy: 3.2590 Validation Loss 14.178174\n",
      "Epoch: 27 Current training accuracy: 1.6338 Validation Accuracy: 3.3554 Validation Loss 14.092665\n",
      "Epoch: 28 Current training accuracy: 1.6886 Validation Accuracy: 3.4529 Validation Loss 14.009873\n",
      "Epoch: 29 Current training accuracy: 1.7397 Validation Accuracy: 3.5520 Validation Loss 13.929230\n",
      "Epoch: 30 Current training accuracy: 1.8115 Validation Accuracy: 3.6522 Validation Loss 13.851174\n",
      "Epoch: 31 Current training accuracy: 1.8280 Validation Accuracy: 3.7539 Validation Loss 13.775177\n",
      "Epoch: 32 Current training accuracy: 1.8163 Validation Accuracy: 3.8564 Validation Loss 13.701861\n",
      "Epoch: 33 Current training accuracy: 1.8660 Validation Accuracy: 3.9599 Validation Loss 13.630876\n",
      "Epoch: 34 Current training accuracy: 1.9984 Validation Accuracy: 4.0643 Validation Loss 13.562134\n",
      "Epoch: 35 Current training accuracy: 1.8509 Validation Accuracy: 4.1703 Validation Loss 13.495170\n",
      "Epoch: 36 Current training accuracy: 2.0604 Validation Accuracy: 4.2766 Validation Loss 13.430710\n",
      "Epoch: 37 Current training accuracy: 2.0499 Validation Accuracy: 4.3839 Validation Loss 13.368030\n",
      "Epoch: 38 Current training accuracy: 2.1253 Validation Accuracy: 4.4917 Validation Loss 13.307499\n",
      "Epoch: 39 Current training accuracy: 2.0641 Validation Accuracy: 4.5996 Validation Loss 13.249225\n",
      "Epoch: 40 Current training accuracy: 2.2254 Validation Accuracy: 4.7081 Validation Loss 13.192908\n",
      "Epoch: 41 Current training accuracy: 2.0752 Validation Accuracy: 4.8185 Validation Loss 13.137578\n",
      "Epoch: 42 Current training accuracy: 2.2716 Validation Accuracy: 4.9293 Validation Loss 13.084014\n",
      "Epoch: 43 Current training accuracy: 2.1903 Validation Accuracy: 5.0406 Validation Loss 13.032181\n",
      "Epoch: 44 Current training accuracy: 2.4122 Validation Accuracy: 5.1537 Validation Loss 12.981197\n",
      "Epoch: 45 Current training accuracy: 2.3464 Validation Accuracy: 5.2681 Validation Loss 12.931482\n",
      "Epoch: 46 Current training accuracy: 2.4352 Validation Accuracy: 5.3840 Validation Loss 12.882823\n",
      "Epoch: 47 Current training accuracy: 2.3981 Validation Accuracy: 5.5013 Validation Loss 12.835380\n",
      "Epoch: 48 Current training accuracy: 2.4583 Validation Accuracy: 5.6185 Validation Loss 12.789558\n",
      "Epoch: 49 Current training accuracy: 2.5393 Validation Accuracy: 5.7363 Validation Loss 12.745191\n",
      "Epoch: 50 Current training accuracy: 2.5816 Validation Accuracy: 5.8553 Validation Loss 12.701867\n",
      "Epoch: 51 Current training accuracy: 2.5857 Validation Accuracy: 5.9762 Validation Loss 12.659264\n",
      "Epoch: 52 Current training accuracy: 2.7195 Validation Accuracy: 6.0969 Validation Loss 12.618344\n",
      "Epoch: 53 Current training accuracy: 2.7443 Validation Accuracy: 6.2191 Validation Loss 12.578384\n",
      "Epoch: 54 Current training accuracy: 2.7807 Validation Accuracy: 6.3426 Validation Loss 12.539451\n",
      "Epoch: 55 Current training accuracy: 2.7768 Validation Accuracy: 6.4669 Validation Loss 12.501541\n",
      "Epoch: 56 Current training accuracy: 2.7767 Validation Accuracy: 6.5922 Validation Loss 12.464564\n",
      "Epoch: 57 Current training accuracy: 2.8655 Validation Accuracy: 6.7181 Validation Loss 12.428600\n",
      "Epoch: 58 Current training accuracy: 3.0464 Validation Accuracy: 6.8443 Validation Loss 12.393913\n",
      "Epoch: 59 Current training accuracy: 2.9087 Validation Accuracy: 6.9725 Validation Loss 12.359962\n",
      "Epoch: 60 Current training accuracy: 3.1439 Validation Accuracy: 7.1010 Validation Loss 12.327268\n",
      "Epoch: 61 Current training accuracy: 3.1391 Validation Accuracy: 7.2317 Validation Loss 12.295204\n",
      "Epoch: 62 Current training accuracy: 3.2199 Validation Accuracy: 7.3640 Validation Loss 12.264084\n",
      "Epoch: 63 Current training accuracy: 3.1419 Validation Accuracy: 7.4977 Validation Loss 12.233918\n",
      "Epoch: 64 Current training accuracy: 3.1636 Validation Accuracy: 7.6336 Validation Loss 12.204485\n",
      "Epoch: 65 Current training accuracy: 3.3270 Validation Accuracy: 7.7708 Validation Loss 12.176140\n",
      "Epoch: 66 Current training accuracy: 3.3756 Validation Accuracy: 7.9103 Validation Loss 12.148708\n",
      "Epoch: 67 Current training accuracy: 3.3369 Validation Accuracy: 8.0513 Validation Loss 12.122336\n",
      "Epoch: 68 Current training accuracy: 3.3340 Validation Accuracy: 8.1935 Validation Loss 12.096982\n",
      "Epoch: 69 Current training accuracy: 3.4790 Validation Accuracy: 8.3386 Validation Loss 12.072262\n",
      "Epoch: 70 Current training accuracy: 3.5682 Validation Accuracy: 8.4870 Validation Loss 12.048431\n",
      "Epoch: 71 Current training accuracy: 3.6247 Validation Accuracy: 8.6386 Validation Loss 12.025857\n",
      "Epoch: 72 Current training accuracy: 3.6362 Validation Accuracy: 8.7951 Validation Loss 12.004365\n",
      "Epoch: 73 Current training accuracy: 3.7373 Validation Accuracy: 8.9563 Validation Loss 11.984188\n",
      "Epoch: 74 Current training accuracy: 3.7439 Validation Accuracy: 9.1227 Validation Loss 11.965526\n",
      "Epoch: 75 Current training accuracy: 3.7596 Validation Accuracy: 9.2964 Validation Loss 11.948632\n",
      "Epoch: 76 Current training accuracy: 3.9390 Validation Accuracy: 9.4776 Validation Loss 11.933610\n",
      "Epoch: 77 Current training accuracy: 3.9344 Validation Accuracy: 9.6665 Validation Loss 11.920973\n",
      "Epoch: 78 Current training accuracy: 3.8873 Validation Accuracy: 9.8642 Validation Loss 11.911629\n",
      "Epoch: 79 Current training accuracy: 4.0655 Validation Accuracy: 10.0360 Validation Loss 11.893595\n",
      "Epoch: 80 Current training accuracy: 4.0870 Validation Accuracy: 10.1789 Validation Loss 11.866562\n",
      "Epoch: 81 Current training accuracy: 4.2465 Validation Accuracy: 10.3209 Validation Loss 11.840433\n",
      "Epoch: 82 Current training accuracy: 4.2231 Validation Accuracy: 10.4609 Validation Loss 11.815541\n",
      "Epoch: 83 Current training accuracy: 4.2436 Validation Accuracy: 10.5972 Validation Loss 11.792144\n",
      "Epoch: 84 Current training accuracy: 4.3011 Validation Accuracy: 10.7313 Validation Loss 11.769977\n",
      "Epoch: 85 Current training accuracy: 4.2630 Validation Accuracy: 10.8652 Validation Loss 11.748435\n",
      "Epoch: 86 Current training accuracy: 4.3843 Validation Accuracy: 10.9996 Validation Loss 11.727198\n",
      "Epoch: 87 Current training accuracy: 4.4686 Validation Accuracy: 11.1342 Validation Loss 11.706303\n",
      "Epoch: 88 Current training accuracy: 4.5605 Validation Accuracy: 11.2691 Validation Loss 11.685808\n",
      "Epoch: 89 Current training accuracy: 4.6686 Validation Accuracy: 11.4041 Validation Loss 11.665735\n",
      "Epoch: 90 Current training accuracy: 4.5891 Validation Accuracy: 11.5381 Validation Loss 11.646230\n",
      "Epoch: 91 Current training accuracy: 4.4729 Validation Accuracy: 11.6735 Validation Loss 11.626865\n",
      "Epoch: 92 Current training accuracy: 4.7604 Validation Accuracy: 11.8085 Validation Loss 11.607933\n",
      "Epoch: 93 Current training accuracy: 4.8492 Validation Accuracy: 11.9450 Validation Loss 11.589112\n",
      "Epoch: 94 Current training accuracy: 4.9282 Validation Accuracy: 12.0815 Validation Loss 11.570645\n",
      "Epoch: 95 Current training accuracy: 5.1786 Validation Accuracy: 12.2167 Validation Loss 11.552780\n",
      "Epoch: 96 Current training accuracy: 5.1158 Validation Accuracy: 12.3529 Validation Loss 11.535069\n",
      "Epoch: 97 Current training accuracy: 5.0400 Validation Accuracy: 12.4881 Validation Loss 11.517865\n",
      "Epoch: 98 Current training accuracy: 5.2051 Validation Accuracy: 12.6244 Validation Loss 11.500784\n",
      "Epoch: 99 Current training accuracy: 5.1928 Validation Accuracy: 12.7600 Validation Loss 11.484140\n",
      "Epoch: 100 Current training accuracy: 5.2442 Validation Accuracy: 12.8941 Validation Loss 11.468054\n",
      "Epoch: 101 Current training accuracy: 5.4009 Validation Accuracy: 13.0274 Validation Loss 11.452346\n",
      "Epoch: 102 Current training accuracy: 5.3033 Validation Accuracy: 13.1620 Validation Loss 11.436707\n",
      "Epoch: 103 Current training accuracy: 5.5502 Validation Accuracy: 13.2972 Validation Loss 11.421262\n",
      "Epoch: 104 Current training accuracy: 5.5431 Validation Accuracy: 13.4327 Validation Loss 11.406066\n",
      "Epoch: 105 Current training accuracy: 5.7233 Validation Accuracy: 13.5702 Validation Loss 11.390802\n",
      "Epoch: 106 Current training accuracy: 5.6168 Validation Accuracy: 13.7081 Validation Loss 11.375784\n",
      "Epoch: 107 Current training accuracy: 5.6312 Validation Accuracy: 13.8447 Validation Loss 11.361173\n",
      "Epoch: 108 Current training accuracy: 5.7059 Validation Accuracy: 13.9808 Validation Loss 11.346906\n",
      "Epoch: 109 Current training accuracy: 5.7207 Validation Accuracy: 14.1162 Validation Loss 11.332983\n",
      "Epoch: 110 Current training accuracy: 5.7321 Validation Accuracy: 14.2515 Validation Loss 11.319275\n",
      "Epoch: 111 Current training accuracy: 5.9932 Validation Accuracy: 14.3876 Validation Loss 11.305676\n",
      "Epoch: 112 Current training accuracy: 5.9188 Validation Accuracy: 14.5232 Validation Loss 11.292395\n",
      "Epoch: 113 Current training accuracy: 6.1419 Validation Accuracy: 14.6600 Validation Loss 11.279152\n",
      "Epoch: 114 Current training accuracy: 6.2996 Validation Accuracy: 14.7982 Validation Loss 11.265959\n",
      "Epoch: 115 Current training accuracy: 6.2557 Validation Accuracy: 14.9344 Validation Loss 11.253224\n",
      "Epoch: 116 Current training accuracy: 6.3677 Validation Accuracy: 15.0713 Validation Loss 11.240615\n",
      "Epoch: 117 Current training accuracy: 6.3837 Validation Accuracy: 15.2077 Validation Loss 11.228259\n",
      "Epoch: 118 Current training accuracy: 6.4337 Validation Accuracy: 15.3468 Validation Loss 11.215752\n",
      "Epoch: 119 Current training accuracy: 6.5952 Validation Accuracy: 15.4834 Validation Loss 11.203771\n",
      "Epoch: 120 Current training accuracy: 6.7426 Validation Accuracy: 15.6186 Validation Loss 11.192123\n",
      "Epoch: 121 Current training accuracy: 6.5698 Validation Accuracy: 15.7528 Validation Loss 11.180778\n",
      "Epoch: 122 Current training accuracy: 6.8232 Validation Accuracy: 15.8893 Validation Loss 11.169340\n",
      "Epoch: 123 Current training accuracy: 6.8032 Validation Accuracy: 16.0290 Validation Loss 11.157712\n",
      "Epoch: 124 Current training accuracy: 7.0071 Validation Accuracy: 16.1657 Validation Loss 11.146597\n",
      "Epoch: 125 Current training accuracy: 6.8768 Validation Accuracy: 16.3017 Validation Loss 11.135724\n",
      "Epoch: 126 Current training accuracy: 6.9571 Validation Accuracy: 16.4392 Validation Loss 11.124848\n",
      "Epoch: 127 Current training accuracy: 7.0882 Validation Accuracy: 16.5799 Validation Loss 11.113799\n",
      "Epoch: 128 Current training accuracy: 7.2321 Validation Accuracy: 16.7254 Validation Loss 11.102430\n",
      "Epoch: 129 Current training accuracy: 7.1837 Validation Accuracy: 16.8722 Validation Loss 11.091123\n",
      "Epoch: 130 Current training accuracy: 7.5666 Validation Accuracy: 17.0209 Validation Loss 11.079821\n",
      "Epoch: 131 Current training accuracy: 7.3759 Validation Accuracy: 17.1709 Validation Loss 11.068602\n",
      "Epoch: 132 Current training accuracy: 7.4949 Validation Accuracy: 17.3224 Validation Loss 11.057441\n",
      "Epoch: 133 Current training accuracy: 7.6143 Validation Accuracy: 17.4751 Validation Loss 11.046418\n",
      "Epoch: 134 Current training accuracy: 7.9389 Validation Accuracy: 17.6286 Validation Loss 11.035544\n",
      "Epoch: 135 Current training accuracy: 8.0375 Validation Accuracy: 17.7822 Validation Loss 11.024903\n",
      "Epoch: 136 Current training accuracy: 8.1275 Validation Accuracy: 17.9361 Validation Loss 11.014457\n",
      "Epoch: 137 Current training accuracy: 8.0395 Validation Accuracy: 18.0905 Validation Loss 11.004193\n",
      "Epoch: 138 Current training accuracy: 8.0461 Validation Accuracy: 18.2455 Validation Loss 10.994096\n",
      "Epoch: 139 Current training accuracy: 8.3222 Validation Accuracy: 18.4012 Validation Loss 10.984145\n",
      "Epoch: 140 Current training accuracy: 8.4363 Validation Accuracy: 18.5573 Validation Loss 10.974380\n",
      "Epoch: 141 Current training accuracy: 8.6217 Validation Accuracy: 18.7140 Validation Loss 10.964778\n",
      "Epoch: 142 Current training accuracy: 8.6184 Validation Accuracy: 18.8709 Validation Loss 10.955357\n",
      "Epoch: 143 Current training accuracy: 8.7227 Validation Accuracy: 19.0284 Validation Loss 10.946074\n",
      "Epoch: 144 Current training accuracy: 9.0753 Validation Accuracy: 19.1862 Validation Loss 10.936950\n",
      "Epoch: 145 Current training accuracy: 8.9517 Validation Accuracy: 19.3447 Validation Loss 10.927958\n",
      "Epoch: 146 Current training accuracy: 8.9677 Validation Accuracy: 19.5039 Validation Loss 10.919065\n",
      "Epoch: 147 Current training accuracy: 9.1568 Validation Accuracy: 19.6635 Validation Loss 10.910337\n",
      "Epoch: 148 Current training accuracy: 9.3695 Validation Accuracy: 19.8235 Validation Loss 10.901726\n",
      "Epoch: 149 Current training accuracy: 9.1958 Validation Accuracy: 19.9839 Validation Loss 10.893243\n",
      "Epoch: 150 Current training accuracy: 9.4005 Validation Accuracy: 20.1447 Validation Loss 10.884895\n",
      "Epoch: 151 Current training accuracy: 9.6006 Validation Accuracy: 20.3058 Validation Loss 10.876672\n",
      "Epoch: 152 Current training accuracy: 9.5585 Validation Accuracy: 20.4674 Validation Loss 10.868575\n",
      "Epoch: 153 Current training accuracy: 9.4870 Validation Accuracy: 20.6295 Validation Loss 10.860566\n",
      "Epoch: 154 Current training accuracy: 9.7489 Validation Accuracy: 20.7919 Validation Loss 10.852668\n",
      "Epoch: 155 Current training accuracy: 9.9771 Validation Accuracy: 20.9550 Validation Loss 10.844861\n",
      "Epoch: 156 Current training accuracy: 9.9230 Validation Accuracy: 21.1188 Validation Loss 10.837155\n",
      "Epoch: 157 Current training accuracy: 10.3932 Validation Accuracy: 21.2831 Validation Loss 10.829533\n",
      "Epoch: 158 Current training accuracy: 10.2334 Validation Accuracy: 21.4474 Validation Loss 10.822031\n",
      "Epoch: 159 Current training accuracy: 10.4585 Validation Accuracy: 21.6120 Validation Loss 10.814636\n",
      "Epoch: 160 Current training accuracy: 10.3842 Validation Accuracy: 21.7770 Validation Loss 10.807342\n",
      "Epoch: 161 Current training accuracy: 10.6100 Validation Accuracy: 21.9427 Validation Loss 10.800117\n",
      "Epoch: 162 Current training accuracy: 10.5680 Validation Accuracy: 22.1086 Validation Loss 10.792988\n",
      "Epoch: 163 Current training accuracy: 10.8474 Validation Accuracy: 22.2748 Validation Loss 10.785945\n",
      "Epoch: 164 Current training accuracy: 10.8549 Validation Accuracy: 22.4413 Validation Loss 10.778999\n",
      "Epoch: 165 Current training accuracy: 11.0762 Validation Accuracy: 22.6082 Validation Loss 10.772139\n",
      "Epoch: 166 Current training accuracy: 11.0164 Validation Accuracy: 22.7750 Validation Loss 10.765376\n",
      "Epoch: 167 Current training accuracy: 11.1554 Validation Accuracy: 22.9419 Validation Loss 10.758717\n",
      "Epoch: 168 Current training accuracy: 11.0269 Validation Accuracy: 23.1091 Validation Loss 10.752134\n",
      "Epoch: 169 Current training accuracy: 11.3963 Validation Accuracy: 23.2767 Validation Loss 10.745635\n",
      "Epoch: 170 Current training accuracy: 11.3041 Validation Accuracy: 23.4444 Validation Loss 10.739206\n",
      "Epoch: 171 Current training accuracy: 11.6735 Validation Accuracy: 23.6124 Validation Loss 10.732865\n",
      "Epoch: 172 Current training accuracy: 11.8228 Validation Accuracy: 23.7805 Validation Loss 10.726593\n",
      "Epoch: 173 Current training accuracy: 11.7345 Validation Accuracy: 23.9487 Validation Loss 10.720430\n",
      "Epoch: 174 Current training accuracy: 11.9663 Validation Accuracy: 24.1171 Validation Loss 10.714333\n",
      "Epoch: 175 Current training accuracy: 11.8240 Validation Accuracy: 24.2858 Validation Loss 10.708294\n",
      "Epoch: 176 Current training accuracy: 12.1854 Validation Accuracy: 24.4547 Validation Loss 10.702318\n",
      "Epoch: 177 Current training accuracy: 12.1546 Validation Accuracy: 24.6239 Validation Loss 10.696421\n",
      "Epoch: 178 Current training accuracy: 12.4638 Validation Accuracy: 24.7930 Validation Loss 10.690600\n",
      "Epoch: 179 Current training accuracy: 12.4429 Validation Accuracy: 24.9622 Validation Loss 10.684862\n",
      "Epoch: 180 Current training accuracy: 12.6899 Validation Accuracy: 25.1313 Validation Loss 10.679202\n",
      "Epoch: 181 Current training accuracy: 12.6074 Validation Accuracy: 25.3007 Validation Loss 10.673587\n",
      "Epoch: 182 Current training accuracy: 13.1240 Validation Accuracy: 25.4701 Validation Loss 10.668050\n",
      "Epoch: 183 Current training accuracy: 13.0666 Validation Accuracy: 25.6401 Validation Loss 10.662568\n",
      "Epoch: 184 Current training accuracy: 13.1172 Validation Accuracy: 25.8098 Validation Loss 10.657159\n",
      "Epoch: 185 Current training accuracy: 13.2193 Validation Accuracy: 25.9795 Validation Loss 10.651824\n",
      "Epoch: 186 Current training accuracy: 13.2034 Validation Accuracy: 26.1497 Validation Loss 10.646531\n",
      "Epoch: 187 Current training accuracy: 13.6066 Validation Accuracy: 26.3197 Validation Loss 10.641305\n",
      "Epoch: 188 Current training accuracy: 13.6729 Validation Accuracy: 26.4897 Validation Loss 10.636147\n",
      "Epoch: 189 Current training accuracy: 13.4999 Validation Accuracy: 26.6596 Validation Loss 10.631060\n",
      "Epoch: 190 Current training accuracy: 13.9480 Validation Accuracy: 26.8298 Validation Loss 10.626009\n",
      "Epoch: 191 Current training accuracy: 13.9176 Validation Accuracy: 27.0001 Validation Loss 10.621017\n",
      "Epoch: 192 Current training accuracy: 14.1045 Validation Accuracy: 27.1706 Validation Loss 10.616074\n",
      "Epoch: 193 Current training accuracy: 14.1139 Validation Accuracy: 27.3411 Validation Loss 10.611196\n",
      "Epoch: 194 Current training accuracy: 14.3797 Validation Accuracy: 27.5114 Validation Loss 10.606376\n",
      "Epoch: 195 Current training accuracy: 14.4075 Validation Accuracy: 27.6819 Validation Loss 10.601610\n",
      "Epoch: 196 Current training accuracy: 14.4666 Validation Accuracy: 27.8526 Validation Loss 10.596883\n",
      "Epoch: 197 Current training accuracy: 14.6767 Validation Accuracy: 28.0230 Validation Loss 10.592233\n",
      "Epoch: 198 Current training accuracy: 14.8560 Validation Accuracy: 28.1931 Validation Loss 10.587643\n",
      "Epoch: 199 Current training accuracy: 14.8214 Validation Accuracy: 28.3634 Validation Loss 10.583098\n",
      "Epoch: 200 Current training accuracy: 14.9749 Validation Accuracy: 28.5336 Validation Loss 10.578601\n",
      "Epoch: 201 Current training accuracy: 14.8926 Validation Accuracy: 28.7040 Validation Loss 10.574150\n",
      "Epoch: 202 Current training accuracy: 15.0763 Validation Accuracy: 28.8741 Validation Loss 10.569769\n",
      "Epoch: 203 Current training accuracy: 15.3775 Validation Accuracy: 29.0445 Validation Loss 10.565409\n",
      "Epoch: 204 Current training accuracy: 15.3622 Validation Accuracy: 29.2147 Validation Loss 10.561102\n",
      "Epoch: 205 Current training accuracy: 15.4863 Validation Accuracy: 29.3847 Validation Loss 10.556851\n",
      "Epoch: 206 Current training accuracy: 15.5017 Validation Accuracy: 29.5544 Validation Loss 10.552657\n",
      "Epoch: 207 Current training accuracy: 16.0329 Validation Accuracy: 29.7238 Validation Loss 10.548525\n",
      "Epoch: 208 Current training accuracy: 15.7411 Validation Accuracy: 29.8933 Validation Loss 10.544432\n",
      "Epoch: 209 Current training accuracy: 16.1379 Validation Accuracy: 30.0626 Validation Loss 10.540379\n",
      "Epoch: 210 Current training accuracy: 16.0692 Validation Accuracy: 30.2322 Validation Loss 10.536359\n",
      "Epoch: 211 Current training accuracy: 16.0503 Validation Accuracy: 30.4020 Validation Loss 10.532372\n",
      "Epoch: 212 Current training accuracy: 16.4273 Validation Accuracy: 30.5711 Validation Loss 10.528457\n",
      "Epoch: 213 Current training accuracy: 16.3420 Validation Accuracy: 30.7398 Validation Loss 10.524593\n",
      "Epoch: 214 Current training accuracy: 16.4168 Validation Accuracy: 30.9085 Validation Loss 10.520771\n",
      "Epoch: 215 Current training accuracy: 16.7094 Validation Accuracy: 31.0773 Validation Loss 10.516981\n",
      "Epoch: 216 Current training accuracy: 16.9143 Validation Accuracy: 31.2459 Validation Loss 10.513227\n",
      "Epoch: 217 Current training accuracy: 17.0701 Validation Accuracy: 31.4149 Validation Loss 10.509495\n",
      "Epoch: 218 Current training accuracy: 17.1358 Validation Accuracy: 31.5834 Validation Loss 10.505821\n",
      "Epoch: 219 Current training accuracy: 17.3704 Validation Accuracy: 31.7520 Validation Loss 10.502175\n",
      "Epoch: 220 Current training accuracy: 17.3755 Validation Accuracy: 31.9208 Validation Loss 10.498561\n",
      "Epoch: 221 Current training accuracy: 17.4742 Validation Accuracy: 32.0888 Validation Loss 10.495011\n",
      "Epoch: 222 Current training accuracy: 17.5752 Validation Accuracy: 32.2566 Validation Loss 10.491499\n",
      "Epoch: 223 Current training accuracy: 17.8127 Validation Accuracy: 32.4244 Validation Loss 10.488022\n",
      "Epoch: 224 Current training accuracy: 17.6561 Validation Accuracy: 32.5926 Validation Loss 10.484562\n",
      "Epoch: 225 Current training accuracy: 17.8520 Validation Accuracy: 32.7607 Validation Loss 10.481145\n",
      "Epoch: 226 Current training accuracy: 18.2289 Validation Accuracy: 32.9287 Validation Loss 10.477753\n",
      "Epoch: 227 Current training accuracy: 18.3668 Validation Accuracy: 33.0963 Validation Loss 10.474405\n",
      "Epoch: 228 Current training accuracy: 18.4590 Validation Accuracy: 33.2636 Validation Loss 10.471100\n",
      "Epoch: 229 Current training accuracy: 18.5138 Validation Accuracy: 33.4311 Validation Loss 10.467814\n",
      "Epoch: 230 Current training accuracy: 18.3843 Validation Accuracy: 33.5984 Validation Loss 10.464569\n",
      "Epoch: 231 Current training accuracy: 18.8156 Validation Accuracy: 33.7656 Validation Loss 10.461353\n",
      "Epoch: 232 Current training accuracy: 19.1374 Validation Accuracy: 33.9328 Validation Loss 10.458164\n",
      "Epoch: 233 Current training accuracy: 19.1289 Validation Accuracy: 34.0990 Validation Loss 10.455036\n",
      "Epoch: 234 Current training accuracy: 19.3408 Validation Accuracy: 34.2653 Validation Loss 10.451928\n",
      "Epoch: 235 Current training accuracy: 19.2723 Validation Accuracy: 34.4317 Validation Loss 10.448849\n",
      "Epoch: 236 Current training accuracy: 19.5577 Validation Accuracy: 34.5986 Validation Loss 10.445773\n",
      "Epoch: 237 Current training accuracy: 19.5864 Validation Accuracy: 34.7647 Validation Loss 10.442750\n",
      "Epoch: 238 Current training accuracy: 19.5314 Validation Accuracy: 34.9304 Validation Loss 10.439770\n",
      "Epoch: 239 Current training accuracy: 19.7563 Validation Accuracy: 35.0958 Validation Loss 10.436826\n",
      "Epoch: 240 Current training accuracy: 19.6428 Validation Accuracy: 35.2608 Validation Loss 10.433910\n",
      "Epoch: 241 Current training accuracy: 19.9597 Validation Accuracy: 35.4251 Validation Loss 10.431047\n",
      "Epoch: 242 Current training accuracy: 20.0489 Validation Accuracy: 35.5896 Validation Loss 10.428193\n",
      "Epoch: 243 Current training accuracy: 20.3062 Validation Accuracy: 35.7537 Validation Loss 10.425376\n",
      "Epoch: 244 Current training accuracy: 20.5114 Validation Accuracy: 35.9180 Validation Loss 10.422576\n",
      "Epoch: 245 Current training accuracy: 20.6685 Validation Accuracy: 36.0823 Validation Loss 10.419800\n",
      "Epoch: 246 Current training accuracy: 20.5323 Validation Accuracy: 36.2467 Validation Loss 10.417045\n",
      "Epoch: 247 Current training accuracy: 20.7938 Validation Accuracy: 36.4113 Validation Loss 10.414313\n",
      "Epoch: 248 Current training accuracy: 20.9880 Validation Accuracy: 36.5759 Validation Loss 10.411586\n",
      "Epoch: 249 Current training accuracy: 21.2712 Validation Accuracy: 36.7399 Validation Loss 10.408904\n",
      "Epoch: 250 Current training accuracy: 20.7896 Validation Accuracy: 36.9040 Validation Loss 10.406243\n",
      "Epoch: 251 Current training accuracy: 21.2049 Validation Accuracy: 37.0679 Validation Loss 10.403605\n",
      "Epoch: 252 Current training accuracy: 21.3311 Validation Accuracy: 37.2309 Validation Loss 10.401016\n",
      "Epoch: 253 Current training accuracy: 21.7413 Validation Accuracy: 37.3933 Validation Loss 10.398458\n",
      "Epoch: 254 Current training accuracy: 21.6389 Validation Accuracy: 37.5556 Validation Loss 10.395926\n",
      "Epoch: 255 Current training accuracy: 21.7849 Validation Accuracy: 37.7188 Validation Loss 10.393390\n",
      "Epoch: 256 Current training accuracy: 21.9782 Validation Accuracy: 37.8821 Validation Loss 10.390871\n",
      "Epoch: 257 Current training accuracy: 22.0762 Validation Accuracy: 38.0455 Validation Loss 10.388370\n",
      "Epoch: 258 Current training accuracy: 22.1011 Validation Accuracy: 38.2086 Validation Loss 10.385892\n",
      "Epoch: 259 Current training accuracy: 22.2592 Validation Accuracy: 38.3714 Validation Loss 10.383440\n",
      "Epoch: 260 Current training accuracy: 22.6463 Validation Accuracy: 38.5335 Validation Loss 10.381024\n",
      "Epoch: 261 Current training accuracy: 22.5205 Validation Accuracy: 38.6956 Validation Loss 10.378632\n",
      "Epoch: 262 Current training accuracy: 22.4749 Validation Accuracy: 38.8562 Validation Loss 10.376290\n",
      "Epoch: 263 Current training accuracy: 22.5736 Validation Accuracy: 39.0169 Validation Loss 10.373963\n",
      "Epoch: 264 Current training accuracy: 22.9474 Validation Accuracy: 39.1779 Validation Loss 10.371641\n",
      "Epoch: 265 Current training accuracy: 22.8159 Validation Accuracy: 39.3388 Validation Loss 10.369342\n",
      "Epoch: 266 Current training accuracy: 23.0198 Validation Accuracy: 39.4998 Validation Loss 10.367058\n",
      "Epoch: 267 Current training accuracy: 23.3084 Validation Accuracy: 39.6613 Validation Loss 10.364779\n",
      "Epoch: 268 Current training accuracy: 23.2472 Validation Accuracy: 39.8224 Validation Loss 10.362533\n",
      "Epoch: 269 Current training accuracy: 23.3912 Validation Accuracy: 39.9835 Validation Loss 10.360295\n",
      "Epoch: 270 Current training accuracy: 23.9537 Validation Accuracy: 40.1436 Validation Loss 10.358097\n",
      "Epoch: 271 Current training accuracy: 24.2115 Validation Accuracy: 40.3031 Validation Loss 10.355927\n",
      "Epoch: 272 Current training accuracy: 24.1793 Validation Accuracy: 40.4626 Validation Loss 10.353768\n",
      "Epoch: 273 Current training accuracy: 24.0444 Validation Accuracy: 40.6225 Validation Loss 10.351618\n",
      "Epoch: 274 Current training accuracy: 24.0972 Validation Accuracy: 40.7817 Validation Loss 10.349502\n",
      "Epoch: 275 Current training accuracy: 24.3935 Validation Accuracy: 40.9403 Validation Loss 10.347405\n",
      "Epoch: 276 Current training accuracy: 24.4925 Validation Accuracy: 41.0982 Validation Loss 10.345348\n",
      "Epoch: 277 Current training accuracy: 24.7281 Validation Accuracy: 41.2562 Validation Loss 10.343296\n",
      "Epoch: 278 Current training accuracy: 24.6565 Validation Accuracy: 41.4139 Validation Loss 10.341267\n",
      "Epoch: 279 Current training accuracy: 24.8950 Validation Accuracy: 41.5718 Validation Loss 10.339254\n",
      "Epoch: 280 Current training accuracy: 25.0005 Validation Accuracy: 41.7294 Validation Loss 10.337258\n",
      "Epoch: 281 Current training accuracy: 24.9268 Validation Accuracy: 41.8861 Validation Loss 10.335291\n",
      "Epoch: 282 Current training accuracy: 25.3666 Validation Accuracy: 42.0421 Validation Loss 10.333353\n",
      "Epoch: 283 Current training accuracy: 25.0958 Validation Accuracy: 42.1990 Validation Loss 10.331409\n",
      "Epoch: 284 Current training accuracy: 25.7454 Validation Accuracy: 42.3564 Validation Loss 10.329463\n",
      "Epoch: 285 Current training accuracy: 25.9690 Validation Accuracy: 42.5138 Validation Loss 10.327538\n",
      "Epoch: 286 Current training accuracy: 25.8671 Validation Accuracy: 42.6703 Validation Loss 10.325641\n",
      "Epoch: 287 Current training accuracy: 26.0198 Validation Accuracy: 42.8261 Validation Loss 10.323770\n",
      "Epoch: 288 Current training accuracy: 26.0953 Validation Accuracy: 42.9812 Validation Loss 10.321923\n",
      "Epoch: 289 Current training accuracy: 26.0970 Validation Accuracy: 43.1357 Validation Loss 10.320101\n",
      "Epoch: 290 Current training accuracy: 26.5189 Validation Accuracy: 43.2907 Validation Loss 10.318284\n",
      "Epoch: 291 Current training accuracy: 26.4784 Validation Accuracy: 43.4461 Validation Loss 10.316470\n",
      "Epoch: 292 Current training accuracy: 26.5450 Validation Accuracy: 43.6020 Validation Loss 10.314657\n",
      "Epoch: 293 Current training accuracy: 26.6360 Validation Accuracy: 43.7576 Validation Loss 10.312862\n",
      "Epoch: 294 Current training accuracy: 26.8966 Validation Accuracy: 43.9123 Validation Loss 10.311095\n",
      "Epoch: 295 Current training accuracy: 26.8707 Validation Accuracy: 44.0662 Validation Loss 10.309356\n",
      "Epoch: 296 Current training accuracy: 26.9319 Validation Accuracy: 44.2203 Validation Loss 10.307625\n",
      "Epoch: 297 Current training accuracy: 27.2535 Validation Accuracy: 44.3766 Validation Loss 10.305866\n",
      "Epoch: 298 Current training accuracy: 27.0624 Validation Accuracy: 44.5322 Validation Loss 10.304121\n",
      "Epoch: 299 Current training accuracy: 27.6501 Validation Accuracy: 44.6862 Validation Loss 10.302431\n",
      "Epoch: 300 Current training accuracy: 27.6007 Validation Accuracy: 44.8400 Validation Loss 10.300742\n",
      "Epoch: 301 Current training accuracy: 27.6264 Validation Accuracy: 44.9938 Validation Loss 10.299067\n",
      "Epoch: 302 Current training accuracy: 27.7952 Validation Accuracy: 45.1476 Validation Loss 10.297409\n",
      "Epoch: 303 Current training accuracy: 28.1111 Validation Accuracy: 45.3012 Validation Loss 10.295759\n",
      "Epoch: 304 Current training accuracy: 28.0587 Validation Accuracy: 45.4546 Validation Loss 10.294125\n",
      "Epoch: 305 Current training accuracy: 28.2614 Validation Accuracy: 45.6082 Validation Loss 10.292499\n",
      "Epoch: 306 Current training accuracy: 28.5878 Validation Accuracy: 45.7621 Validation Loss 10.290875\n",
      "Epoch: 307 Current training accuracy: 28.7365 Validation Accuracy: 45.9153 Validation Loss 10.289268\n",
      "Epoch: 308 Current training accuracy: 28.6368 Validation Accuracy: 46.0682 Validation Loss 10.287686\n",
      "Epoch: 309 Current training accuracy: 28.7499 Validation Accuracy: 46.2207 Validation Loss 10.286116\n",
      "Epoch: 310 Current training accuracy: 28.7548 Validation Accuracy: 46.3725 Validation Loss 10.284570\n",
      "Epoch: 311 Current training accuracy: 29.2168 Validation Accuracy: 46.5239 Validation Loss 10.283036\n",
      "Epoch: 312 Current training accuracy: 29.3350 Validation Accuracy: 46.6749 Validation Loss 10.281521\n",
      "Epoch: 313 Current training accuracy: 29.3289 Validation Accuracy: 46.8254 Validation Loss 10.280025\n",
      "Epoch: 314 Current training accuracy: 29.7459 Validation Accuracy: 46.9765 Validation Loss 10.278527\n",
      "Epoch: 315 Current training accuracy: 29.9125 Validation Accuracy: 47.1282 Validation Loss 10.277023\n",
      "Epoch: 316 Current training accuracy: 29.7310 Validation Accuracy: 47.2797 Validation Loss 10.275534\n",
      "Epoch: 317 Current training accuracy: 29.9611 Validation Accuracy: 47.4304 Validation Loss 10.274061\n",
      "Epoch: 318 Current training accuracy: 30.1782 Validation Accuracy: 47.5807 Validation Loss 10.272614\n",
      "Epoch: 319 Current training accuracy: 30.2869 Validation Accuracy: 47.7310 Validation Loss 10.271168\n",
      "Epoch: 320 Current training accuracy: 30.5852 Validation Accuracy: 47.8812 Validation Loss 10.269737\n",
      "Epoch: 321 Current training accuracy: 30.4908 Validation Accuracy: 48.0308 Validation Loss 10.268322\n",
      "Epoch: 322 Current training accuracy: 30.3816 Validation Accuracy: 48.1809 Validation Loss 10.266910\n",
      "Epoch: 323 Current training accuracy: 30.6888 Validation Accuracy: 48.3296 Validation Loss 10.265521\n",
      "Epoch: 324 Current training accuracy: 30.4220 Validation Accuracy: 48.4778 Validation Loss 10.264153\n",
      "Epoch: 325 Current training accuracy: 30.7230 Validation Accuracy: 48.6256 Validation Loss 10.262799\n",
      "Epoch: 326 Current training accuracy: 30.7948 Validation Accuracy: 48.7736 Validation Loss 10.261445\n",
      "Epoch: 327 Current training accuracy: 31.0875 Validation Accuracy: 48.9220 Validation Loss 10.260095\n",
      "Epoch: 328 Current training accuracy: 31.7099 Validation Accuracy: 49.0702 Validation Loss 10.258752\n",
      "Epoch: 329 Current training accuracy: 31.5666 Validation Accuracy: 49.2195 Validation Loss 10.257405\n",
      "Epoch: 330 Current training accuracy: 31.5472 Validation Accuracy: 49.3681 Validation Loss 10.256075\n",
      "Epoch: 331 Current training accuracy: 31.7609 Validation Accuracy: 49.5166 Validation Loss 10.254758\n",
      "Epoch: 332 Current training accuracy: 31.7922 Validation Accuracy: 49.6654 Validation Loss 10.253435\n",
      "Epoch: 333 Current training accuracy: 31.8016 Validation Accuracy: 49.8139 Validation Loss 10.252129\n",
      "Epoch: 334 Current training accuracy: 32.0006 Validation Accuracy: 49.9607 Validation Loss 10.250856\n",
      "Epoch: 335 Current training accuracy: 32.3386 Validation Accuracy: 50.1068 Validation Loss 10.249594\n",
      "Epoch: 336 Current training accuracy: 32.3374 Validation Accuracy: 50.2523 Validation Loss 10.248356\n",
      "Epoch: 337 Current training accuracy: 32.3193 Validation Accuracy: 50.3976 Validation Loss 10.247125\n",
      "Epoch: 338 Current training accuracy: 32.6918 Validation Accuracy: 50.5443 Validation Loss 10.245879\n",
      "Epoch: 339 Current training accuracy: 32.7124 Validation Accuracy: 50.6917 Validation Loss 10.244632\n",
      "Epoch: 340 Current training accuracy: 33.0295 Validation Accuracy: 50.8379 Validation Loss 10.243407\n",
      "Epoch: 341 Current training accuracy: 33.2722 Validation Accuracy: 50.9834 Validation Loss 10.242204\n",
      "Epoch: 342 Current training accuracy: 33.0263 Validation Accuracy: 51.1289 Validation Loss 10.240995\n",
      "Epoch: 343 Current training accuracy: 33.5626 Validation Accuracy: 51.2747 Validation Loss 10.239796\n",
      "Epoch: 344 Current training accuracy: 33.2073 Validation Accuracy: 51.4205 Validation Loss 10.238609\n",
      "Epoch: 345 Current training accuracy: 33.3688 Validation Accuracy: 51.5673 Validation Loss 10.237406\n",
      "Epoch: 346 Current training accuracy: 34.0240 Validation Accuracy: 51.7132 Validation Loss 10.236227\n",
      "Epoch: 347 Current training accuracy: 33.9412 Validation Accuracy: 51.8583 Validation Loss 10.235062\n",
      "Epoch: 348 Current training accuracy: 33.6649 Validation Accuracy: 52.0033 Validation Loss 10.233908\n",
      "Epoch: 349 Current training accuracy: 34.1312 Validation Accuracy: 52.1479 Validation Loss 10.232761\n",
      "Epoch: 350 Current training accuracy: 33.9995 Validation Accuracy: 52.2920 Validation Loss 10.231634\n",
      "Epoch: 351 Current training accuracy: 34.2688 Validation Accuracy: 52.4359 Validation Loss 10.230505\n",
      "Epoch: 352 Current training accuracy: 34.7058 Validation Accuracy: 52.5798 Validation Loss 10.229391\n",
      "Epoch: 353 Current training accuracy: 35.0002 Validation Accuracy: 52.7229 Validation Loss 10.228289\n",
      "Epoch: 354 Current training accuracy: 34.6198 Validation Accuracy: 52.8657 Validation Loss 10.227196\n",
      "Epoch: 355 Current training accuracy: 34.4192 Validation Accuracy: 53.0085 Validation Loss 10.226110\n",
      "Epoch: 356 Current training accuracy: 35.0441 Validation Accuracy: 53.1503 Validation Loss 10.225044\n",
      "Epoch: 357 Current training accuracy: 34.6351 Validation Accuracy: 53.2923 Validation Loss 10.223981\n",
      "Epoch: 358 Current training accuracy: 35.3123 Validation Accuracy: 53.4354 Validation Loss 10.222906\n",
      "Epoch: 359 Current training accuracy: 35.2487 Validation Accuracy: 53.5774 Validation Loss 10.221849\n",
      "Epoch: 360 Current training accuracy: 35.5027 Validation Accuracy: 53.7187 Validation Loss 10.220812\n",
      "Epoch: 361 Current training accuracy: 35.9321 Validation Accuracy: 53.8592 Validation Loss 10.219787\n",
      "Epoch: 362 Current training accuracy: 35.7659 Validation Accuracy: 53.9986 Validation Loss 10.218776\n",
      "Epoch: 363 Current training accuracy: 35.9606 Validation Accuracy: 54.1384 Validation Loss 10.217773\n",
      "Epoch: 364 Current training accuracy: 36.2135 Validation Accuracy: 54.2790 Validation Loss 10.216763\n",
      "Epoch: 365 Current training accuracy: 36.2731 Validation Accuracy: 54.4202 Validation Loss 10.215748\n",
      "Epoch: 366 Current training accuracy: 36.1135 Validation Accuracy: 54.5608 Validation Loss 10.214754\n",
      "Epoch: 367 Current training accuracy: 36.3651 Validation Accuracy: 54.7011 Validation Loss 10.213761\n",
      "Epoch: 368 Current training accuracy: 36.4151 Validation Accuracy: 54.8410 Validation Loss 10.212773\n",
      "Epoch: 369 Current training accuracy: 36.7231 Validation Accuracy: 54.9817 Validation Loss 10.211787\n",
      "Epoch: 370 Current training accuracy: 37.1072 Validation Accuracy: 55.1220 Validation Loss 10.210808\n",
      "Epoch: 371 Current training accuracy: 37.3727 Validation Accuracy: 55.2615 Validation Loss 10.209848\n",
      "Epoch: 372 Current training accuracy: 36.7929 Validation Accuracy: 55.4011 Validation Loss 10.208893\n",
      "Epoch: 373 Current training accuracy: 37.2160 Validation Accuracy: 55.5412 Validation Loss 10.207930\n",
      "Epoch: 374 Current training accuracy: 37.2489 Validation Accuracy: 55.6798 Validation Loss 10.206988\n",
      "Epoch: 375 Current training accuracy: 37.6837 Validation Accuracy: 55.8194 Validation Loss 10.206041\n",
      "Epoch: 376 Current training accuracy: 37.5552 Validation Accuracy: 55.9596 Validation Loss 10.205097\n",
      "Epoch: 377 Current training accuracy: 38.1207 Validation Accuracy: 56.1001 Validation Loss 10.204148\n",
      "Epoch: 378 Current training accuracy: 37.9759 Validation Accuracy: 56.2401 Validation Loss 10.203216\n",
      "Epoch: 379 Current training accuracy: 37.8434 Validation Accuracy: 56.3795 Validation Loss 10.202291\n",
      "Epoch: 380 Current training accuracy: 38.1902 Validation Accuracy: 56.5207 Validation Loss 10.201349\n",
      "Epoch: 381 Current training accuracy: 38.2354 Validation Accuracy: 56.6616 Validation Loss 10.200418\n",
      "Epoch: 382 Current training accuracy: 38.3386 Validation Accuracy: 56.8015 Validation Loss 10.199501\n",
      "Epoch: 383 Current training accuracy: 38.7362 Validation Accuracy: 56.9411 Validation Loss 10.198594\n",
      "Epoch: 384 Current training accuracy: 38.8783 Validation Accuracy: 57.0814 Validation Loss 10.197682\n",
      "Epoch: 385 Current training accuracy: 38.4608 Validation Accuracy: 57.2228 Validation Loss 10.196762\n",
      "Epoch: 386 Current training accuracy: 38.7537 Validation Accuracy: 57.3622 Validation Loss 10.195865\n",
      "Epoch: 387 Current training accuracy: 39.0677 Validation Accuracy: 57.4998 Validation Loss 10.194993\n",
      "Epoch: 388 Current training accuracy: 39.1544 Validation Accuracy: 57.6377 Validation Loss 10.194126\n",
      "Epoch: 389 Current training accuracy: 39.2668 Validation Accuracy: 57.7755 Validation Loss 10.193258\n",
      "Epoch: 390 Current training accuracy: 39.6076 Validation Accuracy: 57.9141 Validation Loss 10.192391\n",
      "Epoch: 391 Current training accuracy: 39.3090 Validation Accuracy: 58.0517 Validation Loss 10.191539\n",
      "Epoch: 392 Current training accuracy: 39.5610 Validation Accuracy: 58.1889 Validation Loss 10.190692\n",
      "Epoch: 393 Current training accuracy: 39.7906 Validation Accuracy: 58.3262 Validation Loss 10.189847\n",
      "Epoch: 394 Current training accuracy: 39.7865 Validation Accuracy: 58.4629 Validation Loss 10.189014\n",
      "Epoch: 395 Current training accuracy: 40.1228 Validation Accuracy: 58.5996 Validation Loss 10.188187\n",
      "Epoch: 396 Current training accuracy: 40.3306 Validation Accuracy: 58.7368 Validation Loss 10.187356\n",
      "Epoch: 397 Current training accuracy: 40.4377 Validation Accuracy: 58.8741 Validation Loss 10.186527\n",
      "Epoch: 398 Current training accuracy: 40.5688 Validation Accuracy: 59.0117 Validation Loss 10.185706\n",
      "Epoch: 399 Current training accuracy: 40.3553 Validation Accuracy: 59.1494 Validation Loss 10.184878\n",
      "Epoch: 400 Current training accuracy: 41.0953 Validation Accuracy: 59.2874 Validation Loss 10.184057\n",
      "Epoch: 401 Current training accuracy: 41.1983 Validation Accuracy: 59.4244 Validation Loss 10.183249\n",
      "Epoch: 402 Current training accuracy: 41.1126 Validation Accuracy: 59.5608 Validation Loss 10.182451\n",
      "Epoch: 403 Current training accuracy: 40.8948 Validation Accuracy: 59.6969 Validation Loss 10.181660\n",
      "Epoch: 404 Current training accuracy: 41.3767 Validation Accuracy: 59.8331 Validation Loss 10.180871\n",
      "Epoch: 405 Current training accuracy: 41.7638 Validation Accuracy: 59.9694 Validation Loss 10.180083\n",
      "Epoch: 406 Current training accuracy: 41.5103 Validation Accuracy: 60.1060 Validation Loss 10.179300\n",
      "Epoch: 407 Current training accuracy: 41.5640 Validation Accuracy: 60.2426 Validation Loss 10.178517\n",
      "Epoch: 408 Current training accuracy: 41.9039 Validation Accuracy: 60.3791 Validation Loss 10.177738\n",
      "Epoch: 409 Current training accuracy: 42.2797 Validation Accuracy: 60.5152 Validation Loss 10.176971\n",
      "Epoch: 410 Current training accuracy: 41.7258 Validation Accuracy: 60.6509 Validation Loss 10.176206\n",
      "Epoch: 411 Current training accuracy: 41.9013 Validation Accuracy: 60.7851 Validation Loss 10.175461\n",
      "Epoch: 412 Current training accuracy: 42.2754 Validation Accuracy: 60.9191 Validation Loss 10.174722\n",
      "Epoch: 413 Current training accuracy: 42.6317 Validation Accuracy: 61.0523 Validation Loss 10.173991\n",
      "Epoch: 414 Current training accuracy: 43.0426 Validation Accuracy: 61.1849 Validation Loss 10.173272\n",
      "Epoch: 415 Current training accuracy: 42.6258 Validation Accuracy: 61.3196 Validation Loss 10.172535\n",
      "Epoch: 416 Current training accuracy: 42.7775 Validation Accuracy: 61.4547 Validation Loss 10.171794\n",
      "Epoch: 417 Current training accuracy: 42.9294 Validation Accuracy: 61.5909 Validation Loss 10.171049\n",
      "Epoch: 418 Current training accuracy: 43.2757 Validation Accuracy: 61.7257 Validation Loss 10.170321\n",
      "Epoch: 419 Current training accuracy: 43.5211 Validation Accuracy: 61.8592 Validation Loss 10.169606\n",
      "Epoch: 420 Current training accuracy: 43.6158 Validation Accuracy: 61.9911 Validation Loss 10.168914\n",
      "Epoch: 421 Current training accuracy: 43.7857 Validation Accuracy: 62.1242 Validation Loss 10.168211\n",
      "Epoch: 422 Current training accuracy: 44.0388 Validation Accuracy: 62.2569 Validation Loss 10.167512\n",
      "Epoch: 423 Current training accuracy: 44.1101 Validation Accuracy: 62.3891 Validation Loss 10.166827\n",
      "Epoch: 424 Current training accuracy: 44.0937 Validation Accuracy: 62.5213 Validation Loss 10.166139\n",
      "Epoch: 425 Current training accuracy: 44.1764 Validation Accuracy: 62.6537 Validation Loss 10.165453\n",
      "Epoch: 426 Current training accuracy: 44.5461 Validation Accuracy: 62.7858 Validation Loss 10.164776\n",
      "Epoch: 427 Current training accuracy: 44.1642 Validation Accuracy: 62.9178 Validation Loss 10.164098\n",
      "Epoch: 428 Current training accuracy: 44.8830 Validation Accuracy: 63.0503 Validation Loss 10.163423\n",
      "Epoch: 429 Current training accuracy: 44.8654 Validation Accuracy: 63.1835 Validation Loss 10.162743\n",
      "Epoch: 430 Current training accuracy: 44.7208 Validation Accuracy: 63.3172 Validation Loss 10.162061\n",
      "Epoch: 431 Current training accuracy: 45.0755 Validation Accuracy: 63.4513 Validation Loss 10.161373\n",
      "Epoch: 432 Current training accuracy: 44.8968 Validation Accuracy: 63.5858 Validation Loss 10.160687\n",
      "Epoch: 433 Current training accuracy: 44.9647 Validation Accuracy: 63.7199 Validation Loss 10.160013\n",
      "Epoch: 434 Current training accuracy: 45.3925 Validation Accuracy: 63.8545 Validation Loss 10.159333\n",
      "Epoch: 435 Current training accuracy: 45.4133 Validation Accuracy: 63.9878 Validation Loss 10.158665\n",
      "Epoch: 436 Current training accuracy: 45.5683 Validation Accuracy: 64.1207 Validation Loss 10.158012\n",
      "Epoch: 437 Current training accuracy: 45.7723 Validation Accuracy: 64.2526 Validation Loss 10.157365\n",
      "Epoch: 438 Current training accuracy: 45.3634 Validation Accuracy: 64.3843 Validation Loss 10.156721\n",
      "Epoch: 439 Current training accuracy: 45.8879 Validation Accuracy: 64.5148 Validation Loss 10.156092\n",
      "Epoch: 440 Current training accuracy: 45.6144 Validation Accuracy: 64.6450 Validation Loss 10.155479\n",
      "Epoch: 441 Current training accuracy: 45.9480 Validation Accuracy: 64.7755 Validation Loss 10.154848\n",
      "Epoch: 442 Current training accuracy: 46.5258 Validation Accuracy: 64.9077 Validation Loss 10.154212\n",
      "Epoch: 443 Current training accuracy: 46.3490 Validation Accuracy: 65.0396 Validation Loss 10.153578\n",
      "Epoch: 444 Current training accuracy: 47.3462 Validation Accuracy: 65.1711 Validation Loss 10.152959\n",
      "Epoch: 445 Current training accuracy: 46.5877 Validation Accuracy: 65.3019 Validation Loss 10.152342\n",
      "Epoch: 446 Current training accuracy: 46.6585 Validation Accuracy: 65.4331 Validation Loss 10.151726\n",
      "Epoch: 447 Current training accuracy: 46.8475 Validation Accuracy: 65.5634 Validation Loss 10.151121\n",
      "Epoch: 448 Current training accuracy: 47.0529 Validation Accuracy: 65.6933 Validation Loss 10.150516\n",
      "Epoch: 449 Current training accuracy: 47.1679 Validation Accuracy: 65.8236 Validation Loss 10.149916\n",
      "Epoch: 450 Current training accuracy: 46.8010 Validation Accuracy: 65.9533 Validation Loss 10.149319\n",
      "Epoch: 451 Current training accuracy: 47.5784 Validation Accuracy: 66.0838 Validation Loss 10.148723\n",
      "Epoch: 452 Current training accuracy: 47.5621 Validation Accuracy: 66.2149 Validation Loss 10.148116\n",
      "Epoch: 453 Current training accuracy: 47.8109 Validation Accuracy: 66.3451 Validation Loss 10.147528\n",
      "Epoch: 454 Current training accuracy: 48.3638 Validation Accuracy: 66.4743 Validation Loss 10.146946\n",
      "Epoch: 455 Current training accuracy: 48.5195 Validation Accuracy: 66.6037 Validation Loss 10.146364\n",
      "Epoch: 456 Current training accuracy: 47.9908 Validation Accuracy: 66.7331 Validation Loss 10.145789\n",
      "Epoch: 457 Current training accuracy: 48.0173 Validation Accuracy: 66.8631 Validation Loss 10.145204\n",
      "Epoch: 458 Current training accuracy: 48.8714 Validation Accuracy: 66.9905 Validation Loss 10.144646\n",
      "Epoch: 459 Current training accuracy: 48.5371 Validation Accuracy: 67.1188 Validation Loss 10.144088\n",
      "Epoch: 460 Current training accuracy: 48.9298 Validation Accuracy: 67.2488 Validation Loss 10.143512\n",
      "Epoch: 461 Current training accuracy: 48.7622 Validation Accuracy: 67.3798 Validation Loss 10.142931\n",
      "Epoch: 462 Current training accuracy: 49.4731 Validation Accuracy: 67.5106 Validation Loss 10.142355\n",
      "Epoch: 463 Current training accuracy: 48.6596 Validation Accuracy: 67.6409 Validation Loss 10.141786\n",
      "Epoch: 464 Current training accuracy: 49.1628 Validation Accuracy: 67.7690 Validation Loss 10.141237\n",
      "Epoch: 465 Current training accuracy: 49.6396 Validation Accuracy: 67.8969 Validation Loss 10.140694\n",
      "Epoch: 466 Current training accuracy: 49.4856 Validation Accuracy: 68.0248 Validation Loss 10.140149\n",
      "Epoch: 467 Current training accuracy: 49.9657 Validation Accuracy: 68.1526 Validation Loss 10.139608\n",
      "Epoch: 468 Current training accuracy: 49.6055 Validation Accuracy: 68.2803 Validation Loss 10.139074\n",
      "Epoch: 469 Current training accuracy: 49.6926 Validation Accuracy: 68.4083 Validation Loss 10.138532\n",
      "Epoch: 470 Current training accuracy: 49.5299 Validation Accuracy: 68.5358 Validation Loss 10.138000\n",
      "Epoch: 471 Current training accuracy: 50.5674 Validation Accuracy: 68.6646 Validation Loss 10.137461\n",
      "Epoch: 472 Current training accuracy: 50.2023 Validation Accuracy: 68.7929 Validation Loss 10.136927\n",
      "Epoch: 473 Current training accuracy: 49.5780 Validation Accuracy: 68.9215 Validation Loss 10.136395\n",
      "Epoch: 474 Current training accuracy: 50.1053 Validation Accuracy: 69.0497 Validation Loss 10.135861\n",
      "Epoch: 475 Current training accuracy: 50.7109 Validation Accuracy: 69.1758 Validation Loss 10.135352\n",
      "Epoch: 476 Current training accuracy: 51.2062 Validation Accuracy: 69.3005 Validation Loss 10.134851\n",
      "Epoch: 477 Current training accuracy: 50.8462 Validation Accuracy: 69.4244 Validation Loss 10.134361\n",
      "Epoch: 478 Current training accuracy: 50.9026 Validation Accuracy: 69.5481 Validation Loss 10.133874\n",
      "Epoch: 479 Current training accuracy: 51.1228 Validation Accuracy: 69.6716 Validation Loss 10.133390\n",
      "Epoch: 480 Current training accuracy: 51.5239 Validation Accuracy: 69.7942 Validation Loss 10.132914\n",
      "Epoch: 481 Current training accuracy: 50.9635 Validation Accuracy: 69.9184 Validation Loss 10.132433\n",
      "Epoch: 482 Current training accuracy: 51.4781 Validation Accuracy: 70.0421 Validation Loss 10.131951\n",
      "Epoch: 483 Current training accuracy: 51.5316 Validation Accuracy: 70.1652 Validation Loss 10.131476\n",
      "Epoch: 484 Current training accuracy: 51.3443 Validation Accuracy: 70.2878 Validation Loss 10.131005\n",
      "Epoch: 485 Current training accuracy: 51.6308 Validation Accuracy: 70.4130 Validation Loss 10.130519\n",
      "Epoch: 486 Current training accuracy: 52.1241 Validation Accuracy: 70.5394 Validation Loss 10.130025\n",
      "Epoch: 487 Current training accuracy: 52.2870 Validation Accuracy: 70.6637 Validation Loss 10.129547\n",
      "Epoch: 488 Current training accuracy: 52.3256 Validation Accuracy: 70.7896 Validation Loss 10.129064\n",
      "Epoch: 489 Current training accuracy: 52.1424 Validation Accuracy: 70.9158 Validation Loss 10.128575\n",
      "Epoch: 490 Current training accuracy: 52.5550 Validation Accuracy: 71.0413 Validation Loss 10.128093\n",
      "Epoch: 491 Current training accuracy: 52.2316 Validation Accuracy: 71.1669 Validation Loss 10.127617\n",
      "Epoch: 492 Current training accuracy: 52.8991 Validation Accuracy: 71.2929 Validation Loss 10.127138\n",
      "Epoch: 493 Current training accuracy: 52.9021 Validation Accuracy: 71.4187 Validation Loss 10.126659\n",
      "Epoch: 494 Current training accuracy: 53.2286 Validation Accuracy: 71.5437 Validation Loss 10.126193\n",
      "Epoch: 495 Current training accuracy: 52.6755 Validation Accuracy: 71.6677 Validation Loss 10.125732\n",
      "Epoch: 496 Current training accuracy: 53.0758 Validation Accuracy: 71.7932 Validation Loss 10.125259\n",
      "Epoch: 497 Current training accuracy: 53.2988 Validation Accuracy: 71.9182 Validation Loss 10.124796\n",
      "Epoch: 498 Current training accuracy: 53.8859 Validation Accuracy: 72.0438 Validation Loss 10.124327\n",
      "Epoch: 499 Current training accuracy: 53.7954 Validation Accuracy: 72.1693 Validation Loss 10.123861\n",
      "Epoch: 500 Current training accuracy: 53.5160 Validation Accuracy: 72.2997 Validation Loss 10.123363\n",
      "Epoch: 501 Current training accuracy: 53.4577 Validation Accuracy: 72.4268 Validation Loss 10.122890\n",
      "Epoch: 502 Current training accuracy: 54.1248 Validation Accuracy: 72.5537 Validation Loss 10.122419\n",
      "Epoch: 503 Current training accuracy: 54.1545 Validation Accuracy: 72.6811 Validation Loss 10.121949\n",
      "Epoch: 504 Current training accuracy: 54.5879 Validation Accuracy: 72.8065 Validation Loss 10.121493\n",
      "Epoch: 505 Current training accuracy: 54.4560 Validation Accuracy: 72.9330 Validation Loss 10.121028\n",
      "Epoch: 506 Current training accuracy: 54.2562 Validation Accuracy: 73.0597 Validation Loss 10.120566\n",
      "Epoch: 507 Current training accuracy: 54.4379 Validation Accuracy: 73.1865 Validation Loss 10.120104\n",
      "Epoch: 508 Current training accuracy: 54.7822 Validation Accuracy: 73.3147 Validation Loss 10.119637\n",
      "Epoch: 509 Current training accuracy: 54.7216 Validation Accuracy: 73.4428 Validation Loss 10.119170\n",
      "Epoch: 510 Current training accuracy: 54.4541 Validation Accuracy: 73.5686 Validation Loss 10.118725\n",
      "Epoch: 511 Current training accuracy: 55.0636 Validation Accuracy: 73.6954 Validation Loss 10.118265\n",
      "Epoch: 512 Current training accuracy: 55.4920 Validation Accuracy: 73.8251 Validation Loss 10.117799\n",
      "Epoch: 513 Current training accuracy: 55.2247 Validation Accuracy: 73.9537 Validation Loss 10.117336\n",
      "Epoch: 514 Current training accuracy: 55.1499 Validation Accuracy: 74.0811 Validation Loss 10.116882\n",
      "Epoch: 515 Current training accuracy: 55.6976 Validation Accuracy: 74.2060 Validation Loss 10.116450\n",
      "Epoch: 516 Current training accuracy: 55.8799 Validation Accuracy: 74.3306 Validation Loss 10.116018\n",
      "Epoch: 517 Current training accuracy: 55.8782 Validation Accuracy: 74.4554 Validation Loss 10.115588\n",
      "Epoch: 518 Current training accuracy: 56.4358 Validation Accuracy: 74.5812 Validation Loss 10.115147\n",
      "Epoch: 519 Current training accuracy: 56.1206 Validation Accuracy: 74.7061 Validation Loss 10.114716\n",
      "Epoch: 520 Current training accuracy: 56.1656 Validation Accuracy: 74.8305 Validation Loss 10.114298\n",
      "Epoch: 521 Current training accuracy: 56.9395 Validation Accuracy: 74.9548 Validation Loss 10.113876\n",
      "Epoch: 522 Current training accuracy: 56.4305 Validation Accuracy: 75.0797 Validation Loss 10.113449\n",
      "Epoch: 523 Current training accuracy: 56.7147 Validation Accuracy: 75.2042 Validation Loss 10.113031\n",
      "Epoch: 524 Current training accuracy: 56.8856 Validation Accuracy: 75.3297 Validation Loss 10.112608\n",
      "Epoch: 525 Current training accuracy: 56.9984 Validation Accuracy: 75.4558 Validation Loss 10.112178\n",
      "Epoch: 526 Current training accuracy: 57.1301 Validation Accuracy: 75.5829 Validation Loss 10.111744\n",
      "Epoch: 527 Current training accuracy: 57.0314 Validation Accuracy: 75.7098 Validation Loss 10.111313\n",
      "Epoch: 528 Current training accuracy: 57.1281 Validation Accuracy: 75.8357 Validation Loss 10.110891\n",
      "Epoch: 529 Current training accuracy: 57.2994 Validation Accuracy: 75.9605 Validation Loss 10.110476\n",
      "Epoch: 530 Current training accuracy: 57.5006 Validation Accuracy: 76.0850 Validation Loss 10.110069\n",
      "Epoch: 531 Current training accuracy: 57.5899 Validation Accuracy: 76.2097 Validation Loss 10.109655\n",
      "Epoch: 532 Current training accuracy: 57.8565 Validation Accuracy: 76.3342 Validation Loss 10.109248\n",
      "Epoch: 533 Current training accuracy: 57.9903 Validation Accuracy: 76.4600 Validation Loss 10.108831\n",
      "Epoch: 534 Current training accuracy: 57.6708 Validation Accuracy: 76.5841 Validation Loss 10.108436\n",
      "Epoch: 535 Current training accuracy: 58.3848 Validation Accuracy: 76.7085 Validation Loss 10.108030\n",
      "Epoch: 536 Current training accuracy: 58.3275 Validation Accuracy: 76.8333 Validation Loss 10.107626\n",
      "Epoch: 537 Current training accuracy: 58.2876 Validation Accuracy: 76.9561 Validation Loss 10.107239\n",
      "Epoch: 538 Current training accuracy: 58.8277 Validation Accuracy: 77.0791 Validation Loss 10.106849\n",
      "Epoch: 539 Current training accuracy: 58.4333 Validation Accuracy: 77.2021 Validation Loss 10.106461\n",
      "Epoch: 540 Current training accuracy: 58.5876 Validation Accuracy: 77.3268 Validation Loss 10.106062\n",
      "Epoch: 541 Current training accuracy: 58.9018 Validation Accuracy: 77.4512 Validation Loss 10.105668\n",
      "Epoch: 542 Current training accuracy: 59.3839 Validation Accuracy: 77.5743 Validation Loss 10.105283\n",
      "Epoch: 543 Current training accuracy: 59.3366 Validation Accuracy: 77.6986 Validation Loss 10.104889\n",
      "Epoch: 544 Current training accuracy: 59.5104 Validation Accuracy: 77.8216 Validation Loss 10.104510\n",
      "Epoch: 545 Current training accuracy: 60.1798 Validation Accuracy: 77.9438 Validation Loss 10.104136\n",
      "Epoch: 546 Current training accuracy: 59.3098 Validation Accuracy: 78.0665 Validation Loss 10.103760\n",
      "Epoch: 547 Current training accuracy: 59.4749 Validation Accuracy: 78.1908 Validation Loss 10.103370\n",
      "Epoch: 548 Current training accuracy: 59.8249 Validation Accuracy: 78.3168 Validation Loss 10.102969\n",
      "Epoch: 549 Current training accuracy: 59.9527 Validation Accuracy: 78.4418 Validation Loss 10.102583\n",
      "Epoch: 550 Current training accuracy: 60.0982 Validation Accuracy: 78.5660 Validation Loss 10.102202\n",
      "Epoch: 551 Current training accuracy: 60.2226 Validation Accuracy: 78.6897 Validation Loss 10.101830\n",
      "Epoch: 552 Current training accuracy: 60.0511 Validation Accuracy: 78.8133 Validation Loss 10.101454\n",
      "Epoch: 553 Current training accuracy: 60.8329 Validation Accuracy: 78.9367 Validation Loss 10.101079\n",
      "Epoch: 554 Current training accuracy: 60.6203 Validation Accuracy: 79.0617 Validation Loss 10.100700\n",
      "Epoch: 555 Current training accuracy: 60.7122 Validation Accuracy: 79.1858 Validation Loss 10.100327\n",
      "Epoch: 556 Current training accuracy: 60.4940 Validation Accuracy: 79.3096 Validation Loss 10.099952\n",
      "Epoch: 557 Current training accuracy: 61.0423 Validation Accuracy: 79.4339 Validation Loss 10.099579\n",
      "Epoch: 558 Current training accuracy: 61.1778 Validation Accuracy: 79.5585 Validation Loss 10.099207\n",
      "Epoch: 559 Current training accuracy: 61.5555 Validation Accuracy: 79.6840 Validation Loss 10.098822\n",
      "Epoch: 560 Current training accuracy: 61.5909 Validation Accuracy: 79.8073 Validation Loss 10.098454\n",
      "Epoch: 561 Current training accuracy: 61.0919 Validation Accuracy: 79.9298 Validation Loss 10.098100\n",
      "Epoch: 562 Current training accuracy: 61.5370 Validation Accuracy: 80.0513 Validation Loss 10.097752\n",
      "Epoch: 563 Current training accuracy: 61.4609 Validation Accuracy: 80.1724 Validation Loss 10.097404\n",
      "Epoch: 564 Current training accuracy: 61.5063 Validation Accuracy: 80.2931 Validation Loss 10.097059\n",
      "Epoch: 565 Current training accuracy: 61.8764 Validation Accuracy: 80.4165 Validation Loss 10.096703\n",
      "Epoch: 566 Current training accuracy: 61.5555 Validation Accuracy: 80.5409 Validation Loss 10.096339\n",
      "Epoch: 567 Current training accuracy: 62.5132 Validation Accuracy: 80.6659 Validation Loss 10.095968\n",
      "Epoch: 568 Current training accuracy: 61.7810 Validation Accuracy: 80.7901 Validation Loss 10.095611\n",
      "Epoch: 569 Current training accuracy: 62.6336 Validation Accuracy: 80.9145 Validation Loss 10.095255\n",
      "Epoch: 570 Current training accuracy: 62.4614 Validation Accuracy: 81.0390 Validation Loss 10.094890\n",
      "Epoch: 571 Current training accuracy: 62.2851 Validation Accuracy: 81.1638 Validation Loss 10.094533\n",
      "Epoch: 572 Current training accuracy: 63.2509 Validation Accuracy: 81.2875 Validation Loss 10.094178\n",
      "Epoch: 573 Current training accuracy: 62.9948 Validation Accuracy: 81.4117 Validation Loss 10.093825\n",
      "Epoch: 574 Current training accuracy: 62.7175 Validation Accuracy: 81.5367 Validation Loss 10.093467\n",
      "Epoch: 575 Current training accuracy: 62.9829 Validation Accuracy: 81.6595 Validation Loss 10.093119\n",
      "Epoch: 576 Current training accuracy: 63.5741 Validation Accuracy: 81.7801 Validation Loss 10.092793\n",
      "Epoch: 577 Current training accuracy: 63.2916 Validation Accuracy: 81.9004 Validation Loss 10.092462\n",
      "Epoch: 578 Current training accuracy: 63.3953 Validation Accuracy: 82.0217 Validation Loss 10.092131\n",
      "Epoch: 579 Current training accuracy: 63.8314 Validation Accuracy: 82.1433 Validation Loss 10.091799\n",
      "Epoch: 580 Current training accuracy: 63.7883 Validation Accuracy: 82.2652 Validation Loss 10.091468\n",
      "Epoch: 581 Current training accuracy: 64.4385 Validation Accuracy: 82.3861 Validation Loss 10.091140\n",
      "Epoch: 582 Current training accuracy: 63.9937 Validation Accuracy: 82.5071 Validation Loss 10.090817\n",
      "Epoch: 583 Current training accuracy: 64.2709 Validation Accuracy: 82.6292 Validation Loss 10.090487\n",
      "Epoch: 584 Current training accuracy: 64.0329 Validation Accuracy: 82.7527 Validation Loss 10.090149\n",
      "Epoch: 585 Current training accuracy: 64.2626 Validation Accuracy: 82.8765 Validation Loss 10.089815\n",
      "Epoch: 586 Current training accuracy: 64.2304 Validation Accuracy: 82.9990 Validation Loss 10.089479\n",
      "Epoch: 587 Current training accuracy: 65.1012 Validation Accuracy: 83.1199 Validation Loss 10.089157\n",
      "Epoch: 588 Current training accuracy: 64.5746 Validation Accuracy: 83.2431 Validation Loss 10.088827\n",
      "Epoch: 589 Current training accuracy: 65.4043 Validation Accuracy: 83.3658 Validation Loss 10.088502\n",
      "Epoch: 590 Current training accuracy: 66.0516 Validation Accuracy: 83.4886 Validation Loss 10.088169\n",
      "Epoch: 591 Current training accuracy: 65.4506 Validation Accuracy: 83.6106 Validation Loss 10.087851\n",
      "Epoch: 592 Current training accuracy: 64.9009 Validation Accuracy: 83.7334 Validation Loss 10.087525\n",
      "Epoch: 593 Current training accuracy: 65.7710 Validation Accuracy: 83.8534 Validation Loss 10.087216\n",
      "Epoch: 594 Current training accuracy: 65.1425 Validation Accuracy: 83.9739 Validation Loss 10.086905\n",
      "Epoch: 595 Current training accuracy: 66.1024 Validation Accuracy: 84.0955 Validation Loss 10.086593\n",
      "Epoch: 596 Current training accuracy: 66.0848 Validation Accuracy: 84.2180 Validation Loss 10.086269\n",
      "Epoch: 597 Current training accuracy: 65.8520 Validation Accuracy: 84.3405 Validation Loss 10.085952\n",
      "Epoch: 598 Current training accuracy: 66.5637 Validation Accuracy: 84.4610 Validation Loss 10.085647\n",
      "Epoch: 599 Current training accuracy: 66.4198 Validation Accuracy: 84.5815 Validation Loss 10.085342\n",
      "Epoch: 600 Current training accuracy: 66.7386 Validation Accuracy: 84.7013 Validation Loss 10.085039\n"
     ]
    },
    {
     "data": {
      "image/png": "[encoded data removed]",
      "text/plain": [
       "<Figure size 432x288 with 1 Axes>"
      ]
     },
     "metadata": {
      "tags": []
     },
     "output_type": "display_data"
    },
    {
     "data": {
      "image/png": "[encoded data removed]",
      "text/plain": [
       "<Figure size 432x288 with 1 Axes>"
      ]
     },
     "metadata": {
      "tags": []
     },
     "output_type": "display_data"
    },
    {
     "data": {
      "image/png": "[encoded data removed]",
      "text/plain": [
       "<Figure size 432x288 with 1 Axes>"
      ]
     },
     "metadata": {
      "tags": []
     },
     "output_type": "display_data"
    },
    {
     "data": {
      "image/png": "[encoded data removed]",
      "text/plain": [
       "<Figure size 432x288 with 1 Axes>"
      ]
     },
     "metadata": {
      "tags": []
     },
     "output_type": "display_data"
    },
    {
     "name": "stdout",
     "output_type": "stream",
     "text": [
      "Accuracy: 85.01 %.\n",
      "Loss: 10.03396\n",
      "Mean Absolute Error: 0.215 degrees.\n",
      "Akaike Information Criterion: 17.58 degrees.\n"
     ]
    },
    {
     "data": {
      "image/png": "[encoded data removed]",
      "text/plain": [
       "<Figure size 432x288 with 1 Axes>"
      ]
     },
     "metadata": {
      "tags": []
     },
     "output_type": "display_data"
    },
    {
     "data": {
      "image/png": "[encoded data removed]",
      "text/plain": [
       "<Figure size 432x288 with 1 Axes>"
      ]
     },
     "metadata": {
      "tags": []
     },
     "output_type": "display_data"
    },
    {
     "name": "stdout",
     "output_type": "stream",
     "text": [
      "Accuracy: 84.7 %.\n",
      "Loss: 10.08504\n",
      "Mean Absolute Error: 0.213 degrees.\n",
      "Akaike Information Criterion: 17.61 degrees.\n",
      "Training Accuracy:  85.00668\n",
      "Testing Accuracy:  84.70128\n",
      "Training AIC:  17.577665\n",
      "Testing AIC:  17.61217\n",
      "Training MAE:  0.21496244\n",
      "Testing MAE:  0.21334288\n"
     ]
    }
   ],
   "source": [
    "num_iterations = 1\n",
    "\n",
    "Acc_List = []\n",
    "Val_Acc_List = []\n",
    "Loss_List = []\n",
    "Val_Loss_List = []\n",
    "\n",
    "Accuracy_train = []\n",
    "Accuracy_val = []\n",
    "AIC_train = []\n",
    "AIC_val = []\n",
    "MAE_train = []\n",
    "MAE_val = []\n",
    "for i in range(num_iterations):\n",
    "    h = Network(batch_size = 1200, m=1, n_neurons=3, n_hidden_layers=2, n_epochs=600, batch_norm_momentum = True, activation=tf.nn.relu, initializer=he_init, learning_rate=0.001)\n",
    "    \n",
    "    h.fit(X_train,y_train,X_val,y_val)\n",
    "    acc_list, val_acc_list, loss_list, val_loss_list = h.__get_list__()\n",
    "\n",
    "    Acc_List.append(acc_list)\n",
    "    Val_Acc_List.append(val_acc_list)\n",
    "    Loss_List.append(loss_list)\n",
    "    Val_Loss_List.append(val_loss_list)\n",
    "\n",
    "    \n",
    "    acc_train, aic_train, mae_train = h.evaluate(X_train, y_train)\n",
    "    acc_val, aic_val, mae_val = h.evaluate(X_val,y_val)\n",
    "    Accuracy_train.append(acc_train)\n",
    "    Accuracy_val.append(acc_val)\n",
    "    AIC_train.append(aic_train)\n",
    "    AIC_val.append(aic_val)\n",
    "    MAE_train.append(mae_train)\n",
    "    MAE_val.append(mae_val)\n",
    "    \n",
    "\n",
    "\n",
    "print('Training Accuracy: ', np.nanmean(Accuracy_train))\n",
    "print('Testing Accuracy: ', np.nanmean(Accuracy_val))\n",
    "print('Training AIC: ', np.nanmean(AIC_train))\n",
    "print('Testing AIC: ', np.nanmean(AIC_val))\n",
    "print('Training MAE: ', np.nanmean(MAE_train))\n",
    "print('Testing MAE: ', np.nanmean(MAE_val))\n"
   ]
  },
  {
   "cell_type": "code",
   "execution_count": null,
   "metadata": {
    "id": "FKkF5AqjMZIQ",
    "outputId": "2538f864-37b5-432b-eb29-e45b508ac267"
   },
   "outputs": [
    {
     "data": {
      "image/png": "[encoded data removed]",
      "text/plain": [
       "<Figure size 432x288 with 1 Axes>"
      ]
     },
     "metadata": {
      "tags": []
     },
     "output_type": "display_data"
    },
    {
     "data": {
      "image/png": "[encoded data removed]",
      "text/plain": [
       "<Figure size 432x288 with 1 Axes>"
      ]
     },
     "metadata": {
      "tags": []
     },
     "output_type": "display_data"
    }
   ],
   "source": [
    "plt.title('Training and validation accuracy')\n",
    "\n",
    "plt.plot(range(len(Acc_List[0])), Acc_List[0], color='blue', label='Train')\n",
    "plt.plot(range(len(Val_Acc_List[0])), Val_Acc_List[0], color='orange', label='Val')\n",
    "\n",
    "for i in range(1, num_iterations):\n",
    "    plt.plot(range(len(Acc_List[i])), Acc_List[i], color='blue')\n",
    "    plt.plot(range(len(Val_Acc_List[i])), Val_Acc_List[i], color='orange')\n",
    "plt.xlabel('Epoch')\n",
    "plt.ylabel('Accuracy')\n",
    "plt.legend()\n",
    "\n",
    "\n",
    "_ = plt.figure()\n",
    "plt.title('Training and validation loss')\n",
    "plt.plot(range(len(Loss_List[0])), Loss_List[0], color='blue', label='Train')\n",
    "plt.plot(range(len(Val_Loss_List[0])), Val_Loss_List[0], color='orange', label='Val')\n",
    "\n",
    "for i in range(1, num_iterations):\n",
    "    plt.plot(range(len(Loss_List[i])), Loss_List[i], color='blue')\n",
    "    plt.plot(range(len(Val_Loss_List[i])), Val_Loss_List[i], color='orange')\n",
    "plt.xlabel('Epoch')\n",
    "plt.ylabel('Loss')\n",
    "plt.legend()\n",
    "plt.show()"
   ]
  },
  {
   "cell_type": "code",
   "execution_count": null,
   "metadata": {
    "id": "kMuRBMTUMZIR",
    "outputId": "de4163fb-a9a5-45c4-fc68-c619c0f52ee7",
    "scrolled": true
   },
   "outputs": [
    {
     "name": "stdout",
     "output_type": "stream",
     "text": [
      "Epoch: 1 Current training accuracy: 3.2147 Validation Accuracy: 0.2591 Validation Loss 16.567368\n",
      "Epoch: 2 Current training accuracy: 3.3339 Validation Accuracy: 0.3066 Validation Loss 15.191114\n",
      "Epoch: 3 Current training accuracy: 3.4194 Validation Accuracy: 0.3904 Validation Loss 14.278419\n",
      "Epoch: 4 Current training accuracy: 3.6444 Validation Accuracy: 0.5225 Validation Loss 13.639946\n",
      "Epoch: 5 Current training accuracy: 3.9629 Validation Accuracy: 0.7196 Validation Loss 13.184168\n",
      "Epoch: 6 Current training accuracy: 4.4129 Validation Accuracy: 0.9852 Validation Loss 12.821859\n",
      "Epoch: 7 Current training accuracy: 4.8718 Validation Accuracy: 1.3323 Validation Loss 12.541364\n",
      "Epoch: 8 Current training accuracy: 6.0636 Validation Accuracy: 1.7616 Validation Loss 12.312294\n",
      "Epoch: 9 Current training accuracy: 6.6456 Validation Accuracy: 2.2706 Validation Loss 12.122467\n",
      "Epoch: 10 Current training accuracy: 7.4099 Validation Accuracy: 2.8475 Validation Loss 11.959064\n",
      "Epoch: 11 Current training accuracy: 7.9164 Validation Accuracy: 3.4947 Validation Loss 11.821992\n",
      "Epoch: 12 Current training accuracy: 9.0797 Validation Accuracy: 4.2411 Validation Loss 11.766708\n",
      "Epoch: 13 Current training accuracy: 10.6706 Validation Accuracy: 5.0064 Validation Loss 11.668258\n",
      "Epoch: 14 Current training accuracy: 12.0752 Validation Accuracy: 5.8313 Validation Loss 11.579096\n",
      "Epoch: 15 Current training accuracy: 12.6971 Validation Accuracy: 6.6955 Validation Loss 11.497765\n",
      "Epoch: 16 Current training accuracy: 14.7045 Validation Accuracy: 7.5950 Validation Loss 11.429022\n",
      "Epoch: 17 Current training accuracy: 15.9024 Validation Accuracy: 8.5116 Validation Loss 11.368913\n",
      "Epoch: 18 Current training accuracy: 16.8516 Validation Accuracy: 9.4630 Validation Loss 11.314857\n",
      "Epoch: 19 Current training accuracy: 18.3697 Validation Accuracy: 10.4274 Validation Loss 11.267077\n",
      "Epoch: 20 Current training accuracy: 19.5211 Validation Accuracy: 11.4033 Validation Loss 11.224504\n",
      "Epoch: 21 Current training accuracy: 21.1600 Validation Accuracy: 12.4132 Validation Loss 11.185275\n",
      "Epoch: 22 Current training accuracy: 22.4476 Validation Accuracy: 13.4237 Validation Loss 11.150404\n",
      "Epoch: 23 Current training accuracy: 24.5607 Validation Accuracy: 14.4585 Validation Loss 11.118644\n",
      "Epoch: 24 Current training accuracy: 26.2297 Validation Accuracy: 15.5167 Validation Loss 11.089396\n",
      "Epoch: 25 Current training accuracy: 27.7085 Validation Accuracy: 16.5830 Validation Loss 11.063191\n",
      "Epoch: 26 Current training accuracy: 28.9251 Validation Accuracy: 17.6615 Validation Loss 11.039495\n",
      "Epoch: 27 Current training accuracy: 31.4932 Validation Accuracy: 18.7497 Validation Loss 11.017477\n",
      "Epoch: 28 Current training accuracy: 32.1975 Validation Accuracy: 19.8474 Validation Loss 10.997601\n",
      "Epoch: 29 Current training accuracy: 32.9569 Validation Accuracy: 20.9353 Validation Loss 10.980282\n",
      "Epoch: 30 Current training accuracy: 35.4902 Validation Accuracy: 22.0247 Validation Loss 10.964361\n"
     ]
    },
    {
     "data": {
      "image/png": "[encoded data removed]",
      "text/plain": [
       "<Figure size 576x432 with 1 Axes>"
      ]
     },
     "metadata": {
      "tags": []
     },
     "output_type": "display_data"
    },
    {
     "data": {
      "image/png": "[encoded data removed]",
      "text/plain": [
       "<Figure size 576x432 with 1 Axes>"
      ]
     },
     "metadata": {
      "tags": []
     },
     "output_type": "display_data"
    },
    {
     "data": {
      "text/plain": [
       "<__main__.Network instance at 0x7ff9572eca00>"
      ]
     },
     "execution_count": 80,
     "metadata": {
      "tags": []
     },
     "output_type": "execute_result"
    }
   ],
   "source": [
    "h = Network(batch_size = 100, m=1, n_neurons=3, n_hidden_layers=2, n_epochs=30, batch_norm_momentum = True, activation=tf.nn.relu, initializer=he_init, learning_rate=0.001)\n",
    "# The history object contains results on the training and test\n",
    "h.fit(X_train,y_train, X_val, y_val)\n"
   ]
  },
  {
   "cell_type": "code",
   "execution_count": null,
   "metadata": {
    "id": "bmreVuoSMZIR",
    "outputId": "0c2d5014-4def-4e6c-f3e1-baf8a7baddf1",
    "scrolled": true
   },
   "outputs": [
    {
     "data": {
      "image/png": "[encoded data removed]",
      "text/plain": [
       "<Figure size 432x288 with 1 Axes>"
      ]
     },
     "metadata": {
      "tags": []
     },
     "output_type": "display_data"
    },
    {
     "data": {
      "image/png": "[encoded data removed]",
      "text/plain": [
       "<Figure size 432x288 with 1 Axes>"
      ]
     },
     "metadata": {
      "tags": []
     },
     "output_type": "display_data"
    },
    {
     "name": "stdout",
     "output_type": "stream",
     "text": [
      "('Accuracy:', 98.17, '%.')\n",
      "('Loss:', 10.01549)\n",
      "('Mean Absolute Error:', 0.229, 'degrees.')\n",
      "('Akaike Information Criterion:', 17.26, 'degrees.')\n"
     ]
    },
    {
     "data": {
      "text/plain": [
       "(98.17094, 17.257044, 0.22917122)"
      ]
     },
     "execution_count": 27,
     "metadata": {
      "tags": []
     },
     "output_type": "execute_result"
    }
   ],
   "source": [
    "h.evaluate(X_train, y_train)"
   ]
  },
  {
   "cell_type": "code",
   "execution_count": null,
   "metadata": {
    "id": "YyMgNftTMZIR",
    "outputId": "bb672547-1e1b-451f-8ecf-974978d4ea44"
   },
   "outputs": [
    {
     "data": {
      "image/png": "[encoded data removed]",
      "text/plain": [
       "<Figure size 576x432 with 1 Axes>"
      ]
     },
     "metadata": {
      "tags": []
     },
     "output_type": "display_data"
    },
    {
     "data": {
      "image/png": "[encoded data removed]",
      "text/plain": [
       "<Figure size 576x432 with 1 Axes>"
      ]
     },
     "metadata": {
      "tags": []
     },
     "output_type": "display_data"
    },
    {
     "name": "stdout",
     "output_type": "stream",
     "text": [
      "('Accuracy:', 22.02, '%.')\n",
      "('Loss:', 10.96436)\n",
      "('Mean Absolute Error:', 0.319, 'degrees.')\n",
      "('Akaike Information Criterion:', 15.75, 'degrees.')\n"
     ]
    },
    {
     "data": {
      "text/plain": [
       "(22.024742, 15.752844, 0.31862113)"
      ]
     },
     "execution_count": 82,
     "metadata": {
      "tags": []
     },
     "output_type": "execute_result"
    }
   ],
   "source": [
    "h.evaluate(X_val,y_val)\n"
   ]
  },
  {
   "cell_type": "markdown",
   "metadata": {
    "id": "Zv0Z1IDcMZIS"
   },
   "source": [
    "### 4.4 Testing\n",
    "\n",
    "We test our trained model on the testing set.\n",
    "We want the Network to predict the probability distributions of fire extent for the years 2014, 2015 and 2016, on a monthly basis."
   ]
  },
  {
   "cell_type": "markdown",
   "metadata": {
    "id": "Ruhcws_GMZIS"
   },
   "source": [
    "We prepare the future data to do prediction, i.e. data from 2014 to 2016 is considered as new information (climate forecasts,...)"
   ]
  },
  {
   "cell_type": "code",
   "execution_count": null,
   "metadata": {
    "id": "R0B459SzMZIS"
   },
   "outputs": [],
   "source": [
    "X_test = fires_test[['lat','lon','solar', 'prec', 'deltaT', 'tmin', 'vpd', 'wind','forest']]\n",
    "X_test = minmax_scaler.fit_transform(X_test)\n",
    "X_test = np.array(X_test, dtype=np.float32)\n",
    "y_test = np.array(fires_test.burnarea, dtype=np.float32)\n"
   ]
  },
  {
   "cell_type": "code",
   "execution_count": null,
   "metadata": {
    "id": "oVVYGNxpMZIS",
    "outputId": "ec0027d4-97a5-417d-ae98-dc4708267db7"
   },
   "outputs": [
    {
     "data": {
      "image/png": "[encoded data removed]",
      "text/plain": [
       "<Figure size 432x288 with 1 Axes>"
      ]
     },
     "metadata": {
      "tags": []
     },
     "output_type": "display_data"
    },
    {
     "data": {
      "image/png": "[encoded data removed]",
      "text/plain": [
       "<Figure size 432x288 with 1 Axes>"
      ]
     },
     "metadata": {
      "tags": []
     },
     "output_type": "display_data"
    },
    {
     "name": "stdout",
     "output_type": "stream",
     "text": [
      "Accuracy: 82.42 %.\n",
      "Loss: 10.38528\n",
      "Mean Absolute Error: 0.207 degrees.\n",
      "Akaike Information Criterion: 17.73 degrees.\n"
     ]
    },
    {
     "data": {
      "text/plain": [
       "(82.41766, 17.728704, 0.20678324)"
      ]
     },
     "execution_count": 24,
     "metadata": {
      "tags": []
     },
     "output_type": "execute_result"
    }
   ],
   "source": [
    "h.evaluate(X_test, y_test)"
   ]
  },
  {
   "cell_type": "markdown",
   "metadata": {
    "id": "tjMy2m1LMZIT"
   },
   "source": [
    "### Results on a Map"
   ]
  },
  {
   "cell_type": "code",
   "execution_count": null,
   "metadata": {
    "id": "MiWu8F8xMZIT"
   },
   "outputs": [],
   "source": [
    "proba_pred = h.predict_outputs(X_test)"
   ]
  },
  {
   "cell_type": "code",
   "execution_count": null,
   "metadata": {
    "id": "jfZEFxnVMZIT"
   },
   "outputs": [],
   "source": [
    "y = np.linspace(fires.burnarea.min(), fires.burnarea.max(), 200)"
   ]
  },
  {
   "cell_type": "code",
   "execution_count": null,
   "metadata": {
    "id": "KV05MI4NMZIU",
    "outputId": "5789bfa8-f736-4d06-f9d7-cc7f2d117bd7"
   },
   "outputs": [
    {
     "data": {
      "text/plain": [
       "array([[ 1.       ,  5.844267 , 11.099673 ],\n",
       "       [ 1.       ,  5.01021  , 10.984314 ],\n",
       "       [ 1.       ,  5.8276973, 11.547477 ],\n",
       "       ...,\n",
       "       [ 1.       ,  3.7559283, 10.844195 ],\n",
       "       [ 1.       ,  3.7559283, 10.844195 ],\n",
       "       [ 1.       ,  3.59419  , 10.245238 ]], dtype=float32)"
      ]
     },
     "execution_count": 27,
     "metadata": {
      "tags": []
     },
     "output_type": "execute_result"
    }
   ],
   "source": [
    "proba_pred"
   ]
  },
  {
   "cell_type": "code",
   "execution_count": null,
   "metadata": {
    "id": "g7URTGgGMZIU",
    "outputId": "5c47ac1e-db18-4407-b0bd-6926534058c4"
   },
   "outputs": [
    {
     "ename": "AttributeError",
     "evalue": "'Tensor' object has no attribute 'numpy'",
     "output_type": "error",
     "traceback": [
      "\u001b[0;31m---------------------------------------------------------------------------\u001b[0m",
      "\u001b[0;31mAttributeError\u001b[0m                            Traceback (most recent call last)",
      "\u001b[0;32m<ipython-input-28-8e7a8b29c721>\u001b[0m in \u001b[0;36m<module>\u001b[0;34m\u001b[0m\n\u001b[1;32m      1\u001b[0m \u001b[0mt\u001b[0m \u001b[0;34m=\u001b[0m \u001b[0mgpd_correct\u001b[0m\u001b[0;34m(\u001b[0m\u001b[0my\u001b[0m\u001b[0;34m,\u001b[0m \u001b[0mproba_pred\u001b[0m\u001b[0;34m[\u001b[0m\u001b[0;36m0\u001b[0m\u001b[0;34m]\u001b[0m\u001b[0;34m[\u001b[0m\u001b[0;36m1\u001b[0m\u001b[0;34m]\u001b[0m\u001b[0;34m,\u001b[0m \u001b[0mproba_pred\u001b[0m\u001b[0;34m[\u001b[0m\u001b[0;36m0\u001b[0m\u001b[0;34m]\u001b[0m\u001b[0;34m[\u001b[0m\u001b[0;36m2\u001b[0m\u001b[0;34m]\u001b[0m\u001b[0;34m)\u001b[0m\u001b[0;34m\u001b[0m\u001b[0;34m\u001b[0m\u001b[0m\n\u001b[0;32m----> 2\u001b[0;31m \u001b[0mt\u001b[0m\u001b[0;34m.\u001b[0m\u001b[0mnumpy\u001b[0m\u001b[0;34m(\u001b[0m\u001b[0;34m)\u001b[0m\u001b[0;34m\u001b[0m\u001b[0;34m\u001b[0m\u001b[0m\n\u001b[0m",
      "\u001b[0;31mAttributeError\u001b[0m: 'Tensor' object has no attribute 'numpy'"
     ]
    }
   ],
   "source": [
    "t = gpd_correct(y, proba_pred[0][1], proba_pred[0][2])\n",
    "t.numpy()"
   ]
  },
  {
   "cell_type": "markdown",
   "metadata": {
    "id": "_lV4k1hkMZIU"
   },
   "source": [
    "## Future extensions"
   ]
  },
  {
   "cell_type": "markdown",
   "metadata": {
    "id": "AEvGcQCuMZH7"
   },
   "source": [
    "### Fire occurrence prediction with Random Forest\n",
    "\n",
    "We use a random forest classifier to predict if a fire occurs or not. This is a binary classification problem: the model outputs 1 if a fire occurs and 0 otherwise."
   ]
  },
  {
   "cell_type": "code",
   "execution_count": 4,
   "metadata": {
    "colab": {
     "base_uri": "https://localhost:8080/",
     "height": 0
    },
    "executionInfo": {
     "elapsed": 25182,
     "status": "ok",
     "timestamp": 1608648111025,
     "user": {
      "displayName": "Jessalyn Chuang",
      "photoUrl": "",
      "userId": "15246295192484075185"
     },
     "user_tz": 300
    },
    "id": "EF7u8clMMZH7",
    "outputId": "a0c8d524-55e3-4e2a-edc6-1291075738e8",
    "scrolled": true,
    "tags": []
   },
   "outputs": [
    {
     "data": {
      "text/html": [
       "<div>\n",
       "<style scoped>\n",
       "    .dataframe tbody tr th:only-of-type {\n",
       "        vertical-align: middle;\n",
       "    }\n",
       "\n",
       "    .dataframe tbody tr th {\n",
       "        vertical-align: top;\n",
       "    }\n",
       "\n",
       "    .dataframe thead th {\n",
       "        text-align: right;\n",
       "    }\n",
       "</style>\n",
       "<table border=\"1\" class=\"dataframe\">\n",
       "  <thead>\n",
       "    <tr style=\"text-align: right;\">\n",
       "      <th></th>\n",
       "      <th>forest</th>\n",
       "      <th>urban</th>\n",
       "      <th>solar</th>\n",
       "      <th>year</th>\n",
       "      <th>month</th>\n",
       "      <th>prec</th>\n",
       "      <th>tmin</th>\n",
       "      <th>wind</th>\n",
       "      <th>burnarea</th>\n",
       "      <th>vpd</th>\n",
       "      <th>deltaT</th>\n",
       "    </tr>\n",
       "  </thead>\n",
       "  <tbody>\n",
       "    <tr>\n",
       "      <th>0</th>\n",
       "      <td>0.187001</td>\n",
       "      <td>0.215967</td>\n",
       "      <td>44.11</td>\n",
       "      <td>1984</td>\n",
       "      <td>1</td>\n",
       "      <td>152.60</td>\n",
       "      <td>2.29</td>\n",
       "      <td>1.89</td>\n",
       "      <td>0.0</td>\n",
       "      <td>1.74</td>\n",
       "      <td>5.00</td>\n",
       "    </tr>\n",
       "    <tr>\n",
       "      <th>1</th>\n",
       "      <td>0.187001</td>\n",
       "      <td>0.215967</td>\n",
       "      <td>68.95</td>\n",
       "      <td>1984</td>\n",
       "      <td>2</td>\n",
       "      <td>120.27</td>\n",
       "      <td>3.86</td>\n",
       "      <td>2.08</td>\n",
       "      <td>0.0</td>\n",
       "      <td>2.28</td>\n",
       "      <td>5.20</td>\n",
       "    </tr>\n",
       "    <tr>\n",
       "      <th>2</th>\n",
       "      <td>0.187001</td>\n",
       "      <td>0.215967</td>\n",
       "      <td>125.80</td>\n",
       "      <td>1984</td>\n",
       "      <td>3</td>\n",
       "      <td>91.87</td>\n",
       "      <td>4.84</td>\n",
       "      <td>1.43</td>\n",
       "      <td>0.0</td>\n",
       "      <td>2.77</td>\n",
       "      <td>6.61</td>\n",
       "    </tr>\n",
       "    <tr>\n",
       "      <th>3</th>\n",
       "      <td>0.187001</td>\n",
       "      <td>0.215967</td>\n",
       "      <td>193.24</td>\n",
       "      <td>1984</td>\n",
       "      <td>4</td>\n",
       "      <td>81.51</td>\n",
       "      <td>5.09</td>\n",
       "      <td>1.88</td>\n",
       "      <td>0.0</td>\n",
       "      <td>3.71</td>\n",
       "      <td>7.30</td>\n",
       "    </tr>\n",
       "    <tr>\n",
       "      <th>4</th>\n",
       "      <td>0.187001</td>\n",
       "      <td>0.215967</td>\n",
       "      <td>217.10</td>\n",
       "      <td>1984</td>\n",
       "      <td>5</td>\n",
       "      <td>105.18</td>\n",
       "      <td>7.17</td>\n",
       "      <td>1.55</td>\n",
       "      <td>0.0</td>\n",
       "      <td>3.94</td>\n",
       "      <td>7.30</td>\n",
       "    </tr>\n",
       "  </tbody>\n",
       "</table>\n",
       "</div>"
      ],
      "text/plain": [
       "     forest     urban   solar  year  month  ...  tmin  wind  burnarea   vpd  deltaT\n",
       "0  0.187001  0.215967   44.11  1984      1  ...  2.29  1.89       0.0  1.74    5.00\n",
       "1  0.187001  0.215967   68.95  1984      2  ...  3.86  2.08       0.0  2.28    5.20\n",
       "2  0.187001  0.215967  125.80  1984      3  ...  4.84  1.43       0.0  2.77    6.61\n",
       "3  0.187001  0.215967  193.24  1984      4  ...  5.09  1.88       0.0  3.71    7.30\n",
       "4  0.187001  0.215967  217.10  1984      5  ...  7.17  1.55       0.0  3.94    7.30\n",
       "\n",
       "[5 rows x 11 columns]"
      ]
     },
     "execution_count": 4,
     "metadata": {
      "tags": []
     },
     "output_type": "execute_result"
    }
   ],
   "source": [
    "df.head()"
   ]
  },
  {
   "cell_type": "code",
   "execution_count": 5,
   "metadata": {
    "colab": {
     "base_uri": "https://localhost:8080/"
    },
    "executionInfo": {
     "elapsed": 25163,
     "status": "ok",
     "timestamp": 1608648111026,
     "user": {
      "displayName": "Jessalyn Chuang",
      "photoUrl": "",
      "userId": "15246295192484075185"
     },
     "user_tz": 300
    },
    "id": "LtgX3_iwzxCD",
    "outputId": "91fbe9f3-c621-4429-ed41-ac8d54aa3967"
   },
   "outputs": [
    {
     "data": {
      "text/plain": [
       "(29015280, 11)"
      ]
     },
     "execution_count": 5,
     "metadata": {
      "tags": []
     },
     "output_type": "execute_result"
    }
   ],
   "source": [
    "df.shape"
   ]
  },
  {
   "cell_type": "code",
   "execution_count": 6,
   "metadata": {
    "executionInfo": {
     "elapsed": 25161,
     "status": "ok",
     "timestamp": 1608648111028,
     "user": {
      "displayName": "Jessalyn Chuang",
      "photoUrl": "",
      "userId": "15246295192484075185"
     },
     "user_tz": 300
    },
    "id": "HKadtrq1MZH8",
    "tags": []
   },
   "outputs": [],
   "source": [
    "df['occurrence'] = np.where(df['burnarea']>0, 1, 0)"
   ]
  },
  {
   "cell_type": "code",
   "execution_count": 7,
   "metadata": {
    "executionInfo": {
     "elapsed": 32331,
     "status": "ok",
     "timestamp": 1608648118202,
     "user": {
      "displayName": "Jessalyn Chuang",
      "photoUrl": "",
      "userId": "15246295192484075185"
     },
     "user_tz": 300
    },
    "id": "Qp0sZpW2MZH8"
   },
   "outputs": [],
   "source": [
    "y = np.array(df.occurrence)\n",
    "X = df[['year','month','solar', 'prec', 'deltaT', 'tmin', 'vpd', 'wind','forest','urban']]\n",
    "minmax_scaler = MinMaxScaler()\n",
    "X = minmax_scaler.fit_transform(X)\n",
    "X = np.array(X, dtype=np.float32)"
   ]
  },
  {
   "cell_type": "markdown",
   "metadata": {
    "id": "wXoiE-vHMZH8"
   },
   "source": [
    "### RF on imbalanced dataset with re-balance option"
   ]
  },
  {
   "cell_type": "code",
   "execution_count": 8,
   "metadata": {
    "executionInfo": {
     "elapsed": 30879,
     "status": "ok",
     "timestamp": 1608648118205,
     "user": {
      "displayName": "Jessalyn Chuang",
      "photoUrl": "",
      "userId": "15246295192484075185"
     },
     "user_tz": 300
    },
    "id": "YucooBauMZH8"
   },
   "outputs": [],
   "source": [
    "rf_w = RandomForestClassifier(n_estimators = 50, random_state = 42, class_weight=\"balanced\", criterion = \"entropy\")"
   ]
  },
  {
   "cell_type": "code",
   "execution_count": 9,
   "metadata": {
    "executionInfo": {
     "elapsed": 33689,
     "status": "ok",
     "timestamp": 1608648121025,
     "user": {
      "displayName": "Jessalyn Chuang",
      "photoUrl": "",
      "userId": "15246295192484075185"
     },
     "user_tz": 300
    },
    "id": "ZI3_3JMwMZH9"
   },
   "outputs": [],
   "source": [
    "dfs = df.sample(frac=0.1)\n",
    "ys = np.array(dfs.occurrence)\n",
    "Xs = dfs[['solar', 'prec', 'deltaT', 'tmin', 'vpd', 'wind','forest','urban']]\n",
    "minmax_scaler = MinMaxScaler()\n",
    "Xs = minmax_scaler.fit_transform(Xs)\n",
    "Xs = np.array(Xs, dtype=np.float32)"
   ]
  },
  {
   "cell_type": "code",
   "execution_count": 10,
   "metadata": {
    "executionInfo": {
     "elapsed": 34255,
     "status": "ok",
     "timestamp": 1608648121599,
     "user": {
      "displayName": "Jessalyn Chuang",
      "photoUrl": "",
      "userId": "15246295192484075185"
     },
     "user_tz": 300
    },
    "id": "86FRvDyTMZH9"
   },
   "outputs": [],
   "source": [
    "X_train, X_val, y_train, y_val = train_test_split(Xs, ys, test_size=0.3, random_state=42)"
   ]
  },
  {
   "cell_type": "code",
   "execution_count": 11,
   "metadata": {
    "colab": {
     "base_uri": "https://localhost:8080/"
    },
    "executionInfo": {
     "elapsed": 357452,
     "status": "ok",
     "timestamp": 1608648444826,
     "user": {
      "displayName": "Jessalyn Chuang",
      "photoUrl": "",
      "userId": "15246295192484075185"
     },
     "user_tz": 300
    },
    "id": "HSzbGqfwMZH9",
    "outputId": "0de6fd73-8209-4174-f011-c5cd7618eafc"
   },
   "outputs": [
    {
     "data": {
      "text/plain": [
       "RandomForestClassifier(bootstrap=True, ccp_alpha=0.0, class_weight='balanced',\n",
       "                       criterion='entropy', max_depth=None, max_features='auto',\n",
       "                       max_leaf_nodes=None, max_samples=None,\n",
       "                       min_impurity_decrease=0.0, min_impurity_split=None,\n",
       "                       min_samples_leaf=1, min_samples_split=2,\n",
       "                       min_weight_fraction_leaf=0.0, n_estimators=50,\n",
       "                       n_jobs=None, oob_score=False, random_state=42, verbose=0,\n",
       "                       warm_start=False)"
      ]
     },
     "execution_count": 11,
     "metadata": {
      "tags": []
     },
     "output_type": "execute_result"
    }
   ],
   "source": [
    "rf_w.fit(X_train, y_train)"
   ]
  },
  {
   "cell_type": "code",
   "execution_count": 12,
   "metadata": {
    "colab": {
     "base_uri": "https://localhost:8080/"
    },
    "executionInfo": {
     "elapsed": 362973,
     "status": "ok",
     "timestamp": 1608648450370,
     "user": {
      "displayName": "Jessalyn Chuang",
      "photoUrl": "",
      "userId": "15246295192484075185"
     },
     "user_tz": 300
    },
    "id": "EgyhQvz4MZH9",
    "outputId": "fb6043c3-6dea-4429-edcb-ae9488535ad3"
   },
   "outputs": [
    {
     "name": "stdout",
     "output_type": "stream",
     "text": [
      "Mean Absolute Error: 0.001854 degrees.\n"
     ]
    }
   ],
   "source": [
    "# Use the forest's predict method on the test data\n",
    "predictions = rf_w.predict(X_val)\n",
    "# Calculate the absolute errors\n",
    "errors = abs(predictions - y_val)\n",
    "# Print out the mean absolute error (mae)\n",
    "print('Mean Absolute Error:', round(np.mean(errors), 6), 'degrees.')"
   ]
  },
  {
   "cell_type": "code",
   "execution_count": 13,
   "metadata": {
    "colab": {
     "base_uri": "https://localhost:8080/"
    },
    "executionInfo": {
     "elapsed": 363662,
     "status": "ok",
     "timestamp": 1608648451077,
     "user": {
      "displayName": "Jessalyn Chuang",
      "photoUrl": "",
      "userId": "15246295192484075185"
     },
     "user_tz": 300
    },
    "id": "8lW-1C6FMZH-",
    "outputId": "6b2daebf-4c54-4f75-99d4-1db48932ee1e"
   },
   "outputs": [
    {
     "name": "stdout",
     "output_type": "stream",
     "text": [
      "accuracy:  0.998145805833474\n",
      "f1 score:  0.1815415821501014\n",
      "recall:  0.10257879656160458\n"
     ]
    }
   ],
   "source": [
    "pscore = metrics.accuracy_score(y_val, predictions)\n",
    "print(\"accuracy: \", pscore)\n",
    "score = metrics.f1_score(y_val, predictions)\n",
    "print(\"f1 score: \", score)\n",
    "recall = metrics.recall_score(y_val, predictions)\n",
    "print(\"recall: \", recall)"
   ]
  },
  {
   "cell_type": "code",
   "execution_count": 14,
   "metadata": {
    "colab": {
     "base_uri": "https://localhost:8080/"
    },
    "executionInfo": {
     "elapsed": 364569,
     "status": "ok",
     "timestamp": 1608648451995,
     "user": {
      "displayName": "Jessalyn Chuang",
      "photoUrl": "",
      "userId": "15246295192484075185"
     },
     "user_tz": 300
    },
    "id": "vGR4iWVGMZH-",
    "outputId": "7b552dff-5bed-47dc-b4b0-e91fb22d64cc"
   },
   "outputs": [
    {
     "data": {
      "text/plain": [
       "array([[868666,     48],\n",
       "       [  1566,    179]])"
      ]
     },
     "execution_count": 14,
     "metadata": {
      "tags": []
     },
     "output_type": "execute_result"
    }
   ],
   "source": [
    "cf = confusion_matrix(y_val, predictions)\n",
    "cf"
   ]
  },
  {
   "cell_type": "markdown",
   "metadata": {
    "id": "lygufbe-MZH-"
   },
   "source": [
    "### RF on rebalanced dataset to 30% fires (occurrence = 1) and 70% no fire"
   ]
  },
  {
   "cell_type": "code",
   "execution_count": 15,
   "metadata": {
    "executionInfo": {
     "elapsed": 361913,
     "status": "ok",
     "timestamp": 1608648451999,
     "user": {
      "displayName": "Jessalyn Chuang",
      "photoUrl": "",
      "userId": "15246295192484075185"
     },
     "user_tz": 300
    },
    "id": "Q9oY8f2aMZH_"
   },
   "outputs": [],
   "source": [
    "df1 = df[df['occurrence']==1]\n",
    "n1 = len(df1)"
   ]
  },
  {
   "cell_type": "code",
   "execution_count": 16,
   "metadata": {
    "executionInfo": {
     "elapsed": 365607,
     "status": "ok",
     "timestamp": 1608648455698,
     "user": {
      "displayName": "Jessalyn Chuang",
      "photoUrl": "",
      "userId": "15246295192484075185"
     },
     "user_tz": 300
    },
    "id": "PiTTtmtZMZH_"
   },
   "outputs": [],
   "source": [
    "n2 = 7*n1/3\n",
    "df2 = df[df['occurrence']==0]\n",
    "df2 = df2.sample(n = int(n2))"
   ]
  },
  {
   "cell_type": "code",
   "execution_count": 17,
   "metadata": {
    "executionInfo": {
     "elapsed": 365606,
     "status": "ok",
     "timestamp": 1608648455701,
     "user": {
      "displayName": "Jessalyn Chuang",
      "photoUrl": "",
      "userId": "15246295192484075185"
     },
     "user_tz": 300
    },
    "id": "hHg6dofGMZH_"
   },
   "outputs": [],
   "source": [
    "df_r = pd.concat([df1, df2], sort =False)"
   ]
  },
  {
   "cell_type": "code",
   "execution_count": 18,
   "metadata": {
    "executionInfo": {
     "elapsed": 365603,
     "status": "ok",
     "timestamp": 1608648455702,
     "user": {
      "displayName": "Jessalyn Chuang",
      "photoUrl": "",
      "userId": "15246295192484075185"
     },
     "user_tz": 300
    },
    "id": "8rfzZ-9dMZH_"
   },
   "outputs": [],
   "source": [
    "y_r = np.array(df_r.occurrence)"
   ]
  },
  {
   "cell_type": "code",
   "execution_count": 19,
   "metadata": {
    "executionInfo": {
     "elapsed": 365601,
     "status": "ok",
     "timestamp": 1608648455704,
     "user": {
      "displayName": "Jessalyn Chuang",
      "photoUrl": "",
      "userId": "15246295192484075185"
     },
     "user_tz": 300
    },
    "id": "WpJmT576MZIA"
   },
   "outputs": [],
   "source": [
    "#took out relative humidity ('rh') because I did not have time to include it \r\n",
    "X_r = df_r[['year','month','solar', 'prec', 'deltaT', 'tmin', 'vpd', 'wind','forest','urban' ]] #'solar', 'prec', 'deltaT', 'tmin','wind','forest','urban'"
   ]
  },
  {
   "cell_type": "code",
   "execution_count": 20,
   "metadata": {
    "executionInfo": {
     "elapsed": 365599,
     "status": "ok",
     "timestamp": 1608648455706,
     "user": {
      "displayName": "Jessalyn Chuang",
      "photoUrl": "",
      "userId": "15246295192484075185"
     },
     "user_tz": 300
    },
    "id": "1S2XbVCgMZIA"
   },
   "outputs": [],
   "source": [
    "minmax_scaler = MinMaxScaler()\n",
    "X_r = minmax_scaler.fit_transform(X_r)\n",
    "X_r = np.array(X_r, dtype=np.float32)"
   ]
  },
  {
   "cell_type": "code",
   "execution_count": 21,
   "metadata": {
    "executionInfo": {
     "elapsed": 365596,
     "status": "ok",
     "timestamp": 1608648455707,
     "user": {
      "displayName": "Jessalyn Chuang",
      "photoUrl": "",
      "userId": "15246295192484075185"
     },
     "user_tz": 300
    },
    "id": "lnTSj21PMZIA"
   },
   "outputs": [],
   "source": [
    "X_train, X_val, y_train, y_val = train_test_split(X_r, y_r, test_size=0.3, random_state=42)"
   ]
  },
  {
   "cell_type": "markdown",
   "metadata": {
    "id": "lTALnpYBMZIA"
   },
   "source": [
    "#### Training"
   ]
  },
  {
   "cell_type": "code",
   "execution_count": 22,
   "metadata": {
    "executionInfo": {
     "elapsed": 365593,
     "status": "ok",
     "timestamp": 1608648455708,
     "user": {
      "displayName": "Jessalyn Chuang",
      "photoUrl": "",
      "userId": "15246295192484075185"
     },
     "user_tz": 300
    },
    "id": "sjZhsFg0MZIB"
   },
   "outputs": [],
   "source": [
    "# Instantiate model with 100 decision trees\n",
    "rf = RandomForestClassifier(n_estimators = 100, random_state = 42)"
   ]
  },
  {
   "cell_type": "code",
   "execution_count": 23,
   "metadata": {
    "colab": {
     "base_uri": "https://localhost:8080/"
    },
    "executionInfo": {
     "elapsed": 401730,
     "status": "ok",
     "timestamp": 1608648491863,
     "user": {
      "displayName": "Jessalyn Chuang",
      "photoUrl": "",
      "userId": "15246295192484075185"
     },
     "user_tz": 300
    },
    "id": "91Cyi683MZIB",
    "outputId": "5723ca0d-6c97-43ae-9a11-e064d3e50804",
    "scrolled": true
   },
   "outputs": [
    {
     "data": {
      "text/plain": [
       "RandomForestClassifier(bootstrap=True, ccp_alpha=0.0, class_weight=None,\n",
       "                       criterion='gini', max_depth=None, max_features='auto',\n",
       "                       max_leaf_nodes=None, max_samples=None,\n",
       "                       min_impurity_decrease=0.0, min_impurity_split=None,\n",
       "                       min_samples_leaf=1, min_samples_split=2,\n",
       "                       min_weight_fraction_leaf=0.0, n_estimators=100,\n",
       "                       n_jobs=None, oob_score=False, random_state=42, verbose=0,\n",
       "                       warm_start=False)"
      ]
     },
     "execution_count": 23,
     "metadata": {
      "tags": []
     },
     "output_type": "execute_result"
    }
   ],
   "source": [
    "# Train the model on training data\n",
    "rf.fit(X_train, y_train)"
   ]
  },
  {
   "cell_type": "markdown",
   "metadata": {
    "id": "TS4Ka5YVMZIB"
   },
   "source": [
    "#### Testing on validation set"
   ]
  },
  {
   "cell_type": "code",
   "execution_count": 24,
   "metadata": {
    "colab": {
     "base_uri": "https://localhost:8080/"
    },
    "executionInfo": {
     "elapsed": 402895,
     "status": "ok",
     "timestamp": 1608648493042,
     "user": {
      "displayName": "Jessalyn Chuang",
      "photoUrl": "",
      "userId": "15246295192484075185"
     },
     "user_tz": 300
    },
    "id": "7D5dJAl0MZIB",
    "outputId": "3118e2c2-7e94-4003-c74f-c654d51443a9"
   },
   "outputs": [
    {
     "name": "stdout",
     "output_type": "stream",
     "text": [
      "Mean Absolute Error: 0.035756 degrees.\n"
     ]
    }
   ],
   "source": [
    "# Use the forest's predict method on the test data\n",
    "predictions = rf.predict(X_val)\n",
    "# Calculate the absolute errors\n",
    "errors = abs(predictions - y_val)\n",
    "# Print out the mean absolute error (mae)\n",
    "print('Mean Absolute Error:', round(np.mean(errors), 6), 'degrees.')\n"
   ]
  },
  {
   "cell_type": "code",
   "execution_count": 25,
   "metadata": {
    "colab": {
     "base_uri": "https://localhost:8080/"
    },
    "executionInfo": {
     "elapsed": 402885,
     "status": "ok",
     "timestamp": 1608648493044,
     "user": {
      "displayName": "Jessalyn Chuang",
      "photoUrl": "",
      "userId": "15246295192484075185"
     },
     "user_tz": 300
    },
    "id": "pfljq2oeMZIC",
    "outputId": "35a0dc54-3b90-4d18-d5f6-3e170c97a112"
   },
   "outputs": [
    {
     "name": "stdout",
     "output_type": "stream",
     "text": [
      "accuracy:  0.9642441909447824\n",
      "f1 score:  0.9419393674072453\n",
      "recall:  0.9754065846886156\n"
     ]
    }
   ],
   "source": [
    "pscore = metrics.accuracy_score(y_val, predictions)\n",
    "print(\"accuracy: \", pscore)\n",
    "score = metrics.f1_score(y_val, predictions)\n",
    "print(\"f1 score: \", score)\n",
    "recall = metrics.recall_score(y_val, predictions)\n",
    "print(\"recall: \", recall)"
   ]
  },
  {
   "cell_type": "code",
   "execution_count": 26,
   "metadata": {
    "colab": {
     "base_uri": "https://localhost:8080/"
    },
    "executionInfo": {
     "elapsed": 402873,
     "status": "ok",
     "timestamp": 1608648493045,
     "user": {
      "displayName": "Jessalyn Chuang",
      "photoUrl": "",
      "userId": "15246295192484075185"
     },
     "user_tz": 300
    },
    "id": "_6Y9KY9BMZIC",
    "outputId": "e5079bea-3a06-4e11-bb01-d68953d60761"
   },
   "outputs": [
    {
     "data": {
      "text/plain": [
       "array([[40012,  1688],\n",
       "       [  434, 17213]])"
      ]
     },
     "execution_count": 26,
     "metadata": {
      "tags": []
     },
     "output_type": "execute_result"
    }
   ],
   "source": [
    "cf = confusion_matrix(y_val, predictions)\n",
    "cf"
   ]
  },
  {
   "cell_type": "markdown",
   "metadata": {
    "id": "WveH8wu-MZIC"
   },
   "source": [
    "#### Testing on real dataset"
   ]
  },
  {
   "cell_type": "code",
   "execution_count": 27,
   "metadata": {
    "colab": {
     "base_uri": "https://localhost:8080/"
    },
    "executionInfo": {
     "elapsed": 728724,
     "status": "ok",
     "timestamp": 1608648818910,
     "user": {
      "displayName": "Jessalyn Chuang",
      "photoUrl": "",
      "userId": "15246295192484075185"
     },
     "user_tz": 300
    },
    "id": "ZmaYLxeKMZID",
    "outputId": "f90e6bed-6f38-4b24-c349-8a4008600ac2"
   },
   "outputs": [
    {
     "name": "stdout",
     "output_type": "stream",
     "text": [
      "Mean Absolute Error: 0.041178 degrees.\n"
     ]
    }
   ],
   "source": [
    "# Use the forest's predict method on the test data\n",
    "predictions = rf.predict(X)\n",
    "# Calculate the absolute errors\n",
    "errors = abs(predictions - y)\n",
    "# Print out the mean absolute error (mae)\n",
    "print('Mean Absolute Error:', round(np.mean(errors), 6), 'degrees.')"
   ]
  },
  {
   "cell_type": "code",
   "execution_count": 28,
   "metadata": {
    "colab": {
     "base_uri": "https://localhost:8080/"
    },
    "executionInfo": {
     "elapsed": 761731,
     "status": "ok",
     "timestamp": 1608648851931,
     "user": {
      "displayName": "Jessalyn Chuang",
      "photoUrl": "",
      "userId": "15246295192484075185"
     },
     "user_tz": 300
    },
    "id": "xdkOK4kbMZID",
    "outputId": "b1f86cab-3c56-4bcc-82c5-ff29e00fd62d"
   },
   "outputs": [
    {
     "name": "stdout",
     "output_type": "stream",
     "text": [
      "accuracy:  0.9588218000998094\n",
      "f1 score:  0.06993270462037855\n",
      "recall:  0.7568874585067484\n"
     ]
    }
   ],
   "source": [
    "pscore = metrics.accuracy_score(y, predictions)\n",
    "print(\"accuracy: \", pscore)\n",
    "score = metrics.f1_score(y, predictions)\n",
    "print(\"f1 score: \", score)\n",
    "recall = metrics.recall_score(y, predictions)\n",
    "print(\"recall: \", recall)"
   ]
  },
  {
   "cell_type": "code",
   "execution_count": 29,
   "metadata": {
    "colab": {
     "base_uri": "https://localhost:8080/"
    },
    "executionInfo": {
     "elapsed": 788582,
     "status": "ok",
     "timestamp": 1608648878787,
     "user": {
      "displayName": "Jessalyn Chuang",
      "photoUrl": "",
      "userId": "15246295192484075185"
     },
     "user_tz": 300
    },
    "id": "GbD30iKTMZID",
    "outputId": "62b8f1db-a6a1-491e-a80d-2651da2e7849"
   },
   "outputs": [
    {
     "data": {
      "text/plain": [
       "array([[27775564,  1180369],\n",
       "       [   14428,    44919]])"
      ]
     },
     "execution_count": 29,
     "metadata": {
      "tags": []
     },
     "output_type": "execute_result"
    }
   ],
   "source": [
    "cf = confusion_matrix(y, predictions)\n",
    "cf"
   ]
  },
  {
   "cell_type": "markdown",
   "metadata": {
    "id": "Sb37BKjCMZID"
   },
   "source": [
    "#### Variable Importance\n",
    "\n",
    "In order to quantify the usefulness of all the variables in the entire random forest, we can look at the relative importances of the variables. The importances returned in Skicit-learn represent how much including a particular variable improves the prediction. The actual calculation of the importance is beyond the scope of this post, but we can use the numbers to make relative comparisons between variables."
   ]
  },
  {
   "cell_type": "code",
   "execution_count": 30,
   "metadata": {
    "colab": {
     "base_uri": "https://localhost:8080/"
    },
    "executionInfo": {
     "elapsed": 788571,
     "status": "ok",
     "timestamp": 1608648878790,
     "user": {
      "displayName": "Jessalyn Chuang",
      "photoUrl": "",
      "userId": "15246295192484075185"
     },
     "user_tz": 300
    },
    "id": "0z0nL7tNMZIE",
    "outputId": "d0a02d9e-d7ec-4d7b-c198-161786b0d43f"
   },
   "outputs": [
    {
     "name": "stdout",
     "output_type": "stream",
     "text": [
      "Variable: vpd                  Importance: 0.2743\n",
      "Variable: solar                Importance: 0.1479\n",
      "Variable: tmin                 Importance: 0.1233\n",
      "Variable: prec                 Importance: 0.1084\n",
      "Variable: deltaT               Importance: 0.0738\n",
      "Variable: forest               Importance: 0.0696\n",
      "Variable: month                Importance: 0.0609\n",
      "Variable: year                 Importance: 0.0588\n",
      "Variable: wind                 Importance: 0.05\n",
      "Variable: urban                Importance: 0.033\n"
     ]
    }
   ],
   "source": [
    "feature_list = ['year','month','solar', 'prec', 'deltaT', 'tmin', 'vpd', 'wind','forest','urban']\n",
    "# Get numerical feature importances\n",
    "importances = list(rf.feature_importances_)\n",
    "# List of tuples with variable and importance\n",
    "feature_importances = [(feature, round(importance, 4)) for feature, importance in zip(feature_list, importances)]\n",
    "# Sort the feature importances by most important first\n",
    "feature_importances = sorted(feature_importances, key = lambda x: x[1], reverse = True)\n",
    "# Print out the feature and importances \n",
    "for pair in feature_importances:\n",
    "    print('Variable: {:20} Importance: {}'.format(*pair))\n"
   ]
  },
  {
   "cell_type": "markdown",
   "metadata": {
    "id": "mOKa7jJaMZIE"
   },
   "source": [
    "We use a bar plot for the feature importances to illustrate the disparities in the relative significance of the variables. "
   ]
  },
  {
   "cell_type": "code",
   "execution_count": 31,
   "metadata": {
    "colab": {
     "base_uri": "https://localhost:8080/",
     "height": 443
    },
    "executionInfo": {
     "elapsed": 788559,
     "status": "ok",
     "timestamp": 1608648878792,
     "user": {
      "displayName": "Jessalyn Chuang",
      "photoUrl": "",
      "userId": "15246295192484075185"
     },
     "user_tz": 300
    },
    "id": "WWSq5hiMMZIE",
    "outputId": "034554ac-18fc-4c95-e7dc-aa5f4c0c3ccc"
   },
   "outputs": [
    {
     "data": {
      "text/plain": [
       "Text(0.5, 1.0, 'Variable Importance')"
      ]
     },
     "execution_count": 31,
     "metadata": {
      "tags": []
     },
     "output_type": "execute_result"
    },
    {
     "data": {
      "image/png": "[encoded data removed]",
      "text/plain": [
       "<Figure size 576x432 with 1 Axes>"
      ]
     },
     "metadata": {
      "needs_background": "light",
      "tags": []
     },
     "output_type": "display_data"
    }
   ],
   "source": [
    "# Import matplotlib for plotting and use magic command for Jupyter Notebooks\n",
    "import matplotlib.pyplot as plt\n",
    "%matplotlib inline\n",
    "plt.rcParams[\"figure.figsize\"] = (8, 6)\n",
    "# Set the style\n",
    "#plt.style.use('fivethirtyeight')\n",
    "# list of x locations for plotting\n",
    "x_values = list(range(len(importances)))\n",
    "# Make a bar chart\n",
    "plt.bar(x_values, importances, orientation = 'vertical')\n",
    "# Tick labels for x axis\n",
    "plt.xticks(x_values, feature_list, rotation='vertical')\n",
    "# Axis labels and title\n",
    "plt.ylabel('Importance'); plt.xlabel('Variable'); plt.title('Variable Importance')"
   ]
  }
 ],
 "metadata": {
  "accelerator": "TPU",
  "colab": {
   "machine_shape": "hm",
   "name": "Learning_Fires_Final_no_coord_TF1.ipynb",
   "provenance": []
  },
  "kernelspec": {
   "display_name": "Python 3",
   "language": "python",
   "name": "python3"
  },
  "language_info": {
   "codemirror_mode": {
    "name": "ipython",
    "version": 3
   },
   "file_extension": ".py",
   "mimetype": "text/x-python",
   "name": "python",
   "nbconvert_exporter": "python",
   "pygments_lexer": "ipython3",
   "version": "3.7.10"
  }
 },
 "nbformat": 4,
 "nbformat_minor": 4
}
