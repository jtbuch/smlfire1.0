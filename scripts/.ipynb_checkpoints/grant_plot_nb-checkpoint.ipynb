{
 "cells": [
  {
   "cell_type": "code",
   "execution_count": 1,
   "id": "7fa1c2f1-6baa-476e-9bc3-5e10cdcade45",
   "metadata": {},
   "outputs": [],
   "source": [
    "import numpy as np\n",
    "from scipy import stats, optimize, interpolate\n",
    "from sklearn.linear_model import LinearRegression\n",
    "\n",
    "import netCDF4 # module that reads in .nc files (built on top of HDF5 format)\n",
    "import pandas as pd\n",
    "import geopandas as gpd\n",
    "from geopandas.tools import sjoin\n",
    "import xarray\n",
    "import rioxarray\n",
    "\n",
    "from shapely.geometry import Point, mapping\n",
    "from shapely.geometry.polygon import Polygon\n",
    "from pyproj import CRS, Transformer # for transforming projected coordinates to elliptical coordinates\n",
    "import cartopy.crs as ccrs # for defining and transforming coordinate systems\n",
    "import cartopy.feature as cfeature # to add features to a cartopy map\n",
    "import cartopy.io.shapereader as shpreader\n",
    "\n",
    "from fire_utils import ncdump, coord_transform, tindx_func, bailey_ecoprovince_shp, bailey_ecoprovince_mask, update_reg_indx, \\\n",
    "                                                            mon_fire_freq, mon_burned_area, seas_burnarea, clim_pred_var\n",
    "from stats_utils import uni_lsq_regression_model, reg_uni_climate_fire_corr, multi_regression_model, reg_multi_climate_fire_corr\n",
    "#self-library\n",
    "\n",
    "from datetime import datetime, timedelta\n",
    "from cftime import num2date, date2num, DatetimeGregorian\n",
    "from tqdm import tqdm\n",
    "\n",
    "import matplotlib.pyplot as plt\n",
    "import matplotlib.colors as colors\n",
    "from matplotlib.patches import Rectangle\n",
    "import matplotlib.patches as patches\n",
    "import matplotlib.path as mpltPath\n",
    "\n",
    "%matplotlib inline\n",
    "%config IPython.matplotlib.backend = 'retina'\n",
    "%config InlineBackend.figure_format = 'retina'"
   ]
  },
  {
   "cell_type": "code",
   "execution_count": 2,
   "id": "562955c8-3e49-4890-b646-0f64ccfaabeb",
   "metadata": {},
   "outputs": [],
   "source": [
    "data_dir= \"../data\"\n",
    "pred_input_path= \"/12km/\"\n",
    "resp_input_path= \"/firelist/\"\n",
    "outfilepath= \"../plots/\""
   ]
  },
  {
   "cell_type": "markdown",
   "id": "4a3bc5e1-4a11-457c-a5c0-c92ed958e808",
   "metadata": {},
   "source": [
    "## Data pre-processing"
   ]
  },
  {
   "cell_type": "code",
   "execution_count": 3,
   "id": "cfa0ee44-cb78-46a2-a133-0454df9d31e2",
   "metadata": {},
   "outputs": [],
   "source": [
    "wildfire_df= pd.read_csv(data_dir + resp_input_path + \"west_US_fires_1984_2020.txt\", \n",
    "                         usecols= (0, 1, 9, 18, 19, 20, 21, 22, 23, 24), delimiter= ',') #west_US_fires_1984_2020.txt\n",
    "wildfire_x, wildfire_y= coord_transform(wildfire_df['final_lat'], wildfire_df['final_lon'])\n",
    "\n",
    "wildfire_df['final_x']= wildfire_x\n",
    "wildfire_df['final_y']= wildfire_y\n",
    "wildfire_gdf= gpd.GeoDataFrame(wildfire_df, crs= 'EPSG:5070', geometry=gpd.points_from_xy(wildfire_df['final_x'], wildfire_df['final_y']))\n",
    "\n",
    "reg_indx_arr= update_reg_indx(wildfire_gdf) #sorts all fires into the respective regions using polygon matching\n",
    "wildfire_df['reg_indx']= reg_indx_arr #adding regional index as a column in the dataframe\n",
    "grouped= wildfire_df.groupby(['reg_indx'])"
   ]
  },
  {
   "cell_type": "code",
   "execution_count": 4,
   "id": "f53ac71f-b1a7-4d91-b4ea-ceef55989661",
   "metadata": {},
   "outputs": [],
   "source": [
    "fire_file= data_dir + pred_input_path + \"wildfire/burnarea_combined.nc\"\n",
    "burnarea_data= netCDF4.Dataset(fire_file, 'r')\n",
    "lat_long_fire_grid= coord_transform(burnarea_data['X'][:].data, burnarea_data['Y'][:].data, input_crs= 'EPSG:5070')"
   ]
  },
  {
   "cell_type": "code",
   "execution_count": 5,
   "id": "6dfa4528-136a-471f-acb8-bae154244566",
   "metadata": {},
   "outputs": [],
   "source": [
    "tot_months= 36*12\n",
    "month_arr= np.linspace(0, tot_months - 1, tot_months, dtype= int)\n",
    "year_arr= np.asarray([1984, 1991, 1998, 2005, 2012, 2019])"
   ]
  },
  {
   "cell_type": "markdown",
   "id": "a0f61825-fbed-402d-9fea-df3c5789c53d",
   "metadata": {},
   "source": [
    "## Statistical analyses"
   ]
  },
  {
   "cell_type": "code",
   "execution_count": 11,
   "id": "6a429945-0d92-4b16-8c64-88611db77899",
   "metadata": {},
   "outputs": [],
   "source": [
    "freq_sierra= mon_fire_freq(wildfiredf= wildfire_df, regindx= 1, threshold= True).flatten()\n",
    "freq_imdesert= mon_fire_freq(wildfiredf= wildfire_df, regindx= 13, threshold= True).flatten()\n",
    "\n",
    "sum_indx_1, sum_indx_2= tindx_func(startmon= 3, duration= 8, tim_size= 432)\n",
    "sum_freq_sierra= np.asarray([np.sum(freq_sierra[sum_indx_1[i]:sum_indx_2[i]]) for i in range(len(sum_indx_1))])\n",
    "sum_freq_imdesert= np.asarray([np.sum(freq_imdesert[sum_indx_1[i]:sum_indx_2[i]]) for i in range(len(sum_indx_1))])"
   ]
  },
  {
   "cell_type": "code",
   "execution_count": 12,
   "id": "fb2547b4-7139-4322-a6e8-35f3d17f9a7d",
   "metadata": {},
   "outputs": [],
   "source": [
    "pred_var_sierra, pred_freq_sierra, r_sierra= uni_lsq_regression_model(sum_freq_sierra, pred_file_indx= 2, pred_seas_indx= 1, regindx= 1, freq_flag= True)\n",
    "pred_var_imdesert, pred_freq_imdesert, r_imdesert= uni_lsq_regression_model(sum_freq_imdesert, pred_file_indx= 2, pred_seas_indx= 1, regindx= 13, freq_flag= True)"
   ]
  },
  {
   "cell_type": "code",
   "execution_count": 13,
   "id": "cbe2b29e-ee65-4894-9c76-9131942a5397",
   "metadata": {},
   "outputs": [],
   "source": [
    "sierra_sum_burnarea= seas_burnarea(firefile= fire_file, season= \"summer\", regindx= 1)\n",
    "imdesert_sum_burnarea= seas_burnarea(firefile= fire_file, season= \"summer\", regindx= 13)"
   ]
  },
  {
   "cell_type": "code",
   "execution_count": 15,
   "id": "ebe9cb1c-0d85-40ac-a904-5c5abfb07a64",
   "metadata": {},
   "outputs": [],
   "source": [
    "coeff_sierra, r2_sierra, _ = multi_regression_model(sierra_sum_burnarea, regression= \"enetCV\", regindx= 1, freq_flag= False)\n",
    "coeff_imdesert, r2_imdesert, _ = multi_regression_model(imdesert_sum_burnarea, regression= \"enetCV\", regindx= 13, freq_flag= False)"
   ]
  },
  {
   "cell_type": "markdown",
   "id": "09759376-f6f6-4c77-9a7a-caed77c69386",
   "metadata": {},
   "source": [
    "## Plotting"
   ]
  },
  {
   "cell_type": "code",
   "execution_count": null,
   "id": "3dc4c610-020a-4bd6-b266-745d5c947b1d",
   "metadata": {},
   "outputs": [],
   "source": [
    "fig2= plt.figure(figsize=(20, 20))\n",
    "gs = fig2.add_gridspec(4, 4)\n",
    "fig2.subplots_adjust(hspace= 0.4, wspace= 0.2)\n",
    "pred_var_arr= [\"Tmax\", \"VPD\", \"Prec\", \"Antprc\", \"PET\", \"Forest\"]\n",
    "ypos= np.arange(len(pred_var_arr))\n",
    "\n",
    "f2_ax1 = fig2.add_subplot(gs[0, 0:2])\n",
    "f2_ax1.set_title(r'Sierra Nevada', fontsize= 14);\n",
    "ax2= f2_ax1.twinx()\n",
    "f2_ax1.plot(month_arr, mon_fire_freq(wildfiredf= wildfire_df, regindx= 1).flatten(), color= 'turquoise', label= 'Large (> 405 ha) fire frequency');\n",
    "ax2.plot(month_arr, mon_burned_area(firefile= fire_file, regindx= 1, final_year= 2019), color= 'forestgreen', label= 'Summer burned area');\n",
    "f2_ax1.set_xticks((year_arr - 1984 + 1)*12 - 1);\n",
    "f2_ax1.set_xticklabels(year_arr)\n",
    "f2_ax1.set_ylim(0, 100);\n",
    "f2_ax1.set_ylabel(r'Frequency', fontsize= 12);\n",
    "ax2.set_ylim(0, 4500);\n",
    "#ax2.set_ylabel(r'Burned area [in ${\\rm km}^2$]', fontsize= 12, labelpad= 10, rotation= 270);\n",
    "f2_ax1.tick_params(labeltop=False, top=True, labelright=False, right=False, which='both', labelsize= 12);\n",
    "ax2.tick_params(labeltop=False, top=True, labelright=False, right=True, which='both', labelsize= 12);\n",
    "f2_ax1.grid(b=True, which='major', color='black', alpha=0.05, linestyle='-');\n",
    "f2_ax1.grid(b=True, which='minor', color='black', alpha=0.01, linestyle='-');\n",
    "f2_ax1.legend(loc= (0.28, 0.90), frameon=False, fontsize= 12);\n",
    "ax2.legend(loc= (0.28, 0.82), frameon=False, fontsize= 12);\n",
    "\n",
    "f2_ax2 = fig2.add_subplot(gs[0, 2:4])\n",
    "f2_ax2.set_title(r'IM Desert', fontsize= 14);\n",
    "ax3= f2_ax2.twinx()\n",
    "f2_ax2.plot(month_arr, mon_fire_freq(wildfiredf= wildfire_df, regindx= 13).flatten(), color= 'coral', label= 'Large (> 405 ha) fire frequency');\n",
    "ax3.plot(month_arr, mon_burned_area(firefile= fire_file, regindx= 13, final_year= 2019), color= 'gold', label= 'Summer burned area');\n",
    "f2_ax2.set_xticks((year_arr - 1984 + 1)*12 - 1);\n",
    "f2_ax2.set_xticklabels(year_arr)\n",
    "f2_ax2.set_ylim(0, 100);\n",
    "#f2_ax2.set_ylabel(r'Frequency', fontsize= 12);\n",
    "ax3.set_ylim(0, 4500);\n",
    "ax3.set_ylabel(r'Burned area [${\\rm km}^2$]', fontsize= 12, labelpad= 15, rotation= 270);\n",
    "f2_ax2.tick_params(labeltop=False, top=True, labelleft= False, labelright=False, right=False, which='both', labelsize= 12);\n",
    "ax3.tick_params(labeltop=False, top=True, labelright=True, right=True, which='both', labelsize= 12);\n",
    "f2_ax2.grid(b=True, which='major', color='black', alpha=0.05, linestyle='-');\n",
    "f2_ax2.grid(b=True, which='minor', color='black', alpha=0.01, linestyle='-');\n",
    "f2_ax2.legend(loc= (0.45, 0.90), frameon=False, fontsize= 12);\n",
    "ax3.legend(loc= (0.45, 0.82), frameon=False, fontsize= 12);\n",
    "\n",
    "f2_ax3 = fig2.add_subplot(gs[1, 0])\n",
    "f2_ax3.plot(pred_var_sierra, sum_freq_sierra, 'o', markersize= 10, \n",
    "                                                markerfacecolor= 'turquoise', \n",
    "                                                markeredgecolor= 'turquoise',\n",
    "                                                linestyle= 'None');\n",
    "f2_ax3.plot(pred_var_sierra, pred_freq_sierra, color= 'black', lw= 2, label=r'$r = %.2f$'%np.sqrt(r_sierra));\n",
    "f2_ax3.set_xlabel(r\"Mar-Oct VPD $\\ [{\\rm hPa}]$\", fontsize= 12);\n",
    "f2_ax3.set_title(r'Frequency', fontsize= 12)\n",
    "f2_ax3.legend(loc='best', frameon=True, fontsize=12);\n",
    "f2_ax3.tick_params(labeltop=False, top=True, labelright=False, right=False, which='both', labelsize= 12);\n",
    "f2_ax3.grid(b=True, which='major', color='black', alpha=0.05, linestyle='-');\n",
    "f2_ax3.grid(b=True, which='minor', color='black', alpha=0.01, linestyle='-');\n",
    "\n",
    "\n",
    "f2_ax4 = fig2.add_subplot(gs[1, 1])\n",
    "f2_ax4.barh(ypos, coeff_sierra, align= \"center\", color= 'forestgreen');\n",
    "f2_ax4.set_xlim(-1.2, 1.2);\n",
    "f2_ax4.set_xlabel(r\"Normalized coefficients\", fontsize= 12);\n",
    "f2_ax4.set_yticks(ypos);\n",
    "f2_ax4.set_yticklabels(pred_var_arr, fontsize= 12);\n",
    "f2_ax4.tick_params(labeltop=False, top=True, labelright=False, right=False, which='both', labelsize= 12);\n",
    "f2_ax4.grid(b=True, which='major', color='black', alpha=0.05, linestyle='-');\n",
    "f2_ax4.grid(b=True, which='minor', color='black', alpha=0.01, linestyle='-');\n",
    "f2_ax4.text(0.55, 4.7, r\"${\\rm R}^2 = %.2f$\"%r2_sierra, fontsize= 12, bbox=dict(facecolor='none', edgecolor='grey', boxstyle='round', pad=0.3));\n",
    "f2_ax4.set_title(r'Burned Area', fontsize= 12);\n",
    "\n",
    "f2_ax5 = fig2.add_subplot(gs[1, 2])\n",
    "f2_ax5.plot(pred_var_imdesert, sum_freq_imdesert, 'o', markersize= 10, \n",
    "                                                markerfacecolor= 'coral', \n",
    "                                                markeredgecolor= 'coral',\n",
    "                                                linestyle= 'None');\n",
    "f2_ax5.plot(pred_var_imdesert, pred_freq_imdesert, color= 'black', lw= 2, label=r'$r = %.2f$'%np.sqrt(r_imdesert));\n",
    "f2_ax5.set_xlabel(r\"Mar-Oct VPD $\\ [{\\rm hPa}]$\", fontsize= 12);\n",
    "f2_ax5.set_title(r'Frequency', fontsize= 12)\n",
    "f2_ax5.legend(loc='best', frameon=True, fontsize=12);\n",
    "f2_ax5.tick_params(labeltop=False, top=True, labelright=False, right=False, which='both', labelsize= 12);\n",
    "f2_ax5.grid(b=True, which='major', color='black', alpha=0.05, linestyle='-');\n",
    "f2_ax5.grid(b=True, which='minor', color='black', alpha=0.01, linestyle='-');\n",
    "\n",
    "f2_ax6= fig2.add_subplot(gs[1, 3])\n",
    "f2_ax6.barh(ypos, coeff_imdesert, align= \"center\", color= 'gold');\n",
    "f2_ax6.set_xlim(-1.2, 1.2);\n",
    "f2_ax6.set_xlabel(r\"Normalized coefficients\", fontsize= 12);\n",
    "f2_ax6.set_yticks(ypos);\n",
    "f2_ax6.set_yticklabels(pred_var_arr, fontsize= 12);\n",
    "f2_ax6.tick_params(labeltop=False, top=True, labelright=False, right=False, which='both', labelsize= 12);\n",
    "f2_ax6.grid(b=True, which='major', color='black', alpha=0.05, linestyle='-');\n",
    "f2_ax6.grid(b=True, which='minor', color='black', alpha=0.01, linestyle='-');\n",
    "f2_ax6.text(0.55, 4.7, r\"${\\rm R}^2 = %.2f$\"%r2_imdesert, fontsize= 12, bbox=dict(facecolor='none', edgecolor='grey', boxstyle='round', pad=0.3));\n",
    "f2_ax6.set_title(r'Burned Area', fontsize= 12);\n",
    "\n",
    "#plt.savefig(outfilepath + 'clim_fire_freq_area.pdf', bbox_inches='tight');"
   ]
  },
  {
   "cell_type": "code",
   "execution_count": null,
   "id": "08af1037-404b-4d20-8db3-d15628020766",
   "metadata": {},
   "outputs": [],
   "source": []
  }
 ],
 "metadata": {
  "kernelspec": {
   "display_name": "Python 3",
   "language": "python",
   "name": "python3"
  },
  "language_info": {
   "codemirror_mode": {
    "name": "ipython",
    "version": 3
   },
   "file_extension": ".py",
   "mimetype": "text/x-python",
   "name": "python",
   "nbconvert_exporter": "python",
   "pygments_lexer": "ipython3",
   "version": "3.7.10"
  }
 },
 "nbformat": 4,
 "nbformat_minor": 5
}
